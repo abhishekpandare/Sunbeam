{
 "cells": [
  {
   "cell_type": "code",
   "execution_count": null,
   "id": "60fbacb0",
   "metadata": {},
   "outputs": [],
   "source": [
    "Que1.-\n",
    "Predict if a person would buy life insurance based on his age using logistic regression.\n",
    "About Dataset - Age: Age of a person\n",
    "bought_insurance : whether person buys Insurance or not (0 - No, 1 - Yes)\n",
    "predict it for Age : 58,30,20,49,53\n",
    "\n",
    "Dataset : insurance_data.csv"
   ]
  },
  {
   "cell_type": "code",
   "execution_count": 1,
   "id": "47e8ec67",
   "metadata": {},
   "outputs": [],
   "source": [
    "import pandas as pd\n",
    "import numpy as np\n",
    "import seaborn as sns\n",
    "import matplotlib.pyplot as plt"
   ]
  },
  {
   "cell_type": "code",
   "execution_count": 2,
   "id": "6c1ee5af",
   "metadata": {},
   "outputs": [
    {
     "data": {
      "text/html": [
       "<div>\n",
       "<style scoped>\n",
       "    .dataframe tbody tr th:only-of-type {\n",
       "        vertical-align: middle;\n",
       "    }\n",
       "\n",
       "    .dataframe tbody tr th {\n",
       "        vertical-align: top;\n",
       "    }\n",
       "\n",
       "    .dataframe thead th {\n",
       "        text-align: right;\n",
       "    }\n",
       "</style>\n",
       "<table border=\"1\" class=\"dataframe\">\n",
       "  <thead>\n",
       "    <tr style=\"text-align: right;\">\n",
       "      <th></th>\n",
       "      <th>age</th>\n",
       "      <th>bought_insurance</th>\n",
       "    </tr>\n",
       "  </thead>\n",
       "  <tbody>\n",
       "    <tr>\n",
       "      <th>0</th>\n",
       "      <td>22</td>\n",
       "      <td>0</td>\n",
       "    </tr>\n",
       "    <tr>\n",
       "      <th>1</th>\n",
       "      <td>25</td>\n",
       "      <td>0</td>\n",
       "    </tr>\n",
       "    <tr>\n",
       "      <th>2</th>\n",
       "      <td>47</td>\n",
       "      <td>1</td>\n",
       "    </tr>\n",
       "    <tr>\n",
       "      <th>3</th>\n",
       "      <td>52</td>\n",
       "      <td>0</td>\n",
       "    </tr>\n",
       "    <tr>\n",
       "      <th>4</th>\n",
       "      <td>46</td>\n",
       "      <td>1</td>\n",
       "    </tr>\n",
       "  </tbody>\n",
       "</table>\n",
       "</div>"
      ],
      "text/plain": [
       "   age  bought_insurance\n",
       "0   22                 0\n",
       "1   25                 0\n",
       "2   47                 1\n",
       "3   52                 0\n",
       "4   46                 1"
      ]
     },
     "execution_count": 2,
     "metadata": {},
     "output_type": "execute_result"
    }
   ],
   "source": [
    "df = pd.read_csv('insurance_data.csv')\n",
    "df.head()"
   ]
  },
  {
   "cell_type": "code",
   "execution_count": 10,
   "id": "3aa17921",
   "metadata": {},
   "outputs": [],
   "source": [
    "x = df[[\"age\"]]\n",
    "y = df[[\"bought_insurance\"]]"
   ]
  },
  {
   "cell_type": "code",
   "execution_count": 3,
   "id": "d3daab50",
   "metadata": {},
   "outputs": [],
   "source": [
    "from sklearn.linear_model import LogisticRegression"
   ]
  },
  {
   "cell_type": "code",
   "execution_count": 6,
   "id": "ce7ba26a",
   "metadata": {},
   "outputs": [],
   "source": [
    "model = LogisticRegression()"
   ]
  },
  {
   "cell_type": "code",
   "execution_count": 11,
   "id": "cbc92705",
   "metadata": {},
   "outputs": [
    {
     "name": "stderr",
     "output_type": "stream",
     "text": [
      "C:\\python 3.10\\lib\\site-packages\\sklearn\\utils\\validation.py:1143: DataConversionWarning: A column-vector y was passed when a 1d array was expected. Please change the shape of y to (n_samples, ), for example using ravel().\n",
      "  y = column_or_1d(y, warn=True)\n"
     ]
    }
   ],
   "source": [
    "model = model.fit(x,y)"
   ]
  },
  {
   "cell_type": "code",
   "execution_count": 14,
   "id": "94538cec",
   "metadata": {},
   "outputs": [
    {
     "name": "stderr",
     "output_type": "stream",
     "text": [
      "C:\\python 3.10\\lib\\site-packages\\sklearn\\base.py:439: UserWarning: X does not have valid feature names, but LogisticRegression was fitted with feature names\n",
      "  warnings.warn(\n"
     ]
    },
    {
     "data": {
      "text/plain": [
       "array([1, 0, 0, 1, 1], dtype=int64)"
      ]
     },
     "execution_count": 14,
     "metadata": {},
     "output_type": "execute_result"
    }
   ],
   "source": [
    "model.predict([[58],[30],[20],[49],[53]])"
   ]
  },
  {
   "cell_type": "code",
   "execution_count": 15,
   "id": "32343507",
   "metadata": {},
   "outputs": [],
   "source": [
    "from sklearn.model_selection import train_test_split"
   ]
  },
  {
   "cell_type": "code",
   "execution_count": 16,
   "id": "5f4b5b30",
   "metadata": {},
   "outputs": [],
   "source": [
    "x_train,x_test,y_train,y_test = train_test_split(x,y,random_state=45,train_size=0.8)"
   ]
  },
  {
   "cell_type": "code",
   "execution_count": 17,
   "id": "fd5b93ca",
   "metadata": {},
   "outputs": [
    {
     "name": "stderr",
     "output_type": "stream",
     "text": [
      "C:\\python 3.10\\lib\\site-packages\\sklearn\\utils\\validation.py:1143: DataConversionWarning: A column-vector y was passed when a 1d array was expected. Please change the shape of y to (n_samples, ), for example using ravel().\n",
      "  y = column_or_1d(y, warn=True)\n"
     ]
    }
   ],
   "source": [
    "model = model.fit(x_train,y_train)"
   ]
  },
  {
   "cell_type": "code",
   "execution_count": 18,
   "id": "1b6a09c1",
   "metadata": {},
   "outputs": [
    {
     "data": {
      "text/plain": [
       "array([0, 0, 0, 0, 0, 1], dtype=int64)"
      ]
     },
     "execution_count": 18,
     "metadata": {},
     "output_type": "execute_result"
    }
   ],
   "source": [
    "y_predict = model.predict(x_test)\n",
    "y_predict"
   ]
  },
  {
   "cell_type": "code",
   "execution_count": 19,
   "id": "8d4aa988",
   "metadata": {},
   "outputs": [
    {
     "data": {
      "text/html": [
       "<div>\n",
       "<style scoped>\n",
       "    .dataframe tbody tr th:only-of-type {\n",
       "        vertical-align: middle;\n",
       "    }\n",
       "\n",
       "    .dataframe tbody tr th {\n",
       "        vertical-align: top;\n",
       "    }\n",
       "\n",
       "    .dataframe thead th {\n",
       "        text-align: right;\n",
       "    }\n",
       "</style>\n",
       "<table border=\"1\" class=\"dataframe\">\n",
       "  <thead>\n",
       "    <tr style=\"text-align: right;\">\n",
       "      <th></th>\n",
       "      <th>bought_insurance</th>\n",
       "    </tr>\n",
       "  </thead>\n",
       "  <tbody>\n",
       "    <tr>\n",
       "      <th>10</th>\n",
       "      <td>0</td>\n",
       "    </tr>\n",
       "    <tr>\n",
       "      <th>22</th>\n",
       "      <td>1</td>\n",
       "    </tr>\n",
       "    <tr>\n",
       "      <th>26</th>\n",
       "      <td>0</td>\n",
       "    </tr>\n",
       "    <tr>\n",
       "      <th>16</th>\n",
       "      <td>1</td>\n",
       "    </tr>\n",
       "    <tr>\n",
       "      <th>13</th>\n",
       "      <td>0</td>\n",
       "    </tr>\n",
       "    <tr>\n",
       "      <th>24</th>\n",
       "      <td>1</td>\n",
       "    </tr>\n",
       "  </tbody>\n",
       "</table>\n",
       "</div>"
      ],
      "text/plain": [
       "    bought_insurance\n",
       "10                 0\n",
       "22                 1\n",
       "26                 0\n",
       "16                 1\n",
       "13                 0\n",
       "24                 1"
      ]
     },
     "execution_count": 19,
     "metadata": {},
     "output_type": "execute_result"
    }
   ],
   "source": [
    "y_test"
   ]
  },
  {
   "cell_type": "code",
   "execution_count": 20,
   "id": "fa5e5646",
   "metadata": {},
   "outputs": [],
   "source": [
    "from sklearn.metrics import confusion_matrix,accuracy_score"
   ]
  },
  {
   "cell_type": "code",
   "execution_count": 21,
   "id": "807de809",
   "metadata": {},
   "outputs": [
    {
     "data": {
      "text/plain": [
       "array([[3, 0],\n",
       "       [2, 1]], dtype=int64)"
      ]
     },
     "execution_count": 21,
     "metadata": {},
     "output_type": "execute_result"
    }
   ],
   "source": [
    "cm = confusion_matrix(y_test,y_predict)\n",
    "cm"
   ]
  },
  {
   "cell_type": "code",
   "execution_count": 22,
   "id": "447897ba",
   "metadata": {},
   "outputs": [
    {
     "data": {
      "text/plain": [
       "0.6666666666666666"
      ]
     },
     "execution_count": 22,
     "metadata": {},
     "output_type": "execute_result"
    }
   ],
   "source": [
    "accuracy = accuracy_score(y_test,y_predict)\n",
    "accuracy"
   ]
  },
  {
   "cell_type": "code",
   "execution_count": null,
   "id": "c06ee84a",
   "metadata": {},
   "outputs": [],
   "source": [
    "Que2.-\n",
    "In this dataset you have to predict that whether we have to give ATTORNEY to the clients or not \n",
    "(0=Yes, 1=No) based on below factors.\n",
    "CLMAGE - Age of Client\n",
    "CLMSEX - Sex of client (0=Male, 1= Female)\n",
    "SEATBELT - Whether client has Seatbelt or not (0=Yes, 1=No)\n",
    "CLMINSUR - Whether Client give Insurance or not (0=Yes, 1=No)\n",
    "LOSS - Loss that client faced\n",
    "\n",
    "Prepare model by using logistic regression & Also calculate Accuracy by confusion matrix, \n",
    "Calculate accuracy score, precision score, recall score, f1 score, roc auc score, precision, \n",
    "recall and plot ROC Curve.\n",
    "\n",
    "Dataset : Claimants.csv"
   ]
  },
  {
   "cell_type": "code",
   "execution_count": 23,
   "id": "a3ea622f",
   "metadata": {},
   "outputs": [
    {
     "data": {
      "text/html": [
       "<div>\n",
       "<style scoped>\n",
       "    .dataframe tbody tr th:only-of-type {\n",
       "        vertical-align: middle;\n",
       "    }\n",
       "\n",
       "    .dataframe tbody tr th {\n",
       "        vertical-align: top;\n",
       "    }\n",
       "\n",
       "    .dataframe thead th {\n",
       "        text-align: right;\n",
       "    }\n",
       "</style>\n",
       "<table border=\"1\" class=\"dataframe\">\n",
       "  <thead>\n",
       "    <tr style=\"text-align: right;\">\n",
       "      <th></th>\n",
       "      <th>ATTORNEY</th>\n",
       "      <th>CLMSEX</th>\n",
       "      <th>CLMINSUR</th>\n",
       "      <th>SEATBELT</th>\n",
       "      <th>CLMAGE</th>\n",
       "      <th>LOSS</th>\n",
       "    </tr>\n",
       "  </thead>\n",
       "  <tbody>\n",
       "    <tr>\n",
       "      <th>0</th>\n",
       "      <td>0</td>\n",
       "      <td>0.0</td>\n",
       "      <td>1.0</td>\n",
       "      <td>0.0</td>\n",
       "      <td>50.0</td>\n",
       "      <td>34.940</td>\n",
       "    </tr>\n",
       "    <tr>\n",
       "      <th>1</th>\n",
       "      <td>1</td>\n",
       "      <td>1.0</td>\n",
       "      <td>0.0</td>\n",
       "      <td>0.0</td>\n",
       "      <td>18.0</td>\n",
       "      <td>0.891</td>\n",
       "    </tr>\n",
       "    <tr>\n",
       "      <th>2</th>\n",
       "      <td>1</td>\n",
       "      <td>0.0</td>\n",
       "      <td>1.0</td>\n",
       "      <td>0.0</td>\n",
       "      <td>5.0</td>\n",
       "      <td>0.330</td>\n",
       "    </tr>\n",
       "    <tr>\n",
       "      <th>3</th>\n",
       "      <td>0</td>\n",
       "      <td>0.0</td>\n",
       "      <td>1.0</td>\n",
       "      <td>1.0</td>\n",
       "      <td>31.0</td>\n",
       "      <td>0.037</td>\n",
       "    </tr>\n",
       "    <tr>\n",
       "      <th>4</th>\n",
       "      <td>1</td>\n",
       "      <td>0.0</td>\n",
       "      <td>1.0</td>\n",
       "      <td>0.0</td>\n",
       "      <td>30.0</td>\n",
       "      <td>0.038</td>\n",
       "    </tr>\n",
       "  </tbody>\n",
       "</table>\n",
       "</div>"
      ],
      "text/plain": [
       "   ATTORNEY  CLMSEX  CLMINSUR  SEATBELT  CLMAGE    LOSS\n",
       "0         0     0.0       1.0       0.0    50.0  34.940\n",
       "1         1     1.0       0.0       0.0    18.0   0.891\n",
       "2         1     0.0       1.0       0.0     5.0   0.330\n",
       "3         0     0.0       1.0       1.0    31.0   0.037\n",
       "4         1     0.0       1.0       0.0    30.0   0.038"
      ]
     },
     "execution_count": 23,
     "metadata": {},
     "output_type": "execute_result"
    }
   ],
   "source": [
    "df = pd.read_csv('claimants.csv')\n",
    "df.head()"
   ]
  },
  {
   "cell_type": "code",
   "execution_count": 24,
   "id": "7773eb0e",
   "metadata": {},
   "outputs": [
    {
     "name": "stdout",
     "output_type": "stream",
     "text": [
      "<class 'pandas.core.frame.DataFrame'>\n",
      "RangeIndex: 1340 entries, 0 to 1339\n",
      "Data columns (total 6 columns):\n",
      " #   Column    Non-Null Count  Dtype  \n",
      "---  ------    --------------  -----  \n",
      " 0   ATTORNEY  1340 non-null   int64  \n",
      " 1   CLMSEX    1328 non-null   float64\n",
      " 2   CLMINSUR  1299 non-null   float64\n",
      " 3   SEATBELT  1292 non-null   float64\n",
      " 4   CLMAGE    1151 non-null   float64\n",
      " 5   LOSS      1340 non-null   float64\n",
      "dtypes: float64(5), int64(1)\n",
      "memory usage: 62.9 KB\n"
     ]
    }
   ],
   "source": [
    "df.info()"
   ]
  },
  {
   "cell_type": "code",
   "execution_count": 26,
   "id": "9c405323",
   "metadata": {},
   "outputs": [
    {
     "data": {
      "text/plain": [
       "1.0"
      ]
     },
     "execution_count": 26,
     "metadata": {},
     "output_type": "execute_result"
    }
   ],
   "source": [
    "x = df[\"CLMSEX\"].mode()[0]\n",
    "x"
   ]
  },
  {
   "cell_type": "code",
   "execution_count": 27,
   "id": "3616bfb5",
   "metadata": {},
   "outputs": [],
   "source": [
    "df[\"CLMSEX\"].fillna(x,inplace=True)"
   ]
  },
  {
   "cell_type": "code",
   "execution_count": 29,
   "id": "f7f86cdb",
   "metadata": {},
   "outputs": [
    {
     "data": {
      "text/plain": [
       "1.0"
      ]
     },
     "execution_count": 29,
     "metadata": {},
     "output_type": "execute_result"
    }
   ],
   "source": [
    "df[\"CLMINSUR\"].median()"
   ]
  },
  {
   "cell_type": "code",
   "execution_count": 28,
   "id": "a0c3526e",
   "metadata": {},
   "outputs": [
    {
     "data": {
      "text/plain": [
       "0    1.0\n",
       "Name: CLMINSUR, dtype: float64"
      ]
     },
     "execution_count": 28,
     "metadata": {},
     "output_type": "execute_result"
    }
   ],
   "source": [
    "x = df[\"CLMINSUR\"].mode()[0]"
   ]
  },
  {
   "cell_type": "code",
   "execution_count": 30,
   "id": "92cddf84",
   "metadata": {},
   "outputs": [],
   "source": [
    "df[\"CLMINSUR\"].fillna(x,inplace=True)"
   ]
  },
  {
   "cell_type": "code",
   "execution_count": 33,
   "id": "4d1930af",
   "metadata": {},
   "outputs": [],
   "source": [
    "df[\"SEATBELT\"].fillna(df[\"SEATBELT\"].mode()[0],inplace=True)"
   ]
  },
  {
   "cell_type": "code",
   "execution_count": 38,
   "id": "c601401e",
   "metadata": {},
   "outputs": [],
   "source": [
    "df[\"CLMAGE\"].fillna(df[\"CLMAGE\"].mean(),inplace=True)"
   ]
  },
  {
   "cell_type": "code",
   "execution_count": 39,
   "id": "69d1f4e1",
   "metadata": {},
   "outputs": [
    {
     "data": {
      "text/html": [
       "<div>\n",
       "<style scoped>\n",
       "    .dataframe tbody tr th:only-of-type {\n",
       "        vertical-align: middle;\n",
       "    }\n",
       "\n",
       "    .dataframe tbody tr th {\n",
       "        vertical-align: top;\n",
       "    }\n",
       "\n",
       "    .dataframe thead th {\n",
       "        text-align: right;\n",
       "    }\n",
       "</style>\n",
       "<table border=\"1\" class=\"dataframe\">\n",
       "  <thead>\n",
       "    <tr style=\"text-align: right;\">\n",
       "      <th></th>\n",
       "      <th>ATTORNEY</th>\n",
       "      <th>CLMSEX</th>\n",
       "      <th>CLMINSUR</th>\n",
       "      <th>SEATBELT</th>\n",
       "      <th>CLMAGE</th>\n",
       "      <th>LOSS</th>\n",
       "    </tr>\n",
       "  </thead>\n",
       "  <tbody>\n",
       "    <tr>\n",
       "      <th>count</th>\n",
       "      <td>1340.000000</td>\n",
       "      <td>1340.000000</td>\n",
       "      <td>1340.000000</td>\n",
       "      <td>1340.000000</td>\n",
       "      <td>1340.000000</td>\n",
       "      <td>1340.000000</td>\n",
       "    </tr>\n",
       "    <tr>\n",
       "      <th>mean</th>\n",
       "      <td>0.488806</td>\n",
       "      <td>0.562687</td>\n",
       "      <td>0.910448</td>\n",
       "      <td>0.016418</td>\n",
       "      <td>28.414422</td>\n",
       "      <td>3.806307</td>\n",
       "    </tr>\n",
       "    <tr>\n",
       "      <th>std</th>\n",
       "      <td>0.500061</td>\n",
       "      <td>0.496240</td>\n",
       "      <td>0.285646</td>\n",
       "      <td>0.127124</td>\n",
       "      <td>18.816978</td>\n",
       "      <td>10.636903</td>\n",
       "    </tr>\n",
       "    <tr>\n",
       "      <th>min</th>\n",
       "      <td>0.000000</td>\n",
       "      <td>0.000000</td>\n",
       "      <td>0.000000</td>\n",
       "      <td>0.000000</td>\n",
       "      <td>0.000000</td>\n",
       "      <td>0.000000</td>\n",
       "    </tr>\n",
       "    <tr>\n",
       "      <th>25%</th>\n",
       "      <td>0.000000</td>\n",
       "      <td>0.000000</td>\n",
       "      <td>1.000000</td>\n",
       "      <td>0.000000</td>\n",
       "      <td>10.000000</td>\n",
       "      <td>0.400000</td>\n",
       "    </tr>\n",
       "    <tr>\n",
       "      <th>50%</th>\n",
       "      <td>0.000000</td>\n",
       "      <td>1.000000</td>\n",
       "      <td>1.000000</td>\n",
       "      <td>0.000000</td>\n",
       "      <td>28.414422</td>\n",
       "      <td>1.069500</td>\n",
       "    </tr>\n",
       "    <tr>\n",
       "      <th>75%</th>\n",
       "      <td>1.000000</td>\n",
       "      <td>1.000000</td>\n",
       "      <td>1.000000</td>\n",
       "      <td>0.000000</td>\n",
       "      <td>40.000000</td>\n",
       "      <td>3.781500</td>\n",
       "    </tr>\n",
       "    <tr>\n",
       "      <th>max</th>\n",
       "      <td>1.000000</td>\n",
       "      <td>1.000000</td>\n",
       "      <td>1.000000</td>\n",
       "      <td>1.000000</td>\n",
       "      <td>95.000000</td>\n",
       "      <td>173.604000</td>\n",
       "    </tr>\n",
       "  </tbody>\n",
       "</table>\n",
       "</div>"
      ],
      "text/plain": [
       "          ATTORNEY       CLMSEX     CLMINSUR     SEATBELT       CLMAGE  \\\n",
       "count  1340.000000  1340.000000  1340.000000  1340.000000  1340.000000   \n",
       "mean      0.488806     0.562687     0.910448     0.016418    28.414422   \n",
       "std       0.500061     0.496240     0.285646     0.127124    18.816978   \n",
       "min       0.000000     0.000000     0.000000     0.000000     0.000000   \n",
       "25%       0.000000     0.000000     1.000000     0.000000    10.000000   \n",
       "50%       0.000000     1.000000     1.000000     0.000000    28.414422   \n",
       "75%       1.000000     1.000000     1.000000     0.000000    40.000000   \n",
       "max       1.000000     1.000000     1.000000     1.000000    95.000000   \n",
       "\n",
       "              LOSS  \n",
       "count  1340.000000  \n",
       "mean      3.806307  \n",
       "std      10.636903  \n",
       "min       0.000000  \n",
       "25%       0.400000  \n",
       "50%       1.069500  \n",
       "75%       3.781500  \n",
       "max     173.604000  "
      ]
     },
     "execution_count": 39,
     "metadata": {},
     "output_type": "execute_result"
    }
   ],
   "source": [
    "df.describe()"
   ]
  },
  {
   "cell_type": "code",
   "execution_count": 40,
   "id": "a1bcaf68",
   "metadata": {},
   "outputs": [
    {
     "name": "stdout",
     "output_type": "stream",
     "text": [
      "<class 'pandas.core.frame.DataFrame'>\n",
      "RangeIndex: 1340 entries, 0 to 1339\n",
      "Data columns (total 6 columns):\n",
      " #   Column    Non-Null Count  Dtype  \n",
      "---  ------    --------------  -----  \n",
      " 0   ATTORNEY  1340 non-null   int64  \n",
      " 1   CLMSEX    1340 non-null   float64\n",
      " 2   CLMINSUR  1340 non-null   float64\n",
      " 3   SEATBELT  1340 non-null   float64\n",
      " 4   CLMAGE    1340 non-null   float64\n",
      " 5   LOSS      1340 non-null   float64\n",
      "dtypes: float64(5), int64(1)\n",
      "memory usage: 62.9 KB\n"
     ]
    }
   ],
   "source": [
    "df.info()"
   ]
  },
  {
   "cell_type": "code",
   "execution_count": 41,
   "id": "6068f4ef",
   "metadata": {},
   "outputs": [],
   "source": [
    "x = df.drop(\"ATTORNEY\",axis=1)\n",
    "y = df[\"ATTORNEY\"]"
   ]
  },
  {
   "cell_type": "code",
   "execution_count": 42,
   "id": "0749053e",
   "metadata": {},
   "outputs": [],
   "source": [
    "from sklearn.model_selection import train_test_split\n",
    "x_train,x_test,y_train,y_test = train_test_split(x,y,train_size=0.8,random_state=45)"
   ]
  },
  {
   "cell_type": "code",
   "execution_count": 43,
   "id": "40f53bcc",
   "metadata": {},
   "outputs": [
    {
     "data": {
      "text/plain": [
       "array([1, 1, 0, 1, 1, 1, 0, 1, 0, 1, 0, 0, 1, 0, 1, 1, 1, 1, 0, 0, 0, 1,\n",
       "       0, 0, 0, 0, 1, 1, 1, 0, 1, 1, 1, 0, 1, 1, 0, 0, 1, 1, 0, 1, 1, 0,\n",
       "       1, 1, 1, 1, 1, 1, 1, 0, 1, 0, 0, 1, 1, 1, 1, 0, 0, 0, 1, 0, 0, 0,\n",
       "       1, 0, 1, 0, 1, 1, 0, 1, 0, 1, 0, 1, 0, 1, 1, 1, 0, 1, 1, 1, 1, 1,\n",
       "       1, 0, 1, 0, 1, 1, 0, 1, 0, 1, 0, 1, 1, 1, 1, 1, 0, 1, 1, 0, 0, 1,\n",
       "       0, 1, 1, 1, 0, 1, 1, 0, 1, 0, 0, 0, 1, 1, 1, 1, 1, 1, 1, 1, 1, 1,\n",
       "       1, 1, 1, 1, 1, 0, 1, 1, 0, 1, 0, 0, 1, 1, 0, 0, 1, 1, 1, 1, 1, 1,\n",
       "       1, 1, 0, 1, 0, 1, 0, 1, 0, 1, 1, 1, 1, 1, 1, 0, 1, 1, 1, 0, 1, 1,\n",
       "       0, 0, 0, 0, 1, 0, 1, 1, 1, 0, 1, 1, 0, 1, 1, 0, 0, 0, 1, 1, 1, 1,\n",
       "       0, 1, 1, 0, 1, 0, 1, 1, 1, 0, 1, 0, 0, 1, 0, 0, 1, 1, 0, 0, 1, 1,\n",
       "       1, 1, 0, 1, 0, 0, 0, 1, 1, 1, 0, 0, 0, 0, 1, 1, 1, 1, 1, 1, 0, 0,\n",
       "       0, 0, 0, 0, 1, 0, 1, 0, 1, 1, 0, 0, 0, 1, 1, 0, 0, 1, 1, 1, 0, 1,\n",
       "       1, 1, 0, 1], dtype=int64)"
      ]
     },
     "execution_count": 43,
     "metadata": {},
     "output_type": "execute_result"
    }
   ],
   "source": [
    "from sklearn.linear_model import LogisticRegression\n",
    "model = LogisticRegression()\n",
    "model = model.fit(x_train,y_train)\n",
    "y_predict = model.predict(x_test)\n",
    "y_predict"
   ]
  },
  {
   "cell_type": "code",
   "execution_count": 44,
   "id": "bbe4d42c",
   "metadata": {},
   "outputs": [
    {
     "data": {
      "text/plain": [
       "422     0\n",
       "315     1\n",
       "193     1\n",
       "581     1\n",
       "1115    0\n",
       "       ..\n",
       "87      1\n",
       "116     1\n",
       "9       1\n",
       "1090    1\n",
       "724     0\n",
       "Name: ATTORNEY, Length: 268, dtype: int64"
      ]
     },
     "execution_count": 44,
     "metadata": {},
     "output_type": "execute_result"
    }
   ],
   "source": [
    "y_test"
   ]
  },
  {
   "cell_type": "code",
   "execution_count": 56,
   "id": "1442b965",
   "metadata": {},
   "outputs": [],
   "source": [
    "from sklearn.metrics import confusion_matrix,auc,accuracy_score,precision_score,recall_score,f1_score,roc_auc_score,roc_curve"
   ]
  },
  {
   "cell_type": "code",
   "execution_count": 46,
   "id": "4eb62dc6",
   "metadata": {},
   "outputs": [
    {
     "data": {
      "text/plain": [
       "array([[ 79,  54],\n",
       "       [ 25, 110]], dtype=int64)"
      ]
     },
     "execution_count": 46,
     "metadata": {},
     "output_type": "execute_result"
    }
   ],
   "source": [
    "cm = confusion_matrix(y_test,y_predict)\n",
    "cm"
   ]
  },
  {
   "cell_type": "code",
   "execution_count": 47,
   "id": "cf214071",
   "metadata": {},
   "outputs": [
    {
     "data": {
      "image/png": "[encoded data removed]",
      "text/plain": [
       "<Figure size 432x288 with 2 Axes>"
      ]
     },
     "metadata": {
      "needs_background": "light"
     },
     "output_type": "display_data"
    }
   ],
   "source": [
    "sns.heatmap(cm, annot=True, cmap='Blues')\n",
    "plt.xlabel('Predicted')\n",
    "plt.ylabel('True')\n",
    "plt.title('Confusion Matrix')\n",
    "plt.show()"
   ]
  },
  {
   "cell_type": "code",
   "execution_count": 54,
   "id": "a6c061bd",
   "metadata": {},
   "outputs": [
    {
     "name": "stdout",
     "output_type": "stream",
     "text": [
      "Pricision: 0.6707317073170732\n",
      "Recall: 0.8148148148148148\n"
     ]
    }
   ],
   "source": [
    "TP = cm[1,1]\n",
    "TN = cm[0,0]\n",
    "FN = cm[1,0]\n",
    "FP = cm[0,1]\n",
    "Precision = TP / (TP + FP)\n",
    "Recall    = TP / (TP + FN)\n",
    "print(\"Pricision:\",precision)\n",
    "print(\"Recall:\",recall)"
   ]
  },
  {
   "cell_type": "code",
   "execution_count": null,
   "id": "482c622e",
   "metadata": {},
   "outputs": [],
   "source": []
  },
  {
   "cell_type": "code",
   "execution_count": 49,
   "id": "e759a9eb",
   "metadata": {},
   "outputs": [
    {
     "name": "stdout",
     "output_type": "stream",
     "text": [
      "Accuracy Score: 0.7052238805970149\n",
      "Precision Score: 0.6707317073170732\n",
      "Recall Score: 0.8148148148148148\n",
      "F1 Score: 0.7357859531772576\n",
      "Roc Auc Score: 0.7043998886104149\n"
     ]
    }
   ],
   "source": [
    "accuracy = accuracy_score(y_test,y_predict)\n",
    "print(\"Accuracy Score:\",accuracy)\n",
    "precision = precision_score(y_test,y_predict)\n",
    "print(\"Precision Score:\",precision)\n",
    "recall = recall_score(y_test,y_predict)\n",
    "print(\"Recall Score:\",recall)\n",
    "f1 = f1_score(y_test,y_predict)\n",
    "print(\"F1 Score:\",f1)\n",
    "roc_auc = roc_auc_score(y_test,y_predict)\n",
    "print(\"Roc Auc Score:\",roc_auc)\n",
    "\n"
   ]
  },
  {
   "cell_type": "code",
   "execution_count": 57,
   "id": "8ce2639d",
   "metadata": {},
   "outputs": [
    {
     "data": {
      "image/png": "[encoded data removed]",
      "text/plain": [
       "<Figure size 432x288 with 1 Axes>"
      ]
     },
     "metadata": {
      "needs_background": "light"
     },
     "output_type": "display_data"
    }
   ],
   "source": [
    "fpr, tpr, thresholds = roc_curve(y_test,y_predict)\n",
    "roc_auc = auc(fpr, tpr)\n",
    "plt.plot(fpr, tpr, label='ROC Curve (AUC = %0.2f)' % roc_auc)\n",
    "plt.plot([0, 1], [0, 1], 'k--')  # Diagonal line representing random guessing\n",
    "plt.xlabel('False Positive Rate')\n",
    "plt.ylabel('True Positive Rate')\n",
    "plt.title('Receiver Operating Characteristic (ROC) Curve')\n",
    "plt.legend(loc='lower right')\n",
    "plt.show()"
   ]
  },
  {
   "cell_type": "code",
   "execution_count": null,
   "id": "0921375e",
   "metadata": {},
   "outputs": [],
   "source": [
    "Que3.-\n",
    "\n",
    "The models main purpose is to predict the 10-year risk of Coronary Heart Disease (CHD). \n",
    "CHD is a disease of the blood vessels supplying the heart. Heart disease has been the leading cause of\n",
    "death worldwide since 1921. In 2008, 7.3 million people died from CHD. \n",
    "The classification goal is to predict whether the patient has 10-year risk of future coronary heart \n",
    "disease (CHD).The dataset provides the patients’ information. It includes over 4,000 records and 15 \n",
    "attributes.\n",
    "Variables\n",
    "Sex: male or female(0=female, 1=male)\n",
    "Age: Age of the patient\n",
    "education: Some high school (1), high school/GED (2), some college/vocational school (3), college (4)\n",
    "Current Smoker: whether or not the patient is a current smoker (0=No, 1=Yes)\n",
    "Cigs Per Day: the number of cigarettes that the person smoked on average in one day\n",
    "BP Meds: whether or not the patient was on blood pressure medication \n",
    "Prevalent Stroke: whether or not the patient had previously had a stroke (0=No, 1=Yes)\n",
    "Prevalent Hyp: whether or not the patient was hypertensive (0=No, 1=Yes)\n",
    "Diabetes: whether or not the patient had diabetes (0=No, 1=Yes)\n",
    "Tot Chol: total cholesterol level\n",
    "Sys BP: systolic blood pressure \n",
    "Dia BP: diastolic blood pressure\n",
    "BMI: Body Mass Index\n",
    "Heart Rate: heart rate\n",
    "Glucose: glucose level\n",
    "\n",
    "Predict variable (desired target)\n",
    "10 year risk of coronary heart disease CHD (binary: “1”, means “Yes”, “0” means “No”)\n",
    "\n",
    "Also calculate Accuracy by confusion matrix, Calculate accuracy score, precision score, recall score,\n",
    "f1 score, roc auc score, precision, recall and plot ROC Curve.\n",
    "\n",
    "Datasets : framingham.csv\n",
    "\n",
    "\n",
    "NOTES : \n",
    "\n",
    "1. Import the dataset.\n",
    "2. Find out the shape of data.\n",
    "3. Find out null values in all columns.\n",
    "4. Drop all the null values."
   ]
  },
  {
   "cell_type": "code",
   "execution_count": 60,
   "id": "079d2e87",
   "metadata": {},
   "outputs": [
    {
     "data": {
      "text/html": [
       "<div>\n",
       "<style scoped>\n",
       "    .dataframe tbody tr th:only-of-type {\n",
       "        vertical-align: middle;\n",
       "    }\n",
       "\n",
       "    .dataframe tbody tr th {\n",
       "        vertical-align: top;\n",
       "    }\n",
       "\n",
       "    .dataframe thead th {\n",
       "        text-align: right;\n",
       "    }\n",
       "</style>\n",
       "<table border=\"1\" class=\"dataframe\">\n",
       "  <thead>\n",
       "    <tr style=\"text-align: right;\">\n",
       "      <th></th>\n",
       "      <th>male</th>\n",
       "      <th>age</th>\n",
       "      <th>education</th>\n",
       "      <th>currentSmoker</th>\n",
       "      <th>cigsPerDay</th>\n",
       "      <th>BPMeds</th>\n",
       "      <th>prevalentStroke</th>\n",
       "      <th>prevalentHyp</th>\n",
       "      <th>diabetes</th>\n",
       "      <th>totChol</th>\n",
       "      <th>sysBP</th>\n",
       "      <th>diaBP</th>\n",
       "      <th>BMI</th>\n",
       "      <th>heartRate</th>\n",
       "      <th>glucose</th>\n",
       "      <th>TenYearCHD</th>\n",
       "    </tr>\n",
       "  </thead>\n",
       "  <tbody>\n",
       "    <tr>\n",
       "      <th>0</th>\n",
       "      <td>1</td>\n",
       "      <td>39</td>\n",
       "      <td>4.0</td>\n",
       "      <td>0</td>\n",
       "      <td>0.0</td>\n",
       "      <td>0.0</td>\n",
       "      <td>0</td>\n",
       "      <td>0</td>\n",
       "      <td>0</td>\n",
       "      <td>195.0</td>\n",
       "      <td>106.0</td>\n",
       "      <td>70.0</td>\n",
       "      <td>26.97</td>\n",
       "      <td>80.0</td>\n",
       "      <td>77.0</td>\n",
       "      <td>0</td>\n",
       "    </tr>\n",
       "    <tr>\n",
       "      <th>1</th>\n",
       "      <td>0</td>\n",
       "      <td>46</td>\n",
       "      <td>2.0</td>\n",
       "      <td>0</td>\n",
       "      <td>0.0</td>\n",
       "      <td>0.0</td>\n",
       "      <td>0</td>\n",
       "      <td>0</td>\n",
       "      <td>0</td>\n",
       "      <td>250.0</td>\n",
       "      <td>121.0</td>\n",
       "      <td>81.0</td>\n",
       "      <td>28.73</td>\n",
       "      <td>95.0</td>\n",
       "      <td>76.0</td>\n",
       "      <td>0</td>\n",
       "    </tr>\n",
       "    <tr>\n",
       "      <th>2</th>\n",
       "      <td>1</td>\n",
       "      <td>48</td>\n",
       "      <td>1.0</td>\n",
       "      <td>1</td>\n",
       "      <td>20.0</td>\n",
       "      <td>0.0</td>\n",
       "      <td>0</td>\n",
       "      <td>0</td>\n",
       "      <td>0</td>\n",
       "      <td>245.0</td>\n",
       "      <td>127.5</td>\n",
       "      <td>80.0</td>\n",
       "      <td>25.34</td>\n",
       "      <td>75.0</td>\n",
       "      <td>70.0</td>\n",
       "      <td>0</td>\n",
       "    </tr>\n",
       "    <tr>\n",
       "      <th>3</th>\n",
       "      <td>0</td>\n",
       "      <td>61</td>\n",
       "      <td>3.0</td>\n",
       "      <td>1</td>\n",
       "      <td>30.0</td>\n",
       "      <td>0.0</td>\n",
       "      <td>0</td>\n",
       "      <td>1</td>\n",
       "      <td>0</td>\n",
       "      <td>225.0</td>\n",
       "      <td>150.0</td>\n",
       "      <td>95.0</td>\n",
       "      <td>28.58</td>\n",
       "      <td>65.0</td>\n",
       "      <td>103.0</td>\n",
       "      <td>1</td>\n",
       "    </tr>\n",
       "    <tr>\n",
       "      <th>4</th>\n",
       "      <td>0</td>\n",
       "      <td>46</td>\n",
       "      <td>3.0</td>\n",
       "      <td>1</td>\n",
       "      <td>23.0</td>\n",
       "      <td>0.0</td>\n",
       "      <td>0</td>\n",
       "      <td>0</td>\n",
       "      <td>0</td>\n",
       "      <td>285.0</td>\n",
       "      <td>130.0</td>\n",
       "      <td>84.0</td>\n",
       "      <td>23.10</td>\n",
       "      <td>85.0</td>\n",
       "      <td>85.0</td>\n",
       "      <td>0</td>\n",
       "    </tr>\n",
       "  </tbody>\n",
       "</table>\n",
       "</div>"
      ],
      "text/plain": [
       "   male  age  education  currentSmoker  cigsPerDay  BPMeds  prevalentStroke  \\\n",
       "0     1   39        4.0              0         0.0     0.0                0   \n",
       "1     0   46        2.0              0         0.0     0.0                0   \n",
       "2     1   48        1.0              1        20.0     0.0                0   \n",
       "3     0   61        3.0              1        30.0     0.0                0   \n",
       "4     0   46        3.0              1        23.0     0.0                0   \n",
       "\n",
       "   prevalentHyp  diabetes  totChol  sysBP  diaBP    BMI  heartRate  glucose  \\\n",
       "0             0         0    195.0  106.0   70.0  26.97       80.0     77.0   \n",
       "1             0         0    250.0  121.0   81.0  28.73       95.0     76.0   \n",
       "2             0         0    245.0  127.5   80.0  25.34       75.0     70.0   \n",
       "3             1         0    225.0  150.0   95.0  28.58       65.0    103.0   \n",
       "4             0         0    285.0  130.0   84.0  23.10       85.0     85.0   \n",
       "\n",
       "   TenYearCHD  \n",
       "0           0  \n",
       "1           0  \n",
       "2           0  \n",
       "3           1  \n",
       "4           0  "
      ]
     },
     "execution_count": 60,
     "metadata": {},
     "output_type": "execute_result"
    }
   ],
   "source": [
    "df = pd.read_csv('framingham.csv')\n",
    "df.head()"
   ]
  },
  {
   "cell_type": "code",
   "execution_count": 63,
   "id": "325f1b95",
   "metadata": {},
   "outputs": [
    {
     "data": {
      "text/plain": [
       "(4240, 16)"
      ]
     },
     "execution_count": 63,
     "metadata": {},
     "output_type": "execute_result"
    }
   ],
   "source": [
    "df.shape"
   ]
  },
  {
   "cell_type": "code",
   "execution_count": 64,
   "id": "a2536ddf",
   "metadata": {},
   "outputs": [
    {
     "data": {
      "text/plain": [
       "male                 0\n",
       "age                  0\n",
       "education          105\n",
       "currentSmoker        0\n",
       "cigsPerDay          29\n",
       "BPMeds              53\n",
       "prevalentStroke      0\n",
       "prevalentHyp         0\n",
       "diabetes             0\n",
       "totChol             50\n",
       "sysBP                0\n",
       "diaBP                0\n",
       "BMI                 19\n",
       "heartRate            1\n",
       "glucose            388\n",
       "TenYearCHD           0\n",
       "dtype: int64"
      ]
     },
     "execution_count": 64,
     "metadata": {},
     "output_type": "execute_result"
    }
   ],
   "source": [
    "df.isna().sum()"
   ]
  },
  {
   "cell_type": "code",
   "execution_count": 65,
   "id": "1ccaf120",
   "metadata": {},
   "outputs": [],
   "source": [
    "df = df.dropna()"
   ]
  },
  {
   "cell_type": "code",
   "execution_count": 66,
   "id": "fc7208da",
   "metadata": {},
   "outputs": [
    {
     "name": "stdout",
     "output_type": "stream",
     "text": [
      "<class 'pandas.core.frame.DataFrame'>\n",
      "Int64Index: 3658 entries, 0 to 4239\n",
      "Data columns (total 16 columns):\n",
      " #   Column           Non-Null Count  Dtype  \n",
      "---  ------           --------------  -----  \n",
      " 0   male             3658 non-null   int64  \n",
      " 1   age              3658 non-null   int64  \n",
      " 2   education        3658 non-null   float64\n",
      " 3   currentSmoker    3658 non-null   int64  \n",
      " 4   cigsPerDay       3658 non-null   float64\n",
      " 5   BPMeds           3658 non-null   float64\n",
      " 6   prevalentStroke  3658 non-null   int64  \n",
      " 7   prevalentHyp     3658 non-null   int64  \n",
      " 8   diabetes         3658 non-null   int64  \n",
      " 9   totChol          3658 non-null   float64\n",
      " 10  sysBP            3658 non-null   float64\n",
      " 11  diaBP            3658 non-null   float64\n",
      " 12  BMI              3658 non-null   float64\n",
      " 13  heartRate        3658 non-null   float64\n",
      " 14  glucose          3658 non-null   float64\n",
      " 15  TenYearCHD       3658 non-null   int64  \n",
      "dtypes: float64(9), int64(7)\n",
      "memory usage: 485.8 KB\n"
     ]
    }
   ],
   "source": [
    "df.info()"
   ]
  },
  {
   "cell_type": "code",
   "execution_count": 67,
   "id": "ad8d9c40",
   "metadata": {},
   "outputs": [
    {
     "data": {
      "text/html": [
       "<div>\n",
       "<style scoped>\n",
       "    .dataframe tbody tr th:only-of-type {\n",
       "        vertical-align: middle;\n",
       "    }\n",
       "\n",
       "    .dataframe tbody tr th {\n",
       "        vertical-align: top;\n",
       "    }\n",
       "\n",
       "    .dataframe thead th {\n",
       "        text-align: right;\n",
       "    }\n",
       "</style>\n",
       "<table border=\"1\" class=\"dataframe\">\n",
       "  <thead>\n",
       "    <tr style=\"text-align: right;\">\n",
       "      <th></th>\n",
       "      <th>male</th>\n",
       "      <th>age</th>\n",
       "      <th>education</th>\n",
       "      <th>currentSmoker</th>\n",
       "      <th>cigsPerDay</th>\n",
       "      <th>BPMeds</th>\n",
       "      <th>prevalentStroke</th>\n",
       "      <th>prevalentHyp</th>\n",
       "      <th>diabetes</th>\n",
       "      <th>totChol</th>\n",
       "      <th>sysBP</th>\n",
       "      <th>diaBP</th>\n",
       "      <th>BMI</th>\n",
       "      <th>heartRate</th>\n",
       "      <th>glucose</th>\n",
       "      <th>TenYearCHD</th>\n",
       "    </tr>\n",
       "  </thead>\n",
       "  <tbody>\n",
       "    <tr>\n",
       "      <th>male</th>\n",
       "      <td>1.000000</td>\n",
       "      <td>-0.024412</td>\n",
       "      <td>0.017729</td>\n",
       "      <td>0.206114</td>\n",
       "      <td>0.330322</td>\n",
       "      <td>-0.052124</td>\n",
       "      <td>-0.002312</td>\n",
       "      <td>0.001424</td>\n",
       "      <td>0.013819</td>\n",
       "      <td>-0.070321</td>\n",
       "      <td>-0.045358</td>\n",
       "      <td>0.051872</td>\n",
       "      <td>0.073111</td>\n",
       "      <td>-0.115285</td>\n",
       "      <td>0.002940</td>\n",
       "      <td>0.091688</td>\n",
       "    </tr>\n",
       "    <tr>\n",
       "      <th>age</th>\n",
       "      <td>-0.024412</td>\n",
       "      <td>1.000000</td>\n",
       "      <td>-0.159499</td>\n",
       "      <td>-0.210771</td>\n",
       "      <td>-0.189295</td>\n",
       "      <td>0.134732</td>\n",
       "      <td>0.050893</td>\n",
       "      <td>0.306239</td>\n",
       "      <td>0.109092</td>\n",
       "      <td>0.268252</td>\n",
       "      <td>0.388267</td>\n",
       "      <td>0.208283</td>\n",
       "      <td>0.137511</td>\n",
       "      <td>-0.002722</td>\n",
       "      <td>0.118349</td>\n",
       "      <td>0.233983</td>\n",
       "    </tr>\n",
       "    <tr>\n",
       "      <th>education</th>\n",
       "      <td>0.017729</td>\n",
       "      <td>-0.159499</td>\n",
       "      <td>1.000000</td>\n",
       "      <td>0.025251</td>\n",
       "      <td>0.013790</td>\n",
       "      <td>-0.013739</td>\n",
       "      <td>-0.030386</td>\n",
       "      <td>-0.078828</td>\n",
       "      <td>-0.039627</td>\n",
       "      <td>-0.013522</td>\n",
       "      <td>-0.124360</td>\n",
       "      <td>-0.058059</td>\n",
       "      <td>-0.137555</td>\n",
       "      <td>-0.064214</td>\n",
       "      <td>-0.031998</td>\n",
       "      <td>-0.063279</td>\n",
       "    </tr>\n",
       "    <tr>\n",
       "      <th>currentSmoker</th>\n",
       "      <td>0.206114</td>\n",
       "      <td>-0.210771</td>\n",
       "      <td>0.025251</td>\n",
       "      <td>1.000000</td>\n",
       "      <td>0.773913</td>\n",
       "      <td>-0.051923</td>\n",
       "      <td>-0.038150</td>\n",
       "      <td>-0.108078</td>\n",
       "      <td>-0.041849</td>\n",
       "      <td>-0.051034</td>\n",
       "      <td>-0.134428</td>\n",
       "      <td>-0.115955</td>\n",
       "      <td>-0.159821</td>\n",
       "      <td>0.050841</td>\n",
       "      <td>-0.053242</td>\n",
       "      <td>0.019165</td>\n",
       "    </tr>\n",
       "    <tr>\n",
       "      <th>cigsPerDay</th>\n",
       "      <td>0.330322</td>\n",
       "      <td>-0.189295</td>\n",
       "      <td>0.013790</td>\n",
       "      <td>0.773913</td>\n",
       "      <td>1.000000</td>\n",
       "      <td>-0.046504</td>\n",
       "      <td>-0.036286</td>\n",
       "      <td>-0.070460</td>\n",
       "      <td>-0.036961</td>\n",
       "      <td>-0.030400</td>\n",
       "      <td>-0.094781</td>\n",
       "      <td>-0.056746</td>\n",
       "      <td>-0.087395</td>\n",
       "      <td>0.064030</td>\n",
       "      <td>-0.053726</td>\n",
       "      <td>0.052014</td>\n",
       "    </tr>\n",
       "    <tr>\n",
       "      <th>BPMeds</th>\n",
       "      <td>-0.052124</td>\n",
       "      <td>0.134732</td>\n",
       "      <td>-0.013739</td>\n",
       "      <td>-0.051923</td>\n",
       "      <td>-0.046504</td>\n",
       "      <td>1.000000</td>\n",
       "      <td>0.113125</td>\n",
       "      <td>0.262910</td>\n",
       "      <td>0.049066</td>\n",
       "      <td>0.094083</td>\n",
       "      <td>0.271263</td>\n",
       "      <td>0.199630</td>\n",
       "      <td>0.105642</td>\n",
       "      <td>0.012889</td>\n",
       "      <td>0.054232</td>\n",
       "      <td>0.089152</td>\n",
       "    </tr>\n",
       "    <tr>\n",
       "      <th>prevalentStroke</th>\n",
       "      <td>-0.002312</td>\n",
       "      <td>0.050893</td>\n",
       "      <td>-0.030386</td>\n",
       "      <td>-0.038150</td>\n",
       "      <td>-0.036286</td>\n",
       "      <td>0.113125</td>\n",
       "      <td>1.000000</td>\n",
       "      <td>0.066057</td>\n",
       "      <td>0.009625</td>\n",
       "      <td>0.012736</td>\n",
       "      <td>0.061070</td>\n",
       "      <td>0.055834</td>\n",
       "      <td>0.036496</td>\n",
       "      <td>-0.017019</td>\n",
       "      <td>0.016061</td>\n",
       "      <td>0.048366</td>\n",
       "    </tr>\n",
       "    <tr>\n",
       "      <th>prevalentHyp</th>\n",
       "      <td>0.001424</td>\n",
       "      <td>0.306239</td>\n",
       "      <td>-0.078828</td>\n",
       "      <td>-0.108078</td>\n",
       "      <td>-0.070460</td>\n",
       "      <td>0.262910</td>\n",
       "      <td>0.066057</td>\n",
       "      <td>1.000000</td>\n",
       "      <td>0.080556</td>\n",
       "      <td>0.166655</td>\n",
       "      <td>0.697675</td>\n",
       "      <td>0.617734</td>\n",
       "      <td>0.302949</td>\n",
       "      <td>0.146818</td>\n",
       "      <td>0.086942</td>\n",
       "      <td>0.181387</td>\n",
       "    </tr>\n",
       "    <tr>\n",
       "      <th>diabetes</th>\n",
       "      <td>0.013819</td>\n",
       "      <td>0.109092</td>\n",
       "      <td>-0.039627</td>\n",
       "      <td>-0.041849</td>\n",
       "      <td>-0.036961</td>\n",
       "      <td>0.049066</td>\n",
       "      <td>0.009625</td>\n",
       "      <td>0.080556</td>\n",
       "      <td>1.000000</td>\n",
       "      <td>0.048451</td>\n",
       "      <td>0.102552</td>\n",
       "      <td>0.050686</td>\n",
       "      <td>0.089009</td>\n",
       "      <td>0.060984</td>\n",
       "      <td>0.614820</td>\n",
       "      <td>0.093431</td>\n",
       "    </tr>\n",
       "    <tr>\n",
       "      <th>totChol</th>\n",
       "      <td>-0.070321</td>\n",
       "      <td>0.268252</td>\n",
       "      <td>-0.013522</td>\n",
       "      <td>-0.051034</td>\n",
       "      <td>-0.030400</td>\n",
       "      <td>0.094083</td>\n",
       "      <td>0.012736</td>\n",
       "      <td>0.166655</td>\n",
       "      <td>0.048451</td>\n",
       "      <td>1.000000</td>\n",
       "      <td>0.219925</td>\n",
       "      <td>0.174422</td>\n",
       "      <td>0.121056</td>\n",
       "      <td>0.093053</td>\n",
       "      <td>0.049884</td>\n",
       "      <td>0.091338</td>\n",
       "    </tr>\n",
       "    <tr>\n",
       "      <th>sysBP</th>\n",
       "      <td>-0.045358</td>\n",
       "      <td>0.388267</td>\n",
       "      <td>-0.124360</td>\n",
       "      <td>-0.134428</td>\n",
       "      <td>-0.094781</td>\n",
       "      <td>0.271263</td>\n",
       "      <td>0.061070</td>\n",
       "      <td>0.697675</td>\n",
       "      <td>0.102552</td>\n",
       "      <td>0.219925</td>\n",
       "      <td>1.000000</td>\n",
       "      <td>0.786669</td>\n",
       "      <td>0.330917</td>\n",
       "      <td>0.184797</td>\n",
       "      <td>0.134651</td>\n",
       "      <td>0.222821</td>\n",
       "    </tr>\n",
       "    <tr>\n",
       "      <th>diaBP</th>\n",
       "      <td>0.051872</td>\n",
       "      <td>0.208283</td>\n",
       "      <td>-0.058059</td>\n",
       "      <td>-0.115955</td>\n",
       "      <td>-0.056746</td>\n",
       "      <td>0.199630</td>\n",
       "      <td>0.055834</td>\n",
       "      <td>0.617734</td>\n",
       "      <td>0.050686</td>\n",
       "      <td>0.174422</td>\n",
       "      <td>0.786669</td>\n",
       "      <td>1.000000</td>\n",
       "      <td>0.385348</td>\n",
       "      <td>0.178744</td>\n",
       "      <td>0.063540</td>\n",
       "      <td>0.150124</td>\n",
       "    </tr>\n",
       "    <tr>\n",
       "      <th>BMI</th>\n",
       "      <td>0.073111</td>\n",
       "      <td>0.137511</td>\n",
       "      <td>-0.137555</td>\n",
       "      <td>-0.159821</td>\n",
       "      <td>-0.087395</td>\n",
       "      <td>0.105642</td>\n",
       "      <td>0.036496</td>\n",
       "      <td>0.302949</td>\n",
       "      <td>0.089009</td>\n",
       "      <td>0.121056</td>\n",
       "      <td>0.330917</td>\n",
       "      <td>0.385348</td>\n",
       "      <td>1.000000</td>\n",
       "      <td>0.074131</td>\n",
       "      <td>0.083683</td>\n",
       "      <td>0.082055</td>\n",
       "    </tr>\n",
       "    <tr>\n",
       "      <th>heartRate</th>\n",
       "      <td>-0.115285</td>\n",
       "      <td>-0.002722</td>\n",
       "      <td>-0.064214</td>\n",
       "      <td>0.050841</td>\n",
       "      <td>0.064030</td>\n",
       "      <td>0.012889</td>\n",
       "      <td>-0.017019</td>\n",
       "      <td>0.146818</td>\n",
       "      <td>0.060984</td>\n",
       "      <td>0.093053</td>\n",
       "      <td>0.184797</td>\n",
       "      <td>0.178744</td>\n",
       "      <td>0.074131</td>\n",
       "      <td>1.000000</td>\n",
       "      <td>0.097074</td>\n",
       "      <td>0.020514</td>\n",
       "    </tr>\n",
       "    <tr>\n",
       "      <th>glucose</th>\n",
       "      <td>0.002940</td>\n",
       "      <td>0.118349</td>\n",
       "      <td>-0.031998</td>\n",
       "      <td>-0.053242</td>\n",
       "      <td>-0.053726</td>\n",
       "      <td>0.054232</td>\n",
       "      <td>0.016061</td>\n",
       "      <td>0.086942</td>\n",
       "      <td>0.614820</td>\n",
       "      <td>0.049884</td>\n",
       "      <td>0.134651</td>\n",
       "      <td>0.063540</td>\n",
       "      <td>0.083683</td>\n",
       "      <td>0.097074</td>\n",
       "      <td>1.000000</td>\n",
       "      <td>0.121990</td>\n",
       "    </tr>\n",
       "    <tr>\n",
       "      <th>TenYearCHD</th>\n",
       "      <td>0.091688</td>\n",
       "      <td>0.233983</td>\n",
       "      <td>-0.063279</td>\n",
       "      <td>0.019165</td>\n",
       "      <td>0.052014</td>\n",
       "      <td>0.089152</td>\n",
       "      <td>0.048366</td>\n",
       "      <td>0.181387</td>\n",
       "      <td>0.093431</td>\n",
       "      <td>0.091338</td>\n",
       "      <td>0.222821</td>\n",
       "      <td>0.150124</td>\n",
       "      <td>0.082055</td>\n",
       "      <td>0.020514</td>\n",
       "      <td>0.121990</td>\n",
       "      <td>1.000000</td>\n",
       "    </tr>\n",
       "  </tbody>\n",
       "</table>\n",
       "</div>"
      ],
      "text/plain": [
       "                     male       age  education  currentSmoker  cigsPerDay  \\\n",
       "male             1.000000 -0.024412   0.017729       0.206114    0.330322   \n",
       "age             -0.024412  1.000000  -0.159499      -0.210771   -0.189295   \n",
       "education        0.017729 -0.159499   1.000000       0.025251    0.013790   \n",
       "currentSmoker    0.206114 -0.210771   0.025251       1.000000    0.773913   \n",
       "cigsPerDay       0.330322 -0.189295   0.013790       0.773913    1.000000   \n",
       "BPMeds          -0.052124  0.134732  -0.013739      -0.051923   -0.046504   \n",
       "prevalentStroke -0.002312  0.050893  -0.030386      -0.038150   -0.036286   \n",
       "prevalentHyp     0.001424  0.306239  -0.078828      -0.108078   -0.070460   \n",
       "diabetes         0.013819  0.109092  -0.039627      -0.041849   -0.036961   \n",
       "totChol         -0.070321  0.268252  -0.013522      -0.051034   -0.030400   \n",
       "sysBP           -0.045358  0.388267  -0.124360      -0.134428   -0.094781   \n",
       "diaBP            0.051872  0.208283  -0.058059      -0.115955   -0.056746   \n",
       "BMI              0.073111  0.137511  -0.137555      -0.159821   -0.087395   \n",
       "heartRate       -0.115285 -0.002722  -0.064214       0.050841    0.064030   \n",
       "glucose          0.002940  0.118349  -0.031998      -0.053242   -0.053726   \n",
       "TenYearCHD       0.091688  0.233983  -0.063279       0.019165    0.052014   \n",
       "\n",
       "                   BPMeds  prevalentStroke  prevalentHyp  diabetes   totChol  \\\n",
       "male            -0.052124        -0.002312      0.001424  0.013819 -0.070321   \n",
       "age              0.134732         0.050893      0.306239  0.109092  0.268252   \n",
       "education       -0.013739        -0.030386     -0.078828 -0.039627 -0.013522   \n",
       "currentSmoker   -0.051923        -0.038150     -0.108078 -0.041849 -0.051034   \n",
       "cigsPerDay      -0.046504        -0.036286     -0.070460 -0.036961 -0.030400   \n",
       "BPMeds           1.000000         0.113125      0.262910  0.049066  0.094083   \n",
       "prevalentStroke  0.113125         1.000000      0.066057  0.009625  0.012736   \n",
       "prevalentHyp     0.262910         0.066057      1.000000  0.080556  0.166655   \n",
       "diabetes         0.049066         0.009625      0.080556  1.000000  0.048451   \n",
       "totChol          0.094083         0.012736      0.166655  0.048451  1.000000   \n",
       "sysBP            0.271263         0.061070      0.697675  0.102552  0.219925   \n",
       "diaBP            0.199630         0.055834      0.617734  0.050686  0.174422   \n",
       "BMI              0.105642         0.036496      0.302949  0.089009  0.121056   \n",
       "heartRate        0.012889        -0.017019      0.146818  0.060984  0.093053   \n",
       "glucose          0.054232         0.016061      0.086942  0.614820  0.049884   \n",
       "TenYearCHD       0.089152         0.048366      0.181387  0.093431  0.091338   \n",
       "\n",
       "                    sysBP     diaBP       BMI  heartRate   glucose  TenYearCHD  \n",
       "male            -0.045358  0.051872  0.073111  -0.115285  0.002940    0.091688  \n",
       "age              0.388267  0.208283  0.137511  -0.002722  0.118349    0.233983  \n",
       "education       -0.124360 -0.058059 -0.137555  -0.064214 -0.031998   -0.063279  \n",
       "currentSmoker   -0.134428 -0.115955 -0.159821   0.050841 -0.053242    0.019165  \n",
       "cigsPerDay      -0.094781 -0.056746 -0.087395   0.064030 -0.053726    0.052014  \n",
       "BPMeds           0.271263  0.199630  0.105642   0.012889  0.054232    0.089152  \n",
       "prevalentStroke  0.061070  0.055834  0.036496  -0.017019  0.016061    0.048366  \n",
       "prevalentHyp     0.697675  0.617734  0.302949   0.146818  0.086942    0.181387  \n",
       "diabetes         0.102552  0.050686  0.089009   0.060984  0.614820    0.093431  \n",
       "totChol          0.219925  0.174422  0.121056   0.093053  0.049884    0.091338  \n",
       "sysBP            1.000000  0.786669  0.330917   0.184797  0.134651    0.222821  \n",
       "diaBP            0.786669  1.000000  0.385348   0.178744  0.063540    0.150124  \n",
       "BMI              0.330917  0.385348  1.000000   0.074131  0.083683    0.082055  \n",
       "heartRate        0.184797  0.178744  0.074131   1.000000  0.097074    0.020514  \n",
       "glucose          0.134651  0.063540  0.083683   0.097074  1.000000    0.121990  \n",
       "TenYearCHD       0.222821  0.150124  0.082055   0.020514  0.121990    1.000000  "
      ]
     },
     "execution_count": 67,
     "metadata": {},
     "output_type": "execute_result"
    }
   ],
   "source": [
    "df.corr()"
   ]
  },
  {
   "cell_type": "code",
   "execution_count": 68,
   "id": "c512b44c",
   "metadata": {},
   "outputs": [],
   "source": [
    "x = df.drop('TenYearCHD',axis=1)\n",
    "y = df[\"TenYearCHD\"]"
   ]
  },
  {
   "cell_type": "code",
   "execution_count": 69,
   "id": "764306a3",
   "metadata": {},
   "outputs": [],
   "source": [
    "from sklearn.model_selection import train_test_split\n",
    "x_train,x_test,y_train,y_test = train_test_split(x,y,train_size=0.80,random_state=45)"
   ]
  },
  {
   "cell_type": "code",
   "execution_count": 70,
   "id": "f8c9854e",
   "metadata": {},
   "outputs": [
    {
     "name": "stderr",
     "output_type": "stream",
     "text": [
      "C:\\python 3.10\\lib\\site-packages\\sklearn\\linear_model\\_logistic.py:458: ConvergenceWarning: lbfgs failed to converge (status=1):\n",
      "STOP: TOTAL NO. of ITERATIONS REACHED LIMIT.\n",
      "\n",
      "Increase the number of iterations (max_iter) or scale the data as shown in:\n",
      "    https://scikit-learn.org/stable/modules/preprocessing.html\n",
      "Please also refer to the documentation for alternative solver options:\n",
      "    https://scikit-learn.org/stable/modules/linear_model.html#logistic-regression\n",
      "  n_iter_i = _check_optimize_result(\n"
     ]
    },
    {
     "data": {
      "text/plain": [
       "array([0, 0, 0, 0, 0, 0, 0, 0, 0, 0, 0, 0, 0, 0, 0, 0, 0, 0, 0, 0, 0, 0,\n",
       "       0, 1, 0, 0, 0, 0, 0, 0, 0, 0, 0, 0, 0, 0, 0, 0, 0, 0, 0, 0, 0, 0,\n",
       "       0, 0, 0, 0, 0, 0, 0, 0, 0, 0, 0, 0, 0, 0, 0, 0, 0, 0, 0, 0, 0, 0,\n",
       "       0, 0, 0, 0, 0, 0, 0, 0, 0, 0, 0, 0, 0, 0, 0, 0, 0, 0, 0, 0, 0, 0,\n",
       "       0, 0, 0, 0, 0, 0, 0, 0, 0, 0, 0, 0, 0, 0, 0, 0, 0, 0, 0, 0, 0, 0,\n",
       "       0, 0, 1, 0, 0, 0, 0, 0, 0, 0, 0, 0, 0, 0, 0, 0, 0, 0, 0, 0, 0, 0,\n",
       "       0, 0, 0, 0, 0, 0, 0, 0, 0, 0, 0, 0, 0, 0, 0, 0, 0, 0, 0, 0, 0, 0,\n",
       "       0, 0, 0, 0, 0, 0, 0, 0, 0, 0, 0, 0, 0, 0, 0, 0, 0, 0, 0, 0, 0, 0,\n",
       "       0, 0, 0, 0, 0, 0, 0, 0, 0, 0, 0, 0, 0, 0, 0, 0, 0, 0, 0, 0, 0, 0,\n",
       "       0, 0, 0, 0, 0, 0, 0, 0, 0, 0, 0, 0, 0, 0, 0, 0, 0, 0, 0, 0, 0, 0,\n",
       "       0, 0, 0, 0, 0, 0, 0, 0, 0, 0, 0, 0, 0, 1, 0, 0, 0, 0, 0, 0, 0, 0,\n",
       "       0, 0, 0, 0, 0, 0, 0, 0, 0, 0, 0, 0, 0, 0, 0, 0, 0, 0, 0, 0, 0, 0,\n",
       "       0, 0, 0, 0, 0, 0, 0, 0, 0, 0, 0, 0, 0, 0, 0, 0, 0, 0, 1, 0, 0, 0,\n",
       "       0, 0, 0, 0, 1, 0, 0, 0, 0, 0, 0, 0, 0, 0, 0, 0, 0, 0, 0, 0, 0, 0,\n",
       "       0, 0, 0, 0, 0, 0, 0, 0, 0, 0, 0, 0, 0, 0, 0, 0, 0, 0, 0, 0, 0, 0,\n",
       "       0, 0, 0, 0, 0, 0, 0, 0, 0, 0, 0, 0, 0, 0, 0, 0, 0, 0, 0, 0, 0, 0,\n",
       "       0, 0, 0, 0, 0, 0, 0, 0, 0, 0, 0, 0, 0, 0, 0, 0, 0, 0, 0, 0, 0, 0,\n",
       "       0, 0, 0, 0, 0, 0, 0, 0, 0, 0, 0, 0, 0, 0, 0, 0, 0, 0, 0, 0, 0, 0,\n",
       "       0, 0, 0, 0, 0, 0, 0, 0, 0, 0, 0, 0, 0, 0, 0, 0, 0, 0, 0, 0, 0, 0,\n",
       "       0, 0, 0, 0, 0, 0, 0, 0, 0, 0, 0, 0, 0, 0, 0, 0, 0, 0, 0, 0, 0, 0,\n",
       "       0, 0, 0, 0, 0, 0, 0, 0, 0, 0, 0, 0, 0, 0, 0, 0, 0, 0, 0, 0, 0, 0,\n",
       "       0, 0, 0, 0, 1, 0, 0, 0, 0, 0, 0, 0, 0, 0, 0, 0, 0, 0, 0, 0, 0, 0,\n",
       "       0, 0, 0, 0, 0, 0, 0, 0, 0, 0, 0, 0, 0, 0, 0, 0, 0, 0, 0, 0, 0, 0,\n",
       "       0, 0, 0, 0, 0, 0, 0, 0, 0, 0, 0, 0, 0, 0, 0, 0, 0, 0, 0, 0, 0, 0,\n",
       "       0, 0, 0, 0, 0, 0, 0, 0, 0, 0, 0, 0, 0, 0, 0, 0, 0, 0, 0, 0, 0, 0,\n",
       "       0, 0, 0, 0, 0, 0, 0, 0, 0, 0, 0, 0, 0, 0, 0, 0, 0, 0, 0, 0, 0, 0,\n",
       "       0, 0, 0, 0, 0, 0, 0, 0, 0, 0, 0, 0, 0, 0, 0, 0, 0, 0, 0, 0, 0, 0,\n",
       "       0, 0, 0, 0, 0, 0, 0, 0, 0, 0, 0, 0, 0, 0, 0, 0, 0, 0, 0, 0, 0, 0,\n",
       "       0, 1, 0, 0, 0, 0, 0, 0, 0, 0, 0, 0, 0, 0, 0, 0, 0, 0, 0, 0, 0, 0,\n",
       "       0, 0, 0, 0, 0, 0, 0, 0, 1, 0, 0, 0, 0, 0, 0, 0, 0, 0, 0, 0, 0, 0,\n",
       "       1, 0, 0, 0, 0, 0, 0, 0, 0, 0, 0, 0, 0, 0, 0, 0, 0, 0, 0, 0, 0, 0,\n",
       "       0, 0, 0, 0, 0, 0, 0, 0, 0, 0, 0, 0, 0, 0, 0, 0, 0, 0, 0, 0, 0, 0,\n",
       "       0, 0, 0, 0, 0, 0, 0, 0, 0, 0, 0, 0, 0, 0, 0, 0, 0, 0, 0, 0, 0, 0,\n",
       "       0, 0, 0, 0, 0, 0], dtype=int64)"
      ]
     },
     "execution_count": 70,
     "metadata": {},
     "output_type": "execute_result"
    }
   ],
   "source": [
    "from sklearn.linear_model import LogisticRegression\n",
    "model = LogisticRegression()\n",
    "model = model.fit(x_train,y_train)\n",
    "y_predict = model.predict(x_test)\n",
    "y_predict"
   ]
  },
  {
   "cell_type": "code",
   "execution_count": 71,
   "id": "497cc561",
   "metadata": {},
   "outputs": [],
   "source": [
    "from sklearn.metrics import confusion_matrix,auc,accuracy_score,precision_score,recall_score,f1_score,roc_auc_score,roc_curve"
   ]
  },
  {
   "cell_type": "code",
   "execution_count": 72,
   "id": "07207733",
   "metadata": {},
   "outputs": [
    {
     "data": {
      "text/plain": [
       "array([[631,   1],\n",
       "       [ 92,   8]], dtype=int64)"
      ]
     },
     "execution_count": 72,
     "metadata": {},
     "output_type": "execute_result"
    }
   ],
   "source": [
    "cm = confusion_matrix(y_test,y_predict)\n",
    "cm"
   ]
  },
  {
   "cell_type": "code",
   "execution_count": 73,
   "id": "31a662fc",
   "metadata": {},
   "outputs": [
    {
     "data": {
      "image/png": "[encoded data removed]",
      "text/plain": [
       "<Figure size 432x288 with 2 Axes>"
      ]
     },
     "metadata": {
      "needs_background": "light"
     },
     "output_type": "display_data"
    }
   ],
   "source": [
    "sns.heatmap(cm, annot=True, cmap='Blues')\n",
    "plt.xlabel('Predicted')\n",
    "plt.ylabel('True')\n",
    "plt.title('Confusion Matrix')\n",
    "plt.show()"
   ]
  },
  {
   "cell_type": "code",
   "execution_count": 74,
   "id": "34a4be85",
   "metadata": {},
   "outputs": [
    {
     "name": "stdout",
     "output_type": "stream",
     "text": [
      "Pricision: 0.6707317073170732\n",
      "Recall: 0.8148148148148148\n"
     ]
    }
   ],
   "source": [
    "TP = cm[1,1]\n",
    "TN = cm[0,0]\n",
    "FN = cm[1,0]\n",
    "FP = cm[0,1]\n",
    "Precision = TP / (TP + FP)\n",
    "Recall    = TP / (TP + FN)\n",
    "print(\"Pricision:\",precision)\n",
    "print(\"Recall:\",recall)"
   ]
  },
  {
   "cell_type": "code",
   "execution_count": 75,
   "id": "d06d00f4",
   "metadata": {},
   "outputs": [
    {
     "name": "stdout",
     "output_type": "stream",
     "text": [
      "Accuracy Score: 0.8729508196721312\n",
      "Precision Score: 0.8888888888888888\n",
      "Recall Score: 0.08\n",
      "F1 Score: 0.14678899082568808\n",
      "Roc Auc Score: 0.5392088607594937\n"
     ]
    }
   ],
   "source": [
    "accuracy = accuracy_score(y_test,y_predict)\n",
    "print(\"Accuracy Score:\",accuracy)\n",
    "precision = precision_score(y_test,y_predict)\n",
    "print(\"Precision Score:\",precision)\n",
    "recall = recall_score(y_test,y_predict)\n",
    "print(\"Recall Score:\",recall)\n",
    "f1 = f1_score(y_test,y_predict)\n",
    "print(\"F1 Score:\",f1)\n",
    "roc_auc = roc_auc_score(y_test,y_predict)\n",
    "print(\"Roc Auc Score:\",roc_auc)\n",
    "\n"
   ]
  },
  {
   "cell_type": "code",
   "execution_count": 76,
   "id": "9f76f6a9",
   "metadata": {},
   "outputs": [
    {
     "data": {
      "image/png": "[encoded data removed]",
      "text/plain": [
       "<Figure size 432x288 with 1 Axes>"
      ]
     },
     "metadata": {
      "needs_background": "light"
     },
     "output_type": "display_data"
    }
   ],
   "source": [
    "fpr, tpr, thresholds = roc_curve(y_test,y_predict)\n",
    "roc_auc = auc(fpr, tpr)\n",
    "plt.plot(fpr, tpr, label='ROC Curve (AUC = %0.2f)' % roc_auc)\n",
    "plt.plot([0, 1], [0, 1], 'k--')  # Diagonal line representing random guessing\n",
    "plt.xlabel('False Positive Rate')\n",
    "plt.ylabel('True Positive Rate')\n",
    "plt.title('Receiver Operating Characteristic (ROC) Curve')\n",
    "plt.legend(loc='lower right')\n",
    "plt.show()"
   ]
  }
 ],
 "metadata": {
  "kernelspec": {
   "display_name": "Python 3 (ipykernel)",
   "language": "python",
   "name": "python3"
  },
  "language_info": {
   "codemirror_mode": {
    "name": "ipython",
    "version": 3
   },
   "file_extension": ".py",
   "mimetype": "text/x-python",
   "name": "python",
   "nbconvert_exporter": "python",
   "pygments_lexer": "ipython3",
   "version": "3.10.5"
  }
 },
 "nbformat": 4,
 "nbformat_minor": 5
}
