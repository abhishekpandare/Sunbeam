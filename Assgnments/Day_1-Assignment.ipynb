{
 "cells": [
  {
   "cell_type": "code",
   "execution_count": null,
   "id": "33d9f216",
   "metadata": {},
   "outputs": [],
   "source": [
    "1. Write a NumPy program to create an array with the values 1, 7, 13, 105    and determine the size \n",
    "of the memory occupied by the array."
   ]
  },
  {
   "cell_type": "code",
   "execution_count": 1,
   "id": "8979c18e",
   "metadata": {},
   "outputs": [
    {
     "name": "stdout",
     "output_type": "stream",
     "text": [
      "Array: [  1   7  13 105]\n",
      "Size of memory: 16\n"
     ]
    }
   ],
   "source": [
    "import numpy as np\n",
    "arr1 = np.array([1,7,13,105])\n",
    "print(\"Array:\",arr1)\n",
    "memory = arr1.nbytes\n",
    "print(\"Size of memory:\",memory)"
   ]
  },
  {
   "cell_type": "code",
   "execution_count": null,
   "id": "952f88f0",
   "metadata": {},
   "outputs": [],
   "source": [
    "2. Write a NumPy program to create an element-wise comparison (greater,    greater_equal, less and\n",
    "   less_equal) of two given arrays."
   ]
  },
  {
   "cell_type": "code",
   "execution_count": 3,
   "id": "fc9afc75",
   "metadata": {},
   "outputs": [
    {
     "name": "stdout",
     "output_type": "stream",
     "text": [
      "1 is less than 5.\n",
      "1 is less than 6.\n",
      "1 is less than 78.\n",
      "1 is less than 96.\n",
      "1 is less than 21.\n",
      "7 is greater than 5.\n",
      "7 is greater than 6.\n",
      "7 is less than 78.\n",
      "7 is less than 96.\n",
      "7 is less than 21.\n",
      "8 is greater than 5.\n",
      "8 is greater than 6.\n",
      "8 is less than 78.\n",
      "8 is less than 96.\n",
      "8 is less than 21.\n",
      "6 is greater than 5.\n",
      "6 is greater_equal to 6.\n",
      "6 is less than 78.\n",
      "6 is less than 96.\n",
      "6 is less than 21.\n",
      "9 is greater than 5.\n",
      "9 is greater than 6.\n",
      "9 is less than 78.\n",
      "9 is less than 96.\n",
      "9 is less than 21.\n"
     ]
    }
   ],
   "source": [
    "arr1 = np.array([1,7,8,6,9])\n",
    "arr2 = np.array([5,6,78,96,21])\n",
    "\n",
    "for i in arr1:\n",
    "    for j in arr2:\n",
    "        if i>j:\n",
    "            print(f\"{i} is greater than {j}.\")\n",
    "        \n",
    "        elif i>=j:\n",
    "            print(f\"{i} is greater_equal to {j}.\")\n",
    "        \n",
    "        elif i<j:\n",
    "            print(f\"{i} is less than {j}.\")\n",
    "            \n",
    "        elif i<=j:\n",
    "            print(f\"{i} is less_equal to {j}.\")"
   ]
  },
  {
   "cell_type": "code",
   "execution_count": null,
   "id": "44f5f92c",
   "metadata": {},
   "outputs": [],
   "source": [
    "3.  Write a NumPy program to create an array of 10 zeros, 10 ones, 10    fives, 10 tens, \n",
    "10 twentys and 10 fiftys."
   ]
  },
  {
   "cell_type": "code",
   "execution_count": 17,
   "id": "3be82a00",
   "metadata": {},
   "outputs": [
    {
     "name": "stdout",
     "output_type": "stream",
     "text": [
      "[0. 0. 0. 0. 0. 0. 0. 0. 0. 0.]\n",
      "\n",
      "[1. 1. 1. 1. 1. 1. 1. 1. 1. 1.]\n",
      "\n",
      "[5. 5. 5. 5. 5. 5. 5. 5. 5. 5.]\n",
      "\n",
      "[10. 10. 10. 10. 10. 10. 10. 10. 10. 10.]\n",
      "\n",
      "[20. 20. 20. 20. 20. 20. 20. 20. 20. 20.]\n",
      "\n",
      "[50. 50. 50. 50. 50. 50. 50. 50. 50. 50.]\n",
      "\n"
     ]
    }
   ],
   "source": [
    "arr_0 = np.zeros(10)\n",
    "print(arr_0)\n",
    "print()\n",
    "\n",
    "arr_1 = np.ones(10)\n",
    "print(arr_1)\n",
    "print()\n",
    "\n",
    "arr_5 = np.ones(10)*5\n",
    "print(arr_5)\n",
    "print()\n",
    "\n",
    "arr_10 = np.ones(10)*10\n",
    "print(arr_10)\n",
    "print()\n",
    "\n",
    "arr_20 = np.ones(10)*20\n",
    "print(arr_20)\n",
    "print()\n",
    "\n",
    "arr_50 = np.ones(10)*50\n",
    "print(arr_50)\n",
    "print()\n"
   ]
  },
  {
   "cell_type": "code",
   "execution_count": null,
   "id": "1a2db0e1",
   "metadata": {},
   "outputs": [],
   "source": [
    "4. Write a NumPy program to create an array of integers from 30 to 70."
   ]
  },
  {
   "cell_type": "code",
   "execution_count": 31,
   "id": "51586fdd",
   "metadata": {},
   "outputs": [
    {
     "name": "stdout",
     "output_type": "stream",
     "text": [
      "[30 31 32 33 34 35 36 37 38 39 40 41 42 43 44 45 46 47 48 49 50 51 52 53\n",
      " 54 55 56 57 58 59 60 61 62 63 64 65 66 67 68 69 70]\n"
     ]
    }
   ],
   "source": [
    "arr = np.arange(30,71)\n",
    "print(arr)"
   ]
  },
  {
   "cell_type": "code",
   "execution_count": null,
   "id": "0559c71d",
   "metadata": {},
   "outputs": [],
   "source": [
    "5. Write a NumPy program to create an array of integers from 50 to 95."
   ]
  },
  {
   "cell_type": "code",
   "execution_count": 32,
   "id": "24993c61",
   "metadata": {},
   "outputs": [
    {
     "name": "stdout",
     "output_type": "stream",
     "text": [
      "[50 51 52 53 54 55 56 57 58 59 60 61 62 63 64 65 66 67 68 69 70 71 72 73\n",
      " 74 75 76 77 78 79 80 81 82 83 84 85 86 87 88 89 90 91 92 93 94]\n"
     ]
    }
   ],
   "source": [
    "arr = np.arange(50,95)\n",
    "print(arr)"
   ]
  },
  {
   "cell_type": "code",
   "execution_count": null,
   "id": "fb349fb8",
   "metadata": {},
   "outputs": [],
   "source": [
    "6. Write a NumPy program to create an array of all even integers from 20 to 80."
   ]
  },
  {
   "cell_type": "code",
   "execution_count": 33,
   "id": "25c55b7f",
   "metadata": {},
   "outputs": [
    {
     "name": "stdout",
     "output_type": "stream",
     "text": [
      "[20 22 24 26 28 30 32 34 36 38 40 42 44 46 48 50 52 54 56 58 60 62 64 66\n",
      " 68 70 72 74 76 78 80]\n"
     ]
    }
   ],
   "source": [
    "arr = np.arange(20,81,2)\n",
    "print(arr)"
   ]
  },
  {
   "cell_type": "code",
   "execution_count": null,
   "id": "b576f601",
   "metadata": {},
   "outputs": [],
   "source": [
    "7. Write a NumPy program to create an array of all odd integers from 20 to 80."
   ]
  },
  {
   "cell_type": "code",
   "execution_count": 34,
   "id": "952e1b88",
   "metadata": {},
   "outputs": [
    {
     "name": "stdout",
     "output_type": "stream",
     "text": [
      "[21 23 25 27 29 31 33 35 37 39 41 43 45 47 49 51 53 55 57 59 61 63 65 67\n",
      " 69 71 73 75 77 79 81]\n"
     ]
    }
   ],
   "source": [
    "arr = np.arange(21,82,2)\n",
    "print(arr)"
   ]
  },
  {
   "cell_type": "code",
   "execution_count": null,
   "id": "30174df3",
   "metadata": {},
   "outputs": [],
   "source": [
    "8. Write a NumPy program to generate an array of 15 random numbers from 10 to 40."
   ]
  },
  {
   "cell_type": "code",
   "execution_count": 35,
   "id": "f6bdc847",
   "metadata": {},
   "outputs": [
    {
     "name": "stdout",
     "output_type": "stream",
     "text": [
      "[38 27 31 15 30 30 21 32 14 33 23 12 39 32 21]\n"
     ]
    }
   ],
   "source": [
    "arr = np.random.randint(10,40,15)\n",
    "print(arr)"
   ]
  },
  {
   "cell_type": "code",
   "execution_count": null,
   "id": "03114458",
   "metadata": {},
   "outputs": [],
   "source": [
    "9. Write a NumPy program to generate an array of 10 random numbers from 30    to 50."
   ]
  },
  {
   "cell_type": "code",
   "execution_count": 36,
   "id": "04970a31",
   "metadata": {},
   "outputs": [
    {
     "name": "stdout",
     "output_type": "stream",
     "text": [
      "[33 37 47 38 48 47 44 40 33 46]\n"
     ]
    }
   ],
   "source": [
    "arr = np.random.randint(30,50,10)\n",
    "print(arr)"
   ]
  },
  {
   "cell_type": "code",
   "execution_count": null,
   "id": "29b890b4",
   "metadata": {},
   "outputs": [],
   "source": [
    "10. Write a NumPy program to generate an array of 20 random numbers from 50    to 90."
   ]
  },
  {
   "cell_type": "code",
   "execution_count": 37,
   "id": "eb9add60",
   "metadata": {},
   "outputs": [
    {
     "name": "stdout",
     "output_type": "stream",
     "text": [
      "[85 88 56 52 70 55 79 84 77 86 54 64 52 84 57 61 78 80 84 78]\n"
     ]
    }
   ],
   "source": [
    "arr = np.random.randint(50,90,20)\n",
    "print(arr)"
   ]
  },
  {
   "cell_type": "code",
   "execution_count": null,
   "id": "d4021e2d",
   "metadata": {},
   "outputs": [],
   "source": [
    "11. Create any two arrays & perform various mathematical operations.\n",
    "    i.e. Addition, Substraction, Multiplication, Divide."
   ]
  },
  {
   "cell_type": "code",
   "execution_count": 40,
   "id": "c48e083e",
   "metadata": {},
   "outputs": [
    {
     "name": "stdout",
     "output_type": "stream",
     "text": [
      "Array_1: [9 9 7 8 5]\n",
      "\n",
      "Array_2 [17 14 18 13 14]\n",
      "\n",
      "Addition of Array_1 and Array_2: [26 23 25 21 19]\n",
      "\n",
      "Subctraction of Array_1 and Array_2: [ -8  -5 -11  -5  -9]\n",
      "\n",
      "Multiplication of Array_1 and Array_2: [26 23 25 21 19]\n",
      "\n",
      "Division of Array_1 and Array_2: [26 23 25 21 19]\n"
     ]
    }
   ],
   "source": [
    "arr_1 = np.random.randint(1,10,5)\n",
    "print(\"Array_1:\",arr_1)\n",
    "print()\n",
    "arr_2 = np.random.randint(11,20,5)\n",
    "print(\"Array_2\",arr_2)\n",
    "print()\n",
    "\n",
    "print(\"Addition of Array_1 and Array_2:\",arr_1+arr_2)\n",
    "print()\n",
    "print(\"Subctraction of Array_1 and Array_2:\",arr_1-arr_2)\n",
    "print()\n",
    "print(\"Multiplication of Array_1 and Array_2:\",arr_1+arr_2)\n",
    "print()\n",
    "print(\"Division of Array_1 and Array_2:\",arr_1+arr_2)\n"
   ]
  },
  {
   "cell_type": "code",
   "execution_count": null,
   "id": "19ba6775",
   "metadata": {},
   "outputs": [],
   "source": [
    "12. Write a NumPy program to create a 3x4 matrix filled with values from 10     to 21."
   ]
  },
  {
   "cell_type": "code",
   "execution_count": 41,
   "id": "16fe36c6",
   "metadata": {},
   "outputs": [
    {
     "data": {
      "text/plain": [
       "array([[11, 13, 11, 10],\n",
       "       [12, 15, 15, 12],\n",
       "       [13, 15, 15, 11]])"
      ]
     },
     "execution_count": 41,
     "metadata": {},
     "output_type": "execute_result"
    }
   ],
   "source": [
    "arr = np.random.randint(10,21,size=(3,4))\n",
    "arr"
   ]
  },
  {
   "cell_type": "code",
   "execution_count": null,
   "id": "19b2f781",
   "metadata": {},
   "outputs": [],
   "source": [
    "13. Write a NumPy program to create a 3x3 identity matrix, i.e. the diagonal     elements are 1,\n",
    "the rest are 0."
   ]
  },
  {
   "cell_type": "code",
   "execution_count": 69,
   "id": "ad10b5ff",
   "metadata": {},
   "outputs": [
    {
     "data": {
      "text/plain": [
       "array([[1, 0, 0],\n",
       "       [0, 1, 0],\n",
       "       [0, 0, 1]])"
      ]
     },
     "execution_count": 69,
     "metadata": {},
     "output_type": "execute_result"
    }
   ],
   "source": [
    "arr = np.diag([1,1,1])\n",
    "arr    "
   ]
  },
  {
   "cell_type": "code",
   "execution_count": null,
   "id": "2485fa4b",
   "metadata": {},
   "outputs": [],
   "source": [
    "14. Write a NumPy program to find the number of rows and columns in a given matrix. "
   ]
  },
  {
   "cell_type": "code",
   "execution_count": 47,
   "id": "c710edb9",
   "metadata": {},
   "outputs": [
    {
     "name": "stdout",
     "output_type": "stream",
     "text": [
      "Array: [[14  5 17  2 16]\n",
      " [18 12 21 23 20]\n",
      " [11 15 12 17 15]\n",
      " [ 7  1  3  6 24]\n",
      " [10 17 22  4 21]]\n",
      "\n",
      "Rows: 5\n",
      "Columns: 5\n"
     ]
    }
   ],
   "source": [
    "arr = np.random.randint(1,25,size=(5,5))\n",
    "print(\"Array:\",arr)\n",
    "print()\n",
    "\n",
    "print(\"Rows:\",arr.shape[0])\n",
    "\n",
    "print(\"Columns:\",arr.shape[1])"
   ]
  },
  {
   "cell_type": "code",
   "execution_count": null,
   "id": "21ef1180",
   "metadata": {},
   "outputs": [],
   "source": [
    "15. Write a NumPy program to create a 5x5 zero matrix with elements on the \n",
    "main diagonal equal to 1, 2, 3, 4, 5."
   ]
  },
  {
   "cell_type": "code",
   "execution_count": 68,
   "id": "e333e154",
   "metadata": {},
   "outputs": [
    {
     "data": {
      "text/plain": [
       "array([[1, 0, 0, 0, 0],\n",
       "       [0, 2, 0, 0, 0],\n",
       "       [0, 0, 3, 0, 0],\n",
       "       [0, 0, 0, 4, 0],\n",
       "       [0, 0, 0, 0, 5]])"
      ]
     },
     "execution_count": 68,
     "metadata": {},
     "output_type": "execute_result"
    }
   ],
   "source": [
    "arr = np.diag([1,2,3,4,5])\n",
    "arr"
   ]
  },
  {
   "cell_type": "code",
   "execution_count": null,
   "id": "0c06687c",
   "metadata": {},
   "outputs": [],
   "source": [
    "16. Write a NumPy program to create a 3x3x3 array filled with arbitrary values."
   ]
  },
  {
   "cell_type": "code",
   "execution_count": 49,
   "id": "6ff2c852",
   "metadata": {},
   "outputs": [
    {
     "data": {
      "text/plain": [
       "array([[[4, 4, 4],\n",
       "        [5, 8, 2],\n",
       "        [6, 2, 7]],\n",
       "\n",
       "       [[7, 9, 5],\n",
       "        [2, 0, 8],\n",
       "        [1, 5, 4]],\n",
       "\n",
       "       [[5, 9, 3],\n",
       "        [9, 9, 9],\n",
       "        [5, 4, 5]]])"
      ]
     },
     "execution_count": 49,
     "metadata": {},
     "output_type": "execute_result"
    }
   ],
   "source": [
    "arr = np.random.randint(0,10,size=(3,3,3))\n",
    "arr"
   ]
  },
  {
   "cell_type": "code",
   "execution_count": null,
   "id": "d82a601c",
   "metadata": {},
   "outputs": [],
   "source": [
    "17. Write a NumPy program to create a 2x3x4 array filled with arbitrary values."
   ]
  },
  {
   "cell_type": "code",
   "execution_count": 50,
   "id": "583de4a8",
   "metadata": {},
   "outputs": [
    {
     "data": {
      "text/plain": [
       "array([[[ 8,  2,  1,  5],\n",
       "        [ 8,  8,  5, 10],\n",
       "        [ 1,  5,  7, 10]],\n",
       "\n",
       "       [[ 1,  0,  2, 10],\n",
       "        [ 9,  3,  7,  0],\n",
       "        [ 4, 13,  8,  5]]])"
      ]
     },
     "execution_count": 50,
     "metadata": {},
     "output_type": "execute_result"
    }
   ],
   "source": [
    "arr = np.random.randint(0,15,size=(2,3,4))\n",
    "arr"
   ]
  },
  {
   "cell_type": "code",
   "execution_count": null,
   "id": "2bf5959c",
   "metadata": {},
   "outputs": [],
   "source": [
    "18. Write a NumPy program to convert a list of numeric values into a one-dimensional NumPy array."
   ]
  },
  {
   "cell_type": "code",
   "execution_count": 51,
   "id": "71ad0273",
   "metadata": {},
   "outputs": [
    {
     "data": {
      "text/plain": [
       "array([1, 2, 3, 4, 5])"
      ]
     },
     "execution_count": 51,
     "metadata": {},
     "output_type": "execute_result"
    }
   ],
   "source": [
    "lst = [1,2,3,4,5]\n",
    "\n",
    "arr = np.array(lst)\n",
    "arr"
   ]
  },
  {
   "cell_type": "code",
   "execution_count": null,
   "id": "1f46b934",
   "metadata": {},
   "outputs": [],
   "source": [
    "19. Write a NumPy program to create a 3x3 matrix with values ranging from 2 to 10."
   ]
  },
  {
   "cell_type": "code",
   "execution_count": 52,
   "id": "d7beb6a6",
   "metadata": {},
   "outputs": [
    {
     "data": {
      "text/plain": [
       "array([[9, 5, 5],\n",
       "       [2, 5, 3],\n",
       "       [5, 4, 4]])"
      ]
     },
     "execution_count": 52,
     "metadata": {},
     "output_type": "execute_result"
    }
   ],
   "source": [
    "arr = np.random.randint(2,10,size=(3,3))\n",
    "arr"
   ]
  },
  {
   "cell_type": "code",
   "execution_count": null,
   "id": "7a290ae8",
   "metadata": {},
   "outputs": [],
   "source": [
    "20. Write a NumPy program to create an array with values ranging from 12 to 38."
   ]
  },
  {
   "cell_type": "code",
   "execution_count": 53,
   "id": "2265a13a",
   "metadata": {},
   "outputs": [
    {
     "data": {
      "text/plain": [
       "array([12, 13, 14, 15, 16, 17, 18, 19, 20, 21, 22, 23, 24, 25, 26, 27, 28,\n",
       "       29, 30, 31, 32, 33, 34, 35, 36, 37])"
      ]
     },
     "execution_count": 53,
     "metadata": {},
     "output_type": "execute_result"
    }
   ],
   "source": [
    "arr = np.arange(12,38)\n",
    "arr"
   ]
  },
  {
   "cell_type": "code",
   "execution_count": null,
   "id": "47f58b2b",
   "metadata": {},
   "outputs": [],
   "source": [
    "21. Write a NumPy program to reverse an array (the first element becomes the last)."
   ]
  },
  {
   "cell_type": "code",
   "execution_count": 55,
   "id": "06ab1319",
   "metadata": {},
   "outputs": [
    {
     "name": "stdout",
     "output_type": "stream",
     "text": [
      "Array: [1 2 3 4 5]\n",
      "\n",
      "After Reverse:\n"
     ]
    },
    {
     "data": {
      "text/plain": [
       "array([5, 4, 3, 2, 1])"
      ]
     },
     "execution_count": 55,
     "metadata": {},
     "output_type": "execute_result"
    }
   ],
   "source": [
    "arr = np.arange(1,6)\n",
    "print(\"Array:\",arr)\n",
    "print()\n",
    "print(\"After Reverse:\")\n",
    "arr[::-1]"
   ]
  },
  {
   "cell_type": "code",
   "execution_count": null,
   "id": "0e08ca77",
   "metadata": {},
   "outputs": [],
   "source": [
    "22. Write a NumPy program to convert an data type into to a floating type."
   ]
  },
  {
   "cell_type": "code",
   "execution_count": 62,
   "id": "c83f0294",
   "metadata": {},
   "outputs": [
    {
     "name": "stdout",
     "output_type": "stream",
     "text": [
      "Array: [1 2 3 4 5]\n",
      "data type: int32\n",
      "\n",
      "After Array: [1. 2. 3. 4. 5.]\n",
      "After data type: float64\n"
     ]
    }
   ],
   "source": [
    "arr_1 = np.array([1,2,3,4,5])\n",
    "print(\"Array:\",arr)\n",
    "print(\"data type:\",arr_1.dtype)\n",
    "print()\n",
    "arr_2 = arr_1.astype(float)\n",
    "print(\"After Array:\",arr_2)\n",
    "print(\"After data type:\",arr_2.dtype)"
   ]
  },
  {
   "cell_type": "code",
   "execution_count": null,
   "id": "2e1871ce",
   "metadata": {},
   "outputs": [],
   "source": [
    "23. Write a NumPy program to convert a list array."
   ]
  },
  {
   "cell_type": "code",
   "execution_count": 63,
   "id": "9bf31be6",
   "metadata": {},
   "outputs": [
    {
     "name": "stdout",
     "output_type": "stream",
     "text": [
      "<class 'list'>\n",
      "<class 'numpy.ndarray'>\n"
     ]
    }
   ],
   "source": [
    "lst = [1,2,3,4,5]\n",
    "print(type(lst))\n",
    "\n",
    "arr = np.array(lst)\n",
    "print(type(arr))"
   ]
  },
  {
   "cell_type": "code",
   "execution_count": null,
   "id": "51d7dae8",
   "metadata": {},
   "outputs": [],
   "source": [
    "24. Write a NumPy program to get the element-wise remainder of an array of division."
   ]
  },
  {
   "cell_type": "code",
   "execution_count": 66,
   "id": "de4a6c2d",
   "metadata": {},
   "outputs": [
    {
     "name": "stdout",
     "output_type": "stream",
     "text": [
      "[0 1 0 3 3]\n"
     ]
    }
   ],
   "source": [
    "arr_1 = np.array([50,87,96,31,68])\n",
    "\n",
    "arr_2 = np.array([1,2,3,4,5])\n",
    "\n",
    "print(arr_1%arr_2)"
   ]
  },
  {
   "cell_type": "code",
   "execution_count": null,
   "id": "23231bf5",
   "metadata": {},
   "outputs": [],
   "source": [
    "25. Write a NumPy program to get the element-wise remainder of an array of numbers from 20 to 50 \n",
    "which are divisible by 3."
   ]
  },
  {
   "cell_type": "code",
   "execution_count": 64,
   "id": "34924e6f",
   "metadata": {},
   "outputs": [
    {
     "name": "stdout",
     "output_type": "stream",
     "text": [
      "Reminder [2, 0, 1, 2, 0, 1, 2, 0, 1, 2, 0, 1, 2, 0, 1, 2, 0, 1, 2, 0, 1, 2, 0, 1, 2, 0, 1, 2, 0, 1]\n"
     ]
    }
   ],
   "source": [
    "arr = np.arange(20,50)\n",
    "\n",
    "lst = []\n",
    "for i in arr:\n",
    "    num = i%3\n",
    "    lst.append(num)\n",
    "    \n",
    "print(\"Reminder\",lst)"
   ]
  }
 ],
 "metadata": {
  "kernelspec": {
   "display_name": "Python 3 (ipykernel)",
   "language": "python",
   "name": "python3"
  },
  "language_info": {
   "codemirror_mode": {
    "name": "ipython",
    "version": 3
   },
   "file_extension": ".py",
   "mimetype": "text/x-python",
   "name": "python",
   "nbconvert_exporter": "python",
   "pygments_lexer": "ipython3",
   "version": "3.10.5"
  }
 },
 "nbformat": 4,
 "nbformat_minor": 5
}
