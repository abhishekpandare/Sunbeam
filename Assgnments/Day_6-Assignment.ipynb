{
 "cells": [
  {
   "cell_type": "code",
   "execution_count": null,
   "id": "179ca094",
   "metadata": {},
   "outputs": [],
   "source": [
    "Que. 1 \n",
    "\n",
    "Create a Simple Linear Regression model for a given dataset."
   ]
  },
  {
   "cell_type": "code",
   "execution_count": 43,
   "id": "628d08d5",
   "metadata": {},
   "outputs": [],
   "source": [
    " "
   ]
  },
  {
   "cell_type": "markdown",
   "id": "969c13a7",
   "metadata": {},
   "source": [
    "# 1. NewspaperData.csv\n",
    "Independent = ‘Daily’, Dependent=’Sunday’"
   ]
  },
  {
   "cell_type": "code",
   "execution_count": 2,
   "id": "a0be3047",
   "metadata": {},
   "outputs": [
    {
     "data": {
      "text/html": [
       "<div>\n",
       "<style scoped>\n",
       "    .dataframe tbody tr th:only-of-type {\n",
       "        vertical-align: middle;\n",
       "    }\n",
       "\n",
       "    .dataframe tbody tr th {\n",
       "        vertical-align: top;\n",
       "    }\n",
       "\n",
       "    .dataframe thead th {\n",
       "        text-align: right;\n",
       "    }\n",
       "</style>\n",
       "<table border=\"1\" class=\"dataframe\">\n",
       "  <thead>\n",
       "    <tr style=\"text-align: right;\">\n",
       "      <th></th>\n",
       "      <th>Newspaper</th>\n",
       "      <th>daily</th>\n",
       "      <th>sunday</th>\n",
       "    </tr>\n",
       "  </thead>\n",
       "  <tbody>\n",
       "    <tr>\n",
       "      <th>0</th>\n",
       "      <td>Baltimore Sun</td>\n",
       "      <td>391.952</td>\n",
       "      <td>488.506</td>\n",
       "    </tr>\n",
       "    <tr>\n",
       "      <th>1</th>\n",
       "      <td>Boston Globe</td>\n",
       "      <td>516.981</td>\n",
       "      <td>798.298</td>\n",
       "    </tr>\n",
       "    <tr>\n",
       "      <th>2</th>\n",
       "      <td>Boston Herald</td>\n",
       "      <td>355.628</td>\n",
       "      <td>235.084</td>\n",
       "    </tr>\n",
       "    <tr>\n",
       "      <th>3</th>\n",
       "      <td>Charlotte Observer</td>\n",
       "      <td>238.555</td>\n",
       "      <td>299.451</td>\n",
       "    </tr>\n",
       "    <tr>\n",
       "      <th>4</th>\n",
       "      <td>Chicago Sun Times</td>\n",
       "      <td>537.780</td>\n",
       "      <td>559.093</td>\n",
       "    </tr>\n",
       "  </tbody>\n",
       "</table>\n",
       "</div>"
      ],
      "text/plain": [
       "            Newspaper    daily   sunday\n",
       "0       Baltimore Sun  391.952  488.506\n",
       "1        Boston Globe  516.981  798.298\n",
       "2       Boston Herald  355.628  235.084\n",
       "3  Charlotte Observer  238.555  299.451\n",
       "4   Chicago Sun Times  537.780  559.093"
      ]
     },
     "execution_count": 2,
     "metadata": {},
     "output_type": "execute_result"
    }
   ],
   "source": [
    "df = pd.read_csv('NewspaperData.csv')\n",
    "df.head()"
   ]
  },
  {
   "cell_type": "code",
   "execution_count": 9,
   "id": "5fa68122",
   "metadata": {},
   "outputs": [
    {
     "name": "stdout",
     "output_type": "stream",
     "text": [
      "<class 'pandas.core.frame.DataFrame'>\n",
      "RangeIndex: 34 entries, 0 to 33\n",
      "Data columns (total 3 columns):\n",
      " #   Column     Non-Null Count  Dtype  \n",
      "---  ------     --------------  -----  \n",
      " 0   Newspaper  34 non-null     object \n",
      " 1   daily      34 non-null     float64\n",
      " 2   sunday     34 non-null     float64\n",
      "dtypes: float64(2), object(1)\n",
      "memory usage: 944.0+ bytes\n"
     ]
    }
   ],
   "source": [
    "df.info()"
   ]
  },
  {
   "cell_type": "code",
   "execution_count": 3,
   "id": "aef3ac00",
   "metadata": {},
   "outputs": [
    {
     "data": {
      "text/plain": [
       "(34, 3)"
      ]
     },
     "execution_count": 3,
     "metadata": {},
     "output_type": "execute_result"
    }
   ],
   "source": [
    "df.shape"
   ]
  },
  {
   "cell_type": "code",
   "execution_count": 4,
   "id": "cbc0fc23",
   "metadata": {},
   "outputs": [
    {
     "data": {
      "text/plain": [
       "array(['Baltimore Sun', 'Boston Globe', 'Boston Herald',\n",
       "       'Charlotte Observer', 'Chicago Sun Times', 'Chicago Tribune',\n",
       "       'Cincinnati Enquirer', 'Denver Post', 'Des Moines Register',\n",
       "       'Hartford Courant', 'Houston Chronicle', 'Kansas City Star',\n",
       "       'Los Angeles Daily  News', 'Los Angeles Times', 'Miami Herald',\n",
       "       'Minneapolis Star Tribune', 'New Orleans Times-Picayune',\n",
       "       'New York Daily News', 'New York Times', 'Newsday',\n",
       "       'Omaha World Herald', 'Orange County Register',\n",
       "       'Philadelphia Inquirer', 'Pittsburgh Press', 'Portland Oregonian',\n",
       "       'Providence Journal-Bulletin', 'Rochester Democrat & Chronicle',\n",
       "       'Rocky Mountain News', 'Sacramento Bee', 'San Francisco Chronicle',\n",
       "       'St. Louis Post-Dispatch', 'St. Paul Pioneer Press',\n",
       "       'Tampa Tribune', 'Washington Post'], dtype=object)"
      ]
     },
     "execution_count": 4,
     "metadata": {},
     "output_type": "execute_result"
    }
   ],
   "source": [
    "df['Newspaper'].unique()"
   ]
  },
  {
   "cell_type": "code",
   "execution_count": 5,
   "id": "50f4f406",
   "metadata": {},
   "outputs": [
    {
     "data": {
      "text/plain": [
       "34"
      ]
     },
     "execution_count": 5,
     "metadata": {},
     "output_type": "execute_result"
    }
   ],
   "source": [
    "df['Newspaper'].nunique()"
   ]
  },
  {
   "cell_type": "code",
   "execution_count": 7,
   "id": "b6c8e203",
   "metadata": {},
   "outputs": [
    {
     "data": {
      "text/plain": [
       "array([ 391.952,  516.981,  355.628,  238.555,  537.78 ,  733.775,\n",
       "        198.832,  252.624,  206.204,  231.177,  449.755,  288.571,\n",
       "        185.736, 1164.388,  444.581,  412.871,  272.28 ,  781.796,\n",
       "       1209.225,  825.512,  223.748,  354.843,  515.523,  220.465,\n",
       "        337.672,  197.12 ,  133.239,  374.009,  273.844,  570.364,\n",
       "        391.286,  201.86 ,  321.626,  838.902])"
      ]
     },
     "execution_count": 7,
     "metadata": {},
     "output_type": "execute_result"
    }
   ],
   "source": [
    "df[\"daily\"].unique()"
   ]
  },
  {
   "cell_type": "code",
   "execution_count": 8,
   "id": "0fe0e00f",
   "metadata": {},
   "outputs": [
    {
     "data": {
      "text/plain": [
       "0"
      ]
     },
     "execution_count": 8,
     "metadata": {},
     "output_type": "execute_result"
    }
   ],
   "source": [
    "df['daily'].isna().sum()"
   ]
  },
  {
   "cell_type": "code",
   "execution_count": 10,
   "id": "39e7121e",
   "metadata": {},
   "outputs": [
    {
     "data": {
      "text/plain": [
       "array([ 488.506,  798.298,  235.084,  299.451,  559.093, 1133.249,\n",
       "        348.744,  417.779,  344.522,  323.084,  620.752,  423.305,\n",
       "        202.614, 1531.527,  553.479,  685.975,  324.241,  983.24 ,\n",
       "       1762.015,  960.308,  284.611,  407.76 ,  982.663,  557.   ,\n",
       "        440.923,  268.06 ,  262.048,  432.502,  338.355,  704.322,\n",
       "        585.681,  267.781,  408.343, 1165.567])"
      ]
     },
     "execution_count": 10,
     "metadata": {},
     "output_type": "execute_result"
    }
   ],
   "source": [
    "df[\"sunday\"].unique()"
   ]
  },
  {
   "cell_type": "code",
   "execution_count": 11,
   "id": "94d697d6",
   "metadata": {},
   "outputs": [
    {
     "data": {
      "text/plain": [
       "34"
      ]
     },
     "execution_count": 11,
     "metadata": {},
     "output_type": "execute_result"
    }
   ],
   "source": [
    "df[\"sunday\"].nunique()"
   ]
  },
  {
   "cell_type": "code",
   "execution_count": 12,
   "id": "abeaed60",
   "metadata": {},
   "outputs": [
    {
     "data": {
      "text/plain": [
       "0"
      ]
     },
     "execution_count": 12,
     "metadata": {},
     "output_type": "execute_result"
    }
   ],
   "source": [
    "df[\"sunday\"].isna().sum()"
   ]
  },
  {
   "cell_type": "code",
   "execution_count": 22,
   "id": "3326932e",
   "metadata": {},
   "outputs": [],
   "source": [
    "x = df[[\"daily\"]]\n",
    "y = df[[\"sunday\"]]"
   ]
  },
  {
   "cell_type": "code",
   "execution_count": 15,
   "id": "6bf3cf3b",
   "metadata": {},
   "outputs": [],
   "source": [
    "x_train,x_test,y_train,y_test = train_test_split(x,y,train_size=0.8,random_state=45)"
   ]
  },
  {
   "cell_type": "code",
   "execution_count": 35,
   "id": "3f81b722",
   "metadata": {},
   "outputs": [],
   "source": [
    "x_train = x_train.reshape(-1,1)"
   ]
  },
  {
   "cell_type": "code",
   "execution_count": 39,
   "id": "de87ff37",
   "metadata": {},
   "outputs": [],
   "source": [
    "x_test = x_test.to_numpy().reshape(-1,1)"
   ]
  },
  {
   "cell_type": "code",
   "execution_count": 36,
   "id": "069e6654",
   "metadata": {},
   "outputs": [],
   "source": [
    "y_train = y_train.reshape(-1,1)"
   ]
  },
  {
   "cell_type": "code",
   "execution_count": 46,
   "id": "2b0c0f09",
   "metadata": {},
   "outputs": [],
   "source": [
    "y_test = y_test.to_numpy().reshape(-1,1)"
   ]
  },
  {
   "cell_type": "code",
   "execution_count": 19,
   "id": "b773dcec",
   "metadata": {},
   "outputs": [],
   "source": [
    "model = LinearRegression()"
   ]
  },
  {
   "cell_type": "code",
   "execution_count": 37,
   "id": "17f1508a",
   "metadata": {
    "scrolled": true
   },
   "outputs": [
    {
     "data": {
      "text/html": [
       "<style>#sk-container-id-1 {color: black;background-color: white;}#sk-container-id-1 pre{padding: 0;}#sk-container-id-1 div.sk-toggleable {background-color: white;}#sk-container-id-1 label.sk-toggleable__label {cursor: pointer;display: block;width: 100%;margin-bottom: 0;padding: 0.3em;box-sizing: border-box;text-align: center;}#sk-container-id-1 label.sk-toggleable__label-arrow:before {content: \"▸\";float: left;margin-right: 0.25em;color: #696969;}#sk-container-id-1 label.sk-toggleable__label-arrow:hover:before {color: black;}#sk-container-id-1 div.sk-estimator:hover label.sk-toggleable__label-arrow:before {color: black;}#sk-container-id-1 div.sk-toggleable__content {max-height: 0;max-width: 0;overflow: hidden;text-align: left;background-color: #f0f8ff;}#sk-container-id-1 div.sk-toggleable__content pre {margin: 0.2em;color: black;border-radius: 0.25em;background-color: #f0f8ff;}#sk-container-id-1 input.sk-toggleable__control:checked~div.sk-toggleable__content {max-height: 200px;max-width: 100%;overflow: auto;}#sk-container-id-1 input.sk-toggleable__control:checked~label.sk-toggleable__label-arrow:before {content: \"▾\";}#sk-container-id-1 div.sk-estimator input.sk-toggleable__control:checked~label.sk-toggleable__label {background-color: #d4ebff;}#sk-container-id-1 div.sk-label input.sk-toggleable__control:checked~label.sk-toggleable__label {background-color: #d4ebff;}#sk-container-id-1 input.sk-hidden--visually {border: 0;clip: rect(1px 1px 1px 1px);clip: rect(1px, 1px, 1px, 1px);height: 1px;margin: -1px;overflow: hidden;padding: 0;position: absolute;width: 1px;}#sk-container-id-1 div.sk-estimator {font-family: monospace;background-color: #f0f8ff;border: 1px dotted black;border-radius: 0.25em;box-sizing: border-box;margin-bottom: 0.5em;}#sk-container-id-1 div.sk-estimator:hover {background-color: #d4ebff;}#sk-container-id-1 div.sk-parallel-item::after {content: \"\";width: 100%;border-bottom: 1px solid gray;flex-grow: 1;}#sk-container-id-1 div.sk-label:hover label.sk-toggleable__label {background-color: #d4ebff;}#sk-container-id-1 div.sk-serial::before {content: \"\";position: absolute;border-left: 1px solid gray;box-sizing: border-box;top: 0;bottom: 0;left: 50%;z-index: 0;}#sk-container-id-1 div.sk-serial {display: flex;flex-direction: column;align-items: center;background-color: white;padding-right: 0.2em;padding-left: 0.2em;position: relative;}#sk-container-id-1 div.sk-item {position: relative;z-index: 1;}#sk-container-id-1 div.sk-parallel {display: flex;align-items: stretch;justify-content: center;background-color: white;position: relative;}#sk-container-id-1 div.sk-item::before, #sk-container-id-1 div.sk-parallel-item::before {content: \"\";position: absolute;border-left: 1px solid gray;box-sizing: border-box;top: 0;bottom: 0;left: 50%;z-index: -1;}#sk-container-id-1 div.sk-parallel-item {display: flex;flex-direction: column;z-index: 1;position: relative;background-color: white;}#sk-container-id-1 div.sk-parallel-item:first-child::after {align-self: flex-end;width: 50%;}#sk-container-id-1 div.sk-parallel-item:last-child::after {align-self: flex-start;width: 50%;}#sk-container-id-1 div.sk-parallel-item:only-child::after {width: 0;}#sk-container-id-1 div.sk-dashed-wrapped {border: 1px dashed gray;margin: 0 0.4em 0.5em 0.4em;box-sizing: border-box;padding-bottom: 0.4em;background-color: white;}#sk-container-id-1 div.sk-label label {font-family: monospace;font-weight: bold;display: inline-block;line-height: 1.2em;}#sk-container-id-1 div.sk-label-container {text-align: center;}#sk-container-id-1 div.sk-container {/* jupyter's `normalize.less` sets `[hidden] { display: none; }` but bootstrap.min.css set `[hidden] { display: none !important; }` so we also need the `!important` here to be able to override the default hidden behavior on the sphinx rendered scikit-learn.org. See: https://github.com/scikit-learn/scikit-learn/issues/21755 */display: inline-block !important;position: relative;}#sk-container-id-1 div.sk-text-repr-fallback {display: none;}</style><div id=\"sk-container-id-1\" class=\"sk-top-container\"><div class=\"sk-text-repr-fallback\"><pre>LinearRegression()</pre><b>In a Jupyter environment, please rerun this cell to show the HTML representation or trust the notebook. <br />On GitHub, the HTML representation is unable to render, please try loading this page with nbviewer.org.</b></div><div class=\"sk-container\" hidden><div class=\"sk-item\"><div class=\"sk-estimator sk-toggleable\"><input class=\"sk-toggleable__control sk-hidden--visually\" id=\"sk-estimator-id-1\" type=\"checkbox\" checked><label for=\"sk-estimator-id-1\" class=\"sk-toggleable__label sk-toggleable__label-arrow\">LinearRegression</label><div class=\"sk-toggleable__content\"><pre>LinearRegression()</pre></div></div></div></div></div>"
      ],
      "text/plain": [
       "LinearRegression()"
      ]
     },
     "execution_count": 37,
     "metadata": {},
     "output_type": "execute_result"
    }
   ],
   "source": [
    "model.fit(x_train,y_train)"
   ]
  },
  {
   "cell_type": "code",
   "execution_count": 40,
   "id": "94cd7d57",
   "metadata": {},
   "outputs": [],
   "source": [
    "y_predict = model.predict(x_test)"
   ]
  },
  {
   "cell_type": "code",
   "execution_count": 41,
   "id": "40929b19",
   "metadata": {},
   "outputs": [
    {
     "data": {
      "text/plain": [
       "array([[ 383.56654026],\n",
       "       [ 778.62703244],\n",
       "       [ 518.3913172 ],\n",
       "       [ 995.20098504],\n",
       "       [1565.90650335],\n",
       "       [ 329.09138759],\n",
       "       [1134.52924272]])"
      ]
     },
     "execution_count": 41,
     "metadata": {},
     "output_type": "execute_result"
    }
   ],
   "source": [
    "y_predict"
   ]
  },
  {
   "cell_type": "code",
   "execution_count": 42,
   "id": "5a98bd25",
   "metadata": {},
   "outputs": [
    {
     "data": {
      "text/plain": [
       "16     324.241\n",
       "29     704.322\n",
       "27     432.502\n",
       "5     1133.249\n",
       "13    1531.527\n",
       "9      323.084\n",
       "33    1165.567\n",
       "Name: sunday, dtype: float64"
      ]
     },
     "execution_count": 42,
     "metadata": {},
     "output_type": "execute_result"
    }
   ],
   "source": [
    "y_test"
   ]
  },
  {
   "cell_type": "code",
   "execution_count": 47,
   "id": "55f9808c",
   "metadata": {},
   "outputs": [
    {
     "data": {
      "text/plain": [
       "array([[-59.32554026],\n",
       "       [-74.30503244],\n",
       "       [-85.8893172 ],\n",
       "       [138.04801496],\n",
       "       [-34.37950335],\n",
       "       [ -6.00738759],\n",
       "       [ 31.03775728]])"
      ]
     },
     "execution_count": 47,
     "metadata": {},
     "output_type": "execute_result"
    }
   ],
   "source": [
    "error = y_test-y_predict\n",
    "error"
   ]
  },
  {
   "cell_type": "code",
   "execution_count": 48,
   "id": "64f8ef13",
   "metadata": {},
   "outputs": [
    {
     "name": "stdout",
     "output_type": "stream",
     "text": [
      "Mean Absolute Error : 61.28465043924944\n",
      "\n",
      "Mean Squared Error : 5379.481164161232\n",
      "\n",
      "r2 score : 0.9726692144707267\n"
     ]
    }
   ],
   "source": [
    "#Evaluation\n",
    "mae = mean_absolute_error(y_test,y_predict)\n",
    "print(f\"Mean Absolute Error : {mae}\")\n",
    "print()\n",
    "mse = mean_squared_error(y_test,y_predict)\n",
    "print(f\"Mean Squared Error : {mse}\")\n",
    "print()\n",
    "\n",
    "r2 = r2_score(y_test,y_predict)\n",
    "print(f\"r2 score : {r2}\")"
   ]
  },
  {
   "cell_type": "code",
   "execution_count": 52,
   "id": "830e8381",
   "metadata": {},
   "outputs": [
    {
     "data": {
      "image/png": "[encoded data removed]",
      "text/plain": [
       "<Figure size 432x288 with 1 Axes>"
      ]
     },
     "metadata": {
      "needs_background": "light"
     },
     "output_type": "display_data"
    }
   ],
   "source": [
    "# Plot the original data points\n",
    "plt.scatter(x, y, color='blue', label='Original data')\n",
    "\n",
    "# Plot the regression line\n",
    "plt.plot(x_test, y_predict, color='red', linewidth=3, label='Regression line')\n",
    "\n",
    "# Add labels and a legend\n",
    "plt.xlabel('Daily')\n",
    "plt.ylabel('Sunday')\n",
    "plt.title('Newspaper')\n",
    "plt.legend()\n",
    "\n",
    "# Show the plot\n",
    "plt.show()"
   ]
  },
  {
   "cell_type": "markdown",
   "id": "9d06c86a",
   "metadata": {},
   "source": [
    "# 2. delivery_time.csv\n",
    "Independent = ‘Sorting Time’, Dependent=’Delivery Time’"
   ]
  },
  {
   "cell_type": "code",
   "execution_count": 53,
   "id": "a7a93573",
   "metadata": {},
   "outputs": [
    {
     "data": {
      "text/html": [
       "<div>\n",
       "<style scoped>\n",
       "    .dataframe tbody tr th:only-of-type {\n",
       "        vertical-align: middle;\n",
       "    }\n",
       "\n",
       "    .dataframe tbody tr th {\n",
       "        vertical-align: top;\n",
       "    }\n",
       "\n",
       "    .dataframe thead th {\n",
       "        text-align: right;\n",
       "    }\n",
       "</style>\n",
       "<table border=\"1\" class=\"dataframe\">\n",
       "  <thead>\n",
       "    <tr style=\"text-align: right;\">\n",
       "      <th></th>\n",
       "      <th>Delivery Time</th>\n",
       "      <th>Sorting Time</th>\n",
       "    </tr>\n",
       "  </thead>\n",
       "  <tbody>\n",
       "    <tr>\n",
       "      <th>0</th>\n",
       "      <td>21.00</td>\n",
       "      <td>10</td>\n",
       "    </tr>\n",
       "    <tr>\n",
       "      <th>1</th>\n",
       "      <td>13.50</td>\n",
       "      <td>4</td>\n",
       "    </tr>\n",
       "    <tr>\n",
       "      <th>2</th>\n",
       "      <td>19.75</td>\n",
       "      <td>6</td>\n",
       "    </tr>\n",
       "    <tr>\n",
       "      <th>3</th>\n",
       "      <td>24.00</td>\n",
       "      <td>9</td>\n",
       "    </tr>\n",
       "    <tr>\n",
       "      <th>4</th>\n",
       "      <td>29.00</td>\n",
       "      <td>10</td>\n",
       "    </tr>\n",
       "  </tbody>\n",
       "</table>\n",
       "</div>"
      ],
      "text/plain": [
       "   Delivery Time  Sorting Time\n",
       "0          21.00            10\n",
       "1          13.50             4\n",
       "2          19.75             6\n",
       "3          24.00             9\n",
       "4          29.00            10"
      ]
     },
     "execution_count": 53,
     "metadata": {},
     "output_type": "execute_result"
    }
   ],
   "source": [
    "df = pd.read_csv('delivery_time.csv')\n",
    "df.head()"
   ]
  },
  {
   "cell_type": "code",
   "execution_count": 54,
   "id": "08e0744f",
   "metadata": {},
   "outputs": [
    {
     "name": "stdout",
     "output_type": "stream",
     "text": [
      "<class 'pandas.core.frame.DataFrame'>\n",
      "RangeIndex: 21 entries, 0 to 20\n",
      "Data columns (total 2 columns):\n",
      " #   Column         Non-Null Count  Dtype  \n",
      "---  ------         --------------  -----  \n",
      " 0   Delivery Time  21 non-null     float64\n",
      " 1   Sorting Time   21 non-null     int64  \n",
      "dtypes: float64(1), int64(1)\n",
      "memory usage: 464.0 bytes\n"
     ]
    }
   ],
   "source": [
    "df.info()"
   ]
  },
  {
   "cell_type": "code",
   "execution_count": 55,
   "id": "20b4fcec",
   "metadata": {},
   "outputs": [],
   "source": [
    "y = df[\"Delivery Time\"]\n",
    "x = df[\"Sorting Time\"] "
   ]
  },
  {
   "cell_type": "code",
   "execution_count": 56,
   "id": "5de00161",
   "metadata": {},
   "outputs": [],
   "source": [
    "x_train,x_test,y_train,y_test = train_test_split(x,y,train_size=0.8,random_state=45)"
   ]
  },
  {
   "cell_type": "code",
   "execution_count": 57,
   "id": "431c2720",
   "metadata": {},
   "outputs": [],
   "source": [
    "model = LinearRegression()"
   ]
  },
  {
   "cell_type": "code",
   "execution_count": 62,
   "id": "14889edd",
   "metadata": {},
   "outputs": [
    {
     "data": {
      "text/html": [
       "<style>#sk-container-id-2 {color: black;background-color: white;}#sk-container-id-2 pre{padding: 0;}#sk-container-id-2 div.sk-toggleable {background-color: white;}#sk-container-id-2 label.sk-toggleable__label {cursor: pointer;display: block;width: 100%;margin-bottom: 0;padding: 0.3em;box-sizing: border-box;text-align: center;}#sk-container-id-2 label.sk-toggleable__label-arrow:before {content: \"▸\";float: left;margin-right: 0.25em;color: #696969;}#sk-container-id-2 label.sk-toggleable__label-arrow:hover:before {color: black;}#sk-container-id-2 div.sk-estimator:hover label.sk-toggleable__label-arrow:before {color: black;}#sk-container-id-2 div.sk-toggleable__content {max-height: 0;max-width: 0;overflow: hidden;text-align: left;background-color: #f0f8ff;}#sk-container-id-2 div.sk-toggleable__content pre {margin: 0.2em;color: black;border-radius: 0.25em;background-color: #f0f8ff;}#sk-container-id-2 input.sk-toggleable__control:checked~div.sk-toggleable__content {max-height: 200px;max-width: 100%;overflow: auto;}#sk-container-id-2 input.sk-toggleable__control:checked~label.sk-toggleable__label-arrow:before {content: \"▾\";}#sk-container-id-2 div.sk-estimator input.sk-toggleable__control:checked~label.sk-toggleable__label {background-color: #d4ebff;}#sk-container-id-2 div.sk-label input.sk-toggleable__control:checked~label.sk-toggleable__label {background-color: #d4ebff;}#sk-container-id-2 input.sk-hidden--visually {border: 0;clip: rect(1px 1px 1px 1px);clip: rect(1px, 1px, 1px, 1px);height: 1px;margin: -1px;overflow: hidden;padding: 0;position: absolute;width: 1px;}#sk-container-id-2 div.sk-estimator {font-family: monospace;background-color: #f0f8ff;border: 1px dotted black;border-radius: 0.25em;box-sizing: border-box;margin-bottom: 0.5em;}#sk-container-id-2 div.sk-estimator:hover {background-color: #d4ebff;}#sk-container-id-2 div.sk-parallel-item::after {content: \"\";width: 100%;border-bottom: 1px solid gray;flex-grow: 1;}#sk-container-id-2 div.sk-label:hover label.sk-toggleable__label {background-color: #d4ebff;}#sk-container-id-2 div.sk-serial::before {content: \"\";position: absolute;border-left: 1px solid gray;box-sizing: border-box;top: 0;bottom: 0;left: 50%;z-index: 0;}#sk-container-id-2 div.sk-serial {display: flex;flex-direction: column;align-items: center;background-color: white;padding-right: 0.2em;padding-left: 0.2em;position: relative;}#sk-container-id-2 div.sk-item {position: relative;z-index: 1;}#sk-container-id-2 div.sk-parallel {display: flex;align-items: stretch;justify-content: center;background-color: white;position: relative;}#sk-container-id-2 div.sk-item::before, #sk-container-id-2 div.sk-parallel-item::before {content: \"\";position: absolute;border-left: 1px solid gray;box-sizing: border-box;top: 0;bottom: 0;left: 50%;z-index: -1;}#sk-container-id-2 div.sk-parallel-item {display: flex;flex-direction: column;z-index: 1;position: relative;background-color: white;}#sk-container-id-2 div.sk-parallel-item:first-child::after {align-self: flex-end;width: 50%;}#sk-container-id-2 div.sk-parallel-item:last-child::after {align-self: flex-start;width: 50%;}#sk-container-id-2 div.sk-parallel-item:only-child::after {width: 0;}#sk-container-id-2 div.sk-dashed-wrapped {border: 1px dashed gray;margin: 0 0.4em 0.5em 0.4em;box-sizing: border-box;padding-bottom: 0.4em;background-color: white;}#sk-container-id-2 div.sk-label label {font-family: monospace;font-weight: bold;display: inline-block;line-height: 1.2em;}#sk-container-id-2 div.sk-label-container {text-align: center;}#sk-container-id-2 div.sk-container {/* jupyter's `normalize.less` sets `[hidden] { display: none; }` but bootstrap.min.css set `[hidden] { display: none !important; }` so we also need the `!important` here to be able to override the default hidden behavior on the sphinx rendered scikit-learn.org. See: https://github.com/scikit-learn/scikit-learn/issues/21755 */display: inline-block !important;position: relative;}#sk-container-id-2 div.sk-text-repr-fallback {display: none;}</style><div id=\"sk-container-id-2\" class=\"sk-top-container\"><div class=\"sk-text-repr-fallback\"><pre>LinearRegression()</pre><b>In a Jupyter environment, please rerun this cell to show the HTML representation or trust the notebook. <br />On GitHub, the HTML representation is unable to render, please try loading this page with nbviewer.org.</b></div><div class=\"sk-container\" hidden><div class=\"sk-item\"><div class=\"sk-estimator sk-toggleable\"><input class=\"sk-toggleable__control sk-hidden--visually\" id=\"sk-estimator-id-2\" type=\"checkbox\" checked><label for=\"sk-estimator-id-2\" class=\"sk-toggleable__label sk-toggleable__label-arrow\">LinearRegression</label><div class=\"sk-toggleable__content\"><pre>LinearRegression()</pre></div></div></div></div></div>"
      ],
      "text/plain": [
       "LinearRegression()"
      ]
     },
     "execution_count": 62,
     "metadata": {},
     "output_type": "execute_result"
    }
   ],
   "source": [
    "model.fit(x_train,y_train)"
   ]
  },
  {
   "cell_type": "code",
   "execution_count": 63,
   "id": "f9bec75c",
   "metadata": {},
   "outputs": [
    {
     "data": {
      "text/plain": [
       "array([10.79280323, 17.72481402, 14.25880863, 15.99181132, 15.99181132])"
      ]
     },
     "execution_count": 63,
     "metadata": {},
     "output_type": "execute_result"
    }
   ],
   "source": [
    "y_predict = model.predict(x_test)\n",
    "y_predict"
   ]
  },
  {
   "cell_type": "code",
   "execution_count": 64,
   "id": "1b2b885c",
   "metadata": {},
   "outputs": [
    {
     "data": {
      "text/plain": [
       "13    11.50\n",
       "17    18.11\n",
       "20    21.50\n",
       "2     19.75\n",
       "16    13.75\n",
       "Name: Delivery Time, dtype: float64"
      ]
     },
     "execution_count": 64,
     "metadata": {},
     "output_type": "execute_result"
    }
   ],
   "source": [
    "y_test"
   ]
  },
  {
   "cell_type": "code",
   "execution_count": 66,
   "id": "f160a4f3",
   "metadata": {},
   "outputs": [
    {
     "data": {
      "text/plain": [
       "13    0.707197\n",
       "17    0.385186\n",
       "20    7.241191\n",
       "2     3.758189\n",
       "16   -2.241811\n",
       "Name: Delivery Time, dtype: float64"
      ]
     },
     "execution_count": 66,
     "metadata": {},
     "output_type": "execute_result"
    }
   ],
   "source": [
    "#evaluation\n",
    "error = y_test-y_predict\n",
    "error"
   ]
  },
  {
   "cell_type": "code",
   "execution_count": 67,
   "id": "da818ee8",
   "metadata": {},
   "outputs": [
    {
     "name": "stdout",
     "output_type": "stream",
     "text": [
      "Mean Squared Error: 14.44660963568704\n",
      "Mean Absolute Error: 2.866714824797843\n",
      "R2 Score: -0.034462016215509594\n"
     ]
    }
   ],
   "source": [
    "mse = mean_squared_error(y_test,y_predict)\n",
    "print(\"Mean Squared Error:\",mse)\n",
    "mae = mean_absolute_error(y_test,y_predict)\n",
    "print(\"Mean Absolute Error:\",mae)\n",
    "r2 = r2_score(y_test,y_predict)\n",
    "print(\"R2 Score:\",r2)"
   ]
  },
  {
   "cell_type": "code",
   "execution_count": 68,
   "id": "4bdb1dab",
   "metadata": {},
   "outputs": [
    {
     "data": {
      "image/png": "[encoded data removed]",
      "text/plain": [
       "<Figure size 432x288 with 1 Axes>"
      ]
     },
     "metadata": {
      "needs_background": "light"
     },
     "output_type": "display_data"
    }
   ],
   "source": [
    "# Plot the original data points\n",
    "plt.scatter(x, y, color='blue', label='Original data')\n",
    "\n",
    "# Plot the regression line\n",
    "plt.plot(x_test, y_predict, color='red', linewidth=3, label='Regression line')\n",
    "\n",
    "# Add labels and a legend\n",
    "plt.xlabel('Sorting Time')\n",
    "plt.ylabel('Delivery Time')\n",
    "plt.title('Linear Regression')\n",
    "plt.legend()\n",
    "\n",
    "# Show the plot\n",
    "plt.show()"
   ]
  },
  {
   "cell_type": "markdown",
   "id": "39ffc815",
   "metadata": {},
   "source": [
    "# 3. WC_AT.csv\n",
    "Independent = ‘Waist’, Dependent=’AT’"
   ]
  },
  {
   "cell_type": "code",
   "execution_count": 69,
   "id": "12e63dce",
   "metadata": {},
   "outputs": [
    {
     "data": {
      "text/html": [
       "<div>\n",
       "<style scoped>\n",
       "    .dataframe tbody tr th:only-of-type {\n",
       "        vertical-align: middle;\n",
       "    }\n",
       "\n",
       "    .dataframe tbody tr th {\n",
       "        vertical-align: top;\n",
       "    }\n",
       "\n",
       "    .dataframe thead th {\n",
       "        text-align: right;\n",
       "    }\n",
       "</style>\n",
       "<table border=\"1\" class=\"dataframe\">\n",
       "  <thead>\n",
       "    <tr style=\"text-align: right;\">\n",
       "      <th></th>\n",
       "      <th>Waist</th>\n",
       "      <th>AT</th>\n",
       "    </tr>\n",
       "  </thead>\n",
       "  <tbody>\n",
       "    <tr>\n",
       "      <th>0</th>\n",
       "      <td>74.75</td>\n",
       "      <td>25.72</td>\n",
       "    </tr>\n",
       "    <tr>\n",
       "      <th>1</th>\n",
       "      <td>72.60</td>\n",
       "      <td>25.89</td>\n",
       "    </tr>\n",
       "    <tr>\n",
       "      <th>2</th>\n",
       "      <td>81.80</td>\n",
       "      <td>42.60</td>\n",
       "    </tr>\n",
       "    <tr>\n",
       "      <th>3</th>\n",
       "      <td>83.95</td>\n",
       "      <td>42.80</td>\n",
       "    </tr>\n",
       "    <tr>\n",
       "      <th>4</th>\n",
       "      <td>74.65</td>\n",
       "      <td>29.84</td>\n",
       "    </tr>\n",
       "  </tbody>\n",
       "</table>\n",
       "</div>"
      ],
      "text/plain": [
       "   Waist     AT\n",
       "0  74.75  25.72\n",
       "1  72.60  25.89\n",
       "2  81.80  42.60\n",
       "3  83.95  42.80\n",
       "4  74.65  29.84"
      ]
     },
     "execution_count": 69,
     "metadata": {},
     "output_type": "execute_result"
    }
   ],
   "source": [
    "df = pd.read_csv('WC_AT.csv')\n",
    "df.head()"
   ]
  },
  {
   "cell_type": "code",
   "execution_count": 70,
   "id": "0cb2e09f",
   "metadata": {},
   "outputs": [
    {
     "name": "stdout",
     "output_type": "stream",
     "text": [
      "<class 'pandas.core.frame.DataFrame'>\n",
      "RangeIndex: 109 entries, 0 to 108\n",
      "Data columns (total 2 columns):\n",
      " #   Column  Non-Null Count  Dtype  \n",
      "---  ------  --------------  -----  \n",
      " 0   Waist   109 non-null    float64\n",
      " 1   AT      109 non-null    float64\n",
      "dtypes: float64(2)\n",
      "memory usage: 1.8 KB\n"
     ]
    }
   ],
   "source": [
    "df.info()"
   ]
  },
  {
   "cell_type": "code",
   "execution_count": 71,
   "id": "3c276dcf",
   "metadata": {},
   "outputs": [],
   "source": [
    "x = df[\"Waist\"]\n",
    "y = df[\"AT\"]"
   ]
  },
  {
   "cell_type": "code",
   "execution_count": 75,
   "id": "4b9dc8dd",
   "metadata": {},
   "outputs": [],
   "source": [
    "x_train,x_test,y_train,y_test = train_test_split(x,y,test_size=0.8,random_state=45)"
   ]
  },
  {
   "cell_type": "code",
   "execution_count": 78,
   "id": "db5ec89f",
   "metadata": {},
   "outputs": [],
   "source": [
    "x_train = x_train.to_numpy().reshape(-1,1)\n",
    "x_test = x_test.to_numpy().reshape(-1,1)\n",
    "y_train = y_train.to_numpy().reshape(-1,1)\n",
    "y_test = y_test.to_numpy().reshape(-1,1)"
   ]
  },
  {
   "cell_type": "code",
   "execution_count": null,
   "id": "461d05e9",
   "metadata": {},
   "outputs": [],
   "source": []
  },
  {
   "cell_type": "code",
   "execution_count": 79,
   "id": "16f693b1",
   "metadata": {},
   "outputs": [],
   "source": [
    "model = LinearRegression()"
   ]
  },
  {
   "cell_type": "code",
   "execution_count": 80,
   "id": "dc3bef88",
   "metadata": {},
   "outputs": [
    {
     "data": {
      "text/html": [
       "<style>#sk-container-id-3 {color: black;background-color: white;}#sk-container-id-3 pre{padding: 0;}#sk-container-id-3 div.sk-toggleable {background-color: white;}#sk-container-id-3 label.sk-toggleable__label {cursor: pointer;display: block;width: 100%;margin-bottom: 0;padding: 0.3em;box-sizing: border-box;text-align: center;}#sk-container-id-3 label.sk-toggleable__label-arrow:before {content: \"▸\";float: left;margin-right: 0.25em;color: #696969;}#sk-container-id-3 label.sk-toggleable__label-arrow:hover:before {color: black;}#sk-container-id-3 div.sk-estimator:hover label.sk-toggleable__label-arrow:before {color: black;}#sk-container-id-3 div.sk-toggleable__content {max-height: 0;max-width: 0;overflow: hidden;text-align: left;background-color: #f0f8ff;}#sk-container-id-3 div.sk-toggleable__content pre {margin: 0.2em;color: black;border-radius: 0.25em;background-color: #f0f8ff;}#sk-container-id-3 input.sk-toggleable__control:checked~div.sk-toggleable__content {max-height: 200px;max-width: 100%;overflow: auto;}#sk-container-id-3 input.sk-toggleable__control:checked~label.sk-toggleable__label-arrow:before {content: \"▾\";}#sk-container-id-3 div.sk-estimator input.sk-toggleable__control:checked~label.sk-toggleable__label {background-color: #d4ebff;}#sk-container-id-3 div.sk-label input.sk-toggleable__control:checked~label.sk-toggleable__label {background-color: #d4ebff;}#sk-container-id-3 input.sk-hidden--visually {border: 0;clip: rect(1px 1px 1px 1px);clip: rect(1px, 1px, 1px, 1px);height: 1px;margin: -1px;overflow: hidden;padding: 0;position: absolute;width: 1px;}#sk-container-id-3 div.sk-estimator {font-family: monospace;background-color: #f0f8ff;border: 1px dotted black;border-radius: 0.25em;box-sizing: border-box;margin-bottom: 0.5em;}#sk-container-id-3 div.sk-estimator:hover {background-color: #d4ebff;}#sk-container-id-3 div.sk-parallel-item::after {content: \"\";width: 100%;border-bottom: 1px solid gray;flex-grow: 1;}#sk-container-id-3 div.sk-label:hover label.sk-toggleable__label {background-color: #d4ebff;}#sk-container-id-3 div.sk-serial::before {content: \"\";position: absolute;border-left: 1px solid gray;box-sizing: border-box;top: 0;bottom: 0;left: 50%;z-index: 0;}#sk-container-id-3 div.sk-serial {display: flex;flex-direction: column;align-items: center;background-color: white;padding-right: 0.2em;padding-left: 0.2em;position: relative;}#sk-container-id-3 div.sk-item {position: relative;z-index: 1;}#sk-container-id-3 div.sk-parallel {display: flex;align-items: stretch;justify-content: center;background-color: white;position: relative;}#sk-container-id-3 div.sk-item::before, #sk-container-id-3 div.sk-parallel-item::before {content: \"\";position: absolute;border-left: 1px solid gray;box-sizing: border-box;top: 0;bottom: 0;left: 50%;z-index: -1;}#sk-container-id-3 div.sk-parallel-item {display: flex;flex-direction: column;z-index: 1;position: relative;background-color: white;}#sk-container-id-3 div.sk-parallel-item:first-child::after {align-self: flex-end;width: 50%;}#sk-container-id-3 div.sk-parallel-item:last-child::after {align-self: flex-start;width: 50%;}#sk-container-id-3 div.sk-parallel-item:only-child::after {width: 0;}#sk-container-id-3 div.sk-dashed-wrapped {border: 1px dashed gray;margin: 0 0.4em 0.5em 0.4em;box-sizing: border-box;padding-bottom: 0.4em;background-color: white;}#sk-container-id-3 div.sk-label label {font-family: monospace;font-weight: bold;display: inline-block;line-height: 1.2em;}#sk-container-id-3 div.sk-label-container {text-align: center;}#sk-container-id-3 div.sk-container {/* jupyter's `normalize.less` sets `[hidden] { display: none; }` but bootstrap.min.css set `[hidden] { display: none !important; }` so we also need the `!important` here to be able to override the default hidden behavior on the sphinx rendered scikit-learn.org. See: https://github.com/scikit-learn/scikit-learn/issues/21755 */display: inline-block !important;position: relative;}#sk-container-id-3 div.sk-text-repr-fallback {display: none;}</style><div id=\"sk-container-id-3\" class=\"sk-top-container\"><div class=\"sk-text-repr-fallback\"><pre>LinearRegression()</pre><b>In a Jupyter environment, please rerun this cell to show the HTML representation or trust the notebook. <br />On GitHub, the HTML representation is unable to render, please try loading this page with nbviewer.org.</b></div><div class=\"sk-container\" hidden><div class=\"sk-item\"><div class=\"sk-estimator sk-toggleable\"><input class=\"sk-toggleable__control sk-hidden--visually\" id=\"sk-estimator-id-3\" type=\"checkbox\" checked><label for=\"sk-estimator-id-3\" class=\"sk-toggleable__label sk-toggleable__label-arrow\">LinearRegression</label><div class=\"sk-toggleable__content\"><pre>LinearRegression()</pre></div></div></div></div></div>"
      ],
      "text/plain": [
       "LinearRegression()"
      ]
     },
     "execution_count": 80,
     "metadata": {},
     "output_type": "execute_result"
    }
   ],
   "source": [
    "model.fit(x_train,y_train)"
   ]
  },
  {
   "cell_type": "code",
   "execution_count": 81,
   "id": "6ddbaee3",
   "metadata": {},
   "outputs": [],
   "source": [
    "y_predict = model.predict(x_test)"
   ]
  },
  {
   "cell_type": "code",
   "execution_count": 82,
   "id": "b6fdeec7",
   "metadata": {},
   "outputs": [
    {
     "data": {
      "text/plain": [
       "array([[119.59059538],\n",
       "       [144.83295049],\n",
       "       [140.6258913 ],\n",
       "       [ 48.35105985],\n",
       "       [ 68.54494394],\n",
       "       [ 87.33647496],\n",
       "       [128.00471375],\n",
       "       [ 54.38117802],\n",
       "       [150.44236273],\n",
       "       [ 65.17929659],\n",
       "       [ 66.30117904],\n",
       "       [150.72283334],\n",
       "       [ 71.63012067],\n",
       "       [ 77.52000353],\n",
       "       [149.04000967],\n",
       "       [ 87.61694558],\n",
       "       [ 74.15435618],\n",
       "       [ 83.690357  ],\n",
       "       [158.8564811 ],\n",
       "       [ 79.76376843],\n",
       "       [156.05177498],\n",
       "       [136.41883212],\n",
       "       [145.1134211 ],\n",
       "       [ 54.1007074 ],\n",
       "       [ 68.26447333],\n",
       "       [ 78.64188598],\n",
       "       [133.61412599],\n",
       "       [ 46.38776557],\n",
       "       [142.02824436],\n",
       "       [109.77412395],\n",
       "       [102.76235864],\n",
       "       [133.61412599],\n",
       "       [ 95.47012272],\n",
       "       [180.17224764],\n",
       "       [ 50.03388353],\n",
       "       [ 60.27106088],\n",
       "       [ 94.9091815 ],\n",
       "       [ 51.7167072 ],\n",
       "       [153.24706885],\n",
       "       [ 62.37459047],\n",
       "       [ 57.60659006],\n",
       "       [130.24847865],\n",
       "       [132.21177293],\n",
       "       [ 76.11765047],\n",
       "       [149.04000967],\n",
       "       [ 46.24753026],\n",
       "       [ 99.95765252],\n",
       "       [ 85.9341219 ],\n",
       "       [ 69.10588516],\n",
       "       [ 84.53176884],\n",
       "       [ 78.92235659],\n",
       "       [118.18824232],\n",
       "       [147.63765661],\n",
       "       [ 79.48329782],\n",
       "       [153.24706885],\n",
       "       [ 57.88706067],\n",
       "       [ 96.59200517],\n",
       "       [116.78588926],\n",
       "       [115.38353619],\n",
       "       [106.4084766 ],\n",
       "       [ 70.50823822],\n",
       "       [ 66.30117904],\n",
       "       [ 68.82541455],\n",
       "       [184.09883621],\n",
       "       [144.83295049],\n",
       "       [109.77412395],\n",
       "       [ 57.74682536],\n",
       "       [ 64.61835537],\n",
       "       [125.20000762],\n",
       "       [148.47906845],\n",
       "       [ 67.14259088],\n",
       "       [140.6258913 ],\n",
       "       [ 55.08235455],\n",
       "       [ 70.50823822],\n",
       "       [ 71.63012067],\n",
       "       [167.27059947],\n",
       "       [128.00471375],\n",
       "       [125.48047824],\n",
       "       [135.01647905],\n",
       "       [ 91.82400476],\n",
       "       [ 99.95765252],\n",
       "       [122.3953015 ],\n",
       "       [ 90.98259292],\n",
       "       [147.357186  ],\n",
       "       [142.02824436],\n",
       "       [ 52.69835434],\n",
       "       [150.44236273],\n",
       "       [ 74.71529741]])"
      ]
     },
     "execution_count": 82,
     "metadata": {},
     "output_type": "execute_result"
    }
   ],
   "source": [
    "y_predict"
   ]
  },
  {
   "cell_type": "code",
   "execution_count": 83,
   "id": "766f092c",
   "metadata": {},
   "outputs": [
    {
     "name": "stdout",
     "output_type": "stream",
     "text": [
      "Mean Squared Error: 1098.1030437098218\n",
      "Mean Absolute Error: 25.816813459026445\n",
      "R2 Score: 0.6684144965652588\n"
     ]
    }
   ],
   "source": [
    "mse = mean_squared_error(y_test,y_predict)\n",
    "print(\"Mean Squared Error:\",mse)\n",
    "mae = mean_absolute_error(y_test,y_predict)\n",
    "print(\"Mean Absolute Error:\",mae)\n",
    "r2 = r2_score(y_test,y_predict)\n",
    "print(\"R2 Score:\",r2)"
   ]
  },
  {
   "cell_type": "code",
   "execution_count": 88,
   "id": "66513732",
   "metadata": {},
   "outputs": [
    {
     "data": {
      "image/png": "[encoded data removed]",
      "text/plain": [
       "<Figure size 432x288 with 1 Axes>"
      ]
     },
     "metadata": {
      "needs_background": "light"
     },
     "output_type": "display_data"
    }
   ],
   "source": [
    "# Plot the original data points\n",
    "plt.scatter(x, y, color='blue', label='Original data')\n",
    "\n",
    "# Plot the regression line\n",
    "plt.plot(x_test, y_predict, color='red', linewidth=3, label='Regression line')\n",
    "\n",
    "# Add labels and a legend\n",
    "plt.xlabel('Waist')\n",
    "plt.ylabel('AT')\n",
    "plt.title('Linear Regression')\n",
    "plt.legend()\n",
    "\n",
    "# Show the plot\n",
    "plt.show()"
   ]
  },
  {
   "cell_type": "markdown",
   "id": "30c2c239",
   "metadata": {},
   "source": [
    "# Que. 2 "
   ]
  },
  {
   "cell_type": "code",
   "execution_count": null,
   "id": "ed6c5cc1",
   "metadata": {},
   "outputs": [],
   "source": [
    "In the given dataset TVMarketing.csv you have given  sales based on 'TV' marketing budget.\n",
    "Build a linear regression model to predict 'Sales' using 'TV' as the predictor variable.\n",
    "Also Evaluate the model by using different methods.\n",
    "\n",
    "Dataset : TVMarketing"
   ]
  },
  {
   "cell_type": "code",
   "execution_count": 84,
   "id": "b51043de",
   "metadata": {},
   "outputs": [
    {
     "data": {
      "text/html": [
       "<div>\n",
       "<style scoped>\n",
       "    .dataframe tbody tr th:only-of-type {\n",
       "        vertical-align: middle;\n",
       "    }\n",
       "\n",
       "    .dataframe tbody tr th {\n",
       "        vertical-align: top;\n",
       "    }\n",
       "\n",
       "    .dataframe thead th {\n",
       "        text-align: right;\n",
       "    }\n",
       "</style>\n",
       "<table border=\"1\" class=\"dataframe\">\n",
       "  <thead>\n",
       "    <tr style=\"text-align: right;\">\n",
       "      <th></th>\n",
       "      <th>TV</th>\n",
       "      <th>Sales</th>\n",
       "    </tr>\n",
       "  </thead>\n",
       "  <tbody>\n",
       "    <tr>\n",
       "      <th>0</th>\n",
       "      <td>230.1</td>\n",
       "      <td>22.1</td>\n",
       "    </tr>\n",
       "    <tr>\n",
       "      <th>1</th>\n",
       "      <td>44.5</td>\n",
       "      <td>10.4</td>\n",
       "    </tr>\n",
       "    <tr>\n",
       "      <th>2</th>\n",
       "      <td>17.2</td>\n",
       "      <td>9.3</td>\n",
       "    </tr>\n",
       "    <tr>\n",
       "      <th>3</th>\n",
       "      <td>151.5</td>\n",
       "      <td>18.5</td>\n",
       "    </tr>\n",
       "    <tr>\n",
       "      <th>4</th>\n",
       "      <td>180.8</td>\n",
       "      <td>12.9</td>\n",
       "    </tr>\n",
       "  </tbody>\n",
       "</table>\n",
       "</div>"
      ],
      "text/plain": [
       "      TV  Sales\n",
       "0  230.1   22.1\n",
       "1   44.5   10.4\n",
       "2   17.2    9.3\n",
       "3  151.5   18.5\n",
       "4  180.8   12.9"
      ]
     },
     "execution_count": 84,
     "metadata": {},
     "output_type": "execute_result"
    }
   ],
   "source": [
    "df = pd.read_csv('TvMarketing.csv')\n",
    "df.head()"
   ]
  },
  {
   "cell_type": "code",
   "execution_count": 85,
   "id": "ad503273",
   "metadata": {},
   "outputs": [
    {
     "name": "stdout",
     "output_type": "stream",
     "text": [
      "<class 'pandas.core.frame.DataFrame'>\n",
      "RangeIndex: 200 entries, 0 to 199\n",
      "Data columns (total 2 columns):\n",
      " #   Column  Non-Null Count  Dtype  \n",
      "---  ------  --------------  -----  \n",
      " 0   TV      200 non-null    float64\n",
      " 1   Sales   200 non-null    float64\n",
      "dtypes: float64(2)\n",
      "memory usage: 3.2 KB\n"
     ]
    }
   ],
   "source": [
    "df.info()"
   ]
  },
  {
   "cell_type": "code",
   "execution_count": 89,
   "id": "a57d7af6",
   "metadata": {},
   "outputs": [],
   "source": [
    "x = df[\"TV\"]\n",
    "y = df[\"Sales\"]"
   ]
  },
  {
   "cell_type": "code",
   "execution_count": 91,
   "id": "3705a4a6",
   "metadata": {},
   "outputs": [],
   "source": [
    "from sklearn.model_selection import train_test_split\n",
    "x_train,x_test,y_train,y_test = train_test_split(x,y,test_size=0.8,random_state=45)"
   ]
  },
  {
   "cell_type": "code",
   "execution_count": 94,
   "id": "60ab2a30",
   "metadata": {},
   "outputs": [],
   "source": [
    "x_train = x_train.to_numpy().reshape(-1,1)\n",
    "x_test = x_test.to_numpy().reshape(-1,1)\n",
    "y_train = y_train.to_numpy().reshape(-1,1)\n",
    "y_test = y_test.to_numpy().reshape(-1,1)"
   ]
  },
  {
   "cell_type": "code",
   "execution_count": 95,
   "id": "b6d99d01",
   "metadata": {},
   "outputs": [],
   "source": [
    "model = LinearRegression()"
   ]
  },
  {
   "cell_type": "code",
   "execution_count": 96,
   "id": "5fad8e21",
   "metadata": {},
   "outputs": [
    {
     "data": {
      "text/html": [
       "<style>#sk-container-id-4 {color: black;background-color: white;}#sk-container-id-4 pre{padding: 0;}#sk-container-id-4 div.sk-toggleable {background-color: white;}#sk-container-id-4 label.sk-toggleable__label {cursor: pointer;display: block;width: 100%;margin-bottom: 0;padding: 0.3em;box-sizing: border-box;text-align: center;}#sk-container-id-4 label.sk-toggleable__label-arrow:before {content: \"▸\";float: left;margin-right: 0.25em;color: #696969;}#sk-container-id-4 label.sk-toggleable__label-arrow:hover:before {color: black;}#sk-container-id-4 div.sk-estimator:hover label.sk-toggleable__label-arrow:before {color: black;}#sk-container-id-4 div.sk-toggleable__content {max-height: 0;max-width: 0;overflow: hidden;text-align: left;background-color: #f0f8ff;}#sk-container-id-4 div.sk-toggleable__content pre {margin: 0.2em;color: black;border-radius: 0.25em;background-color: #f0f8ff;}#sk-container-id-4 input.sk-toggleable__control:checked~div.sk-toggleable__content {max-height: 200px;max-width: 100%;overflow: auto;}#sk-container-id-4 input.sk-toggleable__control:checked~label.sk-toggleable__label-arrow:before {content: \"▾\";}#sk-container-id-4 div.sk-estimator input.sk-toggleable__control:checked~label.sk-toggleable__label {background-color: #d4ebff;}#sk-container-id-4 div.sk-label input.sk-toggleable__control:checked~label.sk-toggleable__label {background-color: #d4ebff;}#sk-container-id-4 input.sk-hidden--visually {border: 0;clip: rect(1px 1px 1px 1px);clip: rect(1px, 1px, 1px, 1px);height: 1px;margin: -1px;overflow: hidden;padding: 0;position: absolute;width: 1px;}#sk-container-id-4 div.sk-estimator {font-family: monospace;background-color: #f0f8ff;border: 1px dotted black;border-radius: 0.25em;box-sizing: border-box;margin-bottom: 0.5em;}#sk-container-id-4 div.sk-estimator:hover {background-color: #d4ebff;}#sk-container-id-4 div.sk-parallel-item::after {content: \"\";width: 100%;border-bottom: 1px solid gray;flex-grow: 1;}#sk-container-id-4 div.sk-label:hover label.sk-toggleable__label {background-color: #d4ebff;}#sk-container-id-4 div.sk-serial::before {content: \"\";position: absolute;border-left: 1px solid gray;box-sizing: border-box;top: 0;bottom: 0;left: 50%;z-index: 0;}#sk-container-id-4 div.sk-serial {display: flex;flex-direction: column;align-items: center;background-color: white;padding-right: 0.2em;padding-left: 0.2em;position: relative;}#sk-container-id-4 div.sk-item {position: relative;z-index: 1;}#sk-container-id-4 div.sk-parallel {display: flex;align-items: stretch;justify-content: center;background-color: white;position: relative;}#sk-container-id-4 div.sk-item::before, #sk-container-id-4 div.sk-parallel-item::before {content: \"\";position: absolute;border-left: 1px solid gray;box-sizing: border-box;top: 0;bottom: 0;left: 50%;z-index: -1;}#sk-container-id-4 div.sk-parallel-item {display: flex;flex-direction: column;z-index: 1;position: relative;background-color: white;}#sk-container-id-4 div.sk-parallel-item:first-child::after {align-self: flex-end;width: 50%;}#sk-container-id-4 div.sk-parallel-item:last-child::after {align-self: flex-start;width: 50%;}#sk-container-id-4 div.sk-parallel-item:only-child::after {width: 0;}#sk-container-id-4 div.sk-dashed-wrapped {border: 1px dashed gray;margin: 0 0.4em 0.5em 0.4em;box-sizing: border-box;padding-bottom: 0.4em;background-color: white;}#sk-container-id-4 div.sk-label label {font-family: monospace;font-weight: bold;display: inline-block;line-height: 1.2em;}#sk-container-id-4 div.sk-label-container {text-align: center;}#sk-container-id-4 div.sk-container {/* jupyter's `normalize.less` sets `[hidden] { display: none; }` but bootstrap.min.css set `[hidden] { display: none !important; }` so we also need the `!important` here to be able to override the default hidden behavior on the sphinx rendered scikit-learn.org. See: https://github.com/scikit-learn/scikit-learn/issues/21755 */display: inline-block !important;position: relative;}#sk-container-id-4 div.sk-text-repr-fallback {display: none;}</style><div id=\"sk-container-id-4\" class=\"sk-top-container\"><div class=\"sk-text-repr-fallback\"><pre>LinearRegression()</pre><b>In a Jupyter environment, please rerun this cell to show the HTML representation or trust the notebook. <br />On GitHub, the HTML representation is unable to render, please try loading this page with nbviewer.org.</b></div><div class=\"sk-container\" hidden><div class=\"sk-item\"><div class=\"sk-estimator sk-toggleable\"><input class=\"sk-toggleable__control sk-hidden--visually\" id=\"sk-estimator-id-4\" type=\"checkbox\" checked><label for=\"sk-estimator-id-4\" class=\"sk-toggleable__label sk-toggleable__label-arrow\">LinearRegression</label><div class=\"sk-toggleable__content\"><pre>LinearRegression()</pre></div></div></div></div></div>"
      ],
      "text/plain": [
       "LinearRegression()"
      ]
     },
     "execution_count": 96,
     "metadata": {},
     "output_type": "execute_result"
    }
   ],
   "source": [
    "model.fit(x_train,y_train)"
   ]
  },
  {
   "cell_type": "code",
   "execution_count": 99,
   "id": "8957f223",
   "metadata": {},
   "outputs": [
    {
     "data": {
      "text/plain": [
       "array([[15.52357209],\n",
       "       [ 7.8821298 ],\n",
       "       [16.93540971],\n",
       "       [17.36308315],\n",
       "       [20.0476357 ],\n",
       "       [11.52508307],\n",
       "       [15.3277698 ],\n",
       "       [10.43786505],\n",
       "       [14.30753677],\n",
       "       [ 7.79453404],\n",
       "       [ 8.4025517 ],\n",
       "       [ 8.80446168],\n",
       "       [15.17834173],\n",
       "       [20.18675839],\n",
       "       [18.83160038],\n",
       "       [ 9.39702126],\n",
       "       [15.55448824],\n",
       "       [ 9.57221279],\n",
       "       [17.67224467],\n",
       "       [ 8.53652169],\n",
       "       [17.82682543],\n",
       "       [ 7.51113598],\n",
       "       [21.48008409],\n",
       "       [14.21994101],\n",
       "       [16.34800282],\n",
       "       [ 9.90713777],\n",
       "       [18.77492077],\n",
       "       [15.27109018],\n",
       "       [13.86440526],\n",
       "       [14.97738674],\n",
       "       [19.03255537],\n",
       "       [18.35755271],\n",
       "       [19.6611838 ],\n",
       "       [14.21478832],\n",
       "       [12.7359657 ],\n",
       "       [10.38118544],\n",
       "       [13.2563876 ],\n",
       "       [21.1503118 ],\n",
       "       [15.81727554],\n",
       "       [19.32110612],\n",
       "       [16.02853591],\n",
       "       [17.96079543],\n",
       "       [ 8.71686591],\n",
       "       [13.67890834],\n",
       "       [20.76901259],\n",
       "       [13.67375565],\n",
       "       [ 8.98995859],\n",
       "       [10.13900891],\n",
       "       [19.96519263],\n",
       "       [10.02564969],\n",
       "       [21.32035063],\n",
       "       [19.57874073],\n",
       "       [19.30049536],\n",
       "       [17.15697547],\n",
       "       [ 8.7220186 ],\n",
       "       [12.4783311 ],\n",
       "       [13.68921373],\n",
       "       [21.23790756],\n",
       "       [17.50220583],\n",
       "       [17.60010698],\n",
       "       [17.49705314],\n",
       "       [17.30125085],\n",
       "       [ 7.91819865],\n",
       "       [10.37088006],\n",
       "       [13.42127374],\n",
       "       [16.02853591],\n",
       "       [10.91706541],\n",
       "       [11.43233462],\n",
       "       [10.53061351],\n",
       "       [12.03519958],\n",
       "       [13.28730375],\n",
       "       [ 8.12430633],\n",
       "       [12.15886419],\n",
       "       [ 9.99473354],\n",
       "       [17.96079543],\n",
       "       [ 7.97487826],\n",
       "       [17.85258889],\n",
       "       [20.7587072 ],\n",
       "       [17.16212816],\n",
       "       [21.59344331],\n",
       "       [20.93905142],\n",
       "       [16.6829278 ],\n",
       "       [ 8.79415629],\n",
       "       [20.96481488],\n",
       "       [13.46764797],\n",
       "       [16.45620935],\n",
       "       [18.73369923],\n",
       "       [ 8.45923131],\n",
       "       [10.43786505],\n",
       "       [ 6.71246871],\n",
       "       [10.35026929],\n",
       "       [11.67451114],\n",
       "       [17.6516339 ],\n",
       "       [20.60412644],\n",
       "       [21.11424295],\n",
       "       [ 9.07755436],\n",
       "       [18.20812464],\n",
       "       [ 7.42354021],\n",
       "       [14.09112371],\n",
       "       [19.42931266],\n",
       "       [16.48197281],\n",
       "       [18.86251653],\n",
       "       [18.0432385 ],\n",
       "       [11.15924194],\n",
       "       [12.15886419],\n",
       "       [18.87282192],\n",
       "       [ 7.38747137],\n",
       "       [16.76021818],\n",
       "       [18.24934618],\n",
       "       [15.62147324],\n",
       "       [15.09589865],\n",
       "       [ 7.37201329],\n",
       "       [18.26480426],\n",
       "       [21.77378753],\n",
       "       [ 7.38747137],\n",
       "       [ 6.77945371],\n",
       "       [14.57032407],\n",
       "       [12.69474416],\n",
       "       [16.79628703],\n",
       "       [ 7.78938135],\n",
       "       [ 7.50083059],\n",
       "       [17.06422701],\n",
       "       [ 6.53727718],\n",
       "       [13.16879183],\n",
       "       [10.99435579],\n",
       "       [16.79628703],\n",
       "       [17.75468774],\n",
       "       [ 6.93403447],\n",
       "       [12.20523842],\n",
       "       [10.06687123],\n",
       "       [18.58427116],\n",
       "       [11.89092421],\n",
       "       [15.3896021 ],\n",
       "       [18.85736384],\n",
       "       [ 6.94949254],\n",
       "       [11.05103541],\n",
       "       [16.7499128 ],\n",
       "       [10.63366735],\n",
       "       [17.7186189 ],\n",
       "       [17.35793046],\n",
       "       [10.39149082],\n",
       "       [16.17796398],\n",
       "       [13.60677066],\n",
       "       [ 9.25789858],\n",
       "       [11.35504424],\n",
       "       [18.87282192],\n",
       "       [16.18311667],\n",
       "       [ 7.18136369],\n",
       "       [21.42855717],\n",
       "       [11.33958616],\n",
       "       [ 8.4695367 ],\n",
       "       [18.95526499],\n",
       "       [16.6829278 ],\n",
       "       [11.45809808],\n",
       "       [20.03733032],\n",
       "       [15.03406635],\n",
       "       [11.79302306],\n",
       "       [12.84417223],\n",
       "       [12.71020224],\n",
       "       [ 9.94835931]])"
      ]
     },
     "execution_count": 99,
     "metadata": {},
     "output_type": "execute_result"
    }
   ],
   "source": [
    "y_predict = model.predict(x_test)\n",
    "y_predict"
   ]
  },
  {
   "cell_type": "code",
   "execution_count": 100,
   "id": "6c0f09b5",
   "metadata": {},
   "outputs": [
    {
     "data": {
      "text/plain": [
       "array([[-0.62357209],\n",
       "       [ 0.9178702 ],\n",
       "       [-0.33540971],\n",
       "       [ 6.43691685],\n",
       "       [-8.0476357 ],\n",
       "       [-1.82508307],\n",
       "       [ 3.6722302 ],\n",
       "       [ 1.36213495],\n",
       "       [ 4.19246323],\n",
       "       [ 0.70546596],\n",
       "       [ 2.3974483 ],\n",
       "       [ 1.29553832],\n",
       "       [-3.47834173],\n",
       "       [-2.78675839],\n",
       "       [-3.13160038],\n",
       "       [-0.69702126],\n",
       "       [-1.45448824],\n",
       "       [ 0.12778721],\n",
       "       [ 4.62775533],\n",
       "       [ 2.26347831],\n",
       "       [ 1.77317457],\n",
       "       [ 0.08886402],\n",
       "       [-8.68008409],\n",
       "       [-4.11994101],\n",
       "       [ 0.95199718],\n",
       "       [-1.30713777],\n",
       "       [ 1.92507923],\n",
       "       [-3.57109018],\n",
       "       [ 1.13559474],\n",
       "       [-0.47738674],\n",
       "       [ 6.36744463],\n",
       "       [ 3.74244729],\n",
       "       [ 0.1388162 ],\n",
       "       [ 3.08521168],\n",
       "       [-1.1359657 ],\n",
       "       [ 0.91881456],\n",
       "       [ 4.7436124 ],\n",
       "       [-6.1503118 ],\n",
       "       [-2.91727554],\n",
       "       [-0.42110612],\n",
       "       [-0.52853591],\n",
       "       [-6.46079543],\n",
       "       [ 0.88313409],\n",
       "       [-0.27890834],\n",
       "       [ 6.23098741],\n",
       "       [-1.47375565],\n",
       "       [ 2.61004141],\n",
       "       [ 0.36099109],\n",
       "       [ 4.23480737],\n",
       "       [ 3.57435031],\n",
       "       [ 4.87964937],\n",
       "       [-1.97874073],\n",
       "       [ 0.89950464],\n",
       "       [-4.95697547],\n",
       "       [ 1.3779814 ],\n",
       "       [-1.4783311 ],\n",
       "       [-3.38921373],\n",
       "       [-5.33790756],\n",
       "       [ 4.19779417],\n",
       "       [-0.50010698],\n",
       "       [-0.49705314],\n",
       "       [-1.40125085],\n",
       "       [-1.01819865],\n",
       "       [ 2.22911994],\n",
       "       [-2.22127374],\n",
       "       [ 4.67146409],\n",
       "       [ 2.38293459],\n",
       "       [-1.93233462],\n",
       "       [ 4.06938649],\n",
       "       [-0.53519958],\n",
       "       [-0.38730375],\n",
       "       [ 1.37569367],\n",
       "       [ 4.54113581],\n",
       "       [ 2.50526646],\n",
       "       [-6.26079543],\n",
       "       [-0.67487826],\n",
       "       [ 6.84741111],\n",
       "       [-8.9587072 ],\n",
       "       [-4.26212816],\n",
       "       [-0.19344331],\n",
       "       [-6.13905142],\n",
       "       [-4.9829278 ],\n",
       "       [ 1.60584371],\n",
       "       [-4.86481488],\n",
       "       [ 3.73235203],\n",
       "       [-1.25620935],\n",
       "       [-6.23369923],\n",
       "       [ 2.44076869],\n",
       "       [-1.03786505],\n",
       "       [-3.51246871],\n",
       "       [ 4.34973071],\n",
       "       [-0.97451114],\n",
       "       [ 4.9483661 ],\n",
       "       [ 0.19587356],\n",
       "       [ 4.38575705],\n",
       "       [-0.67755436],\n",
       "       [-3.40812464],\n",
       "       [ 0.57645979],\n",
       "       [ 0.50887629],\n",
       "       [ 2.77068734],\n",
       "       [ 2.71802719],\n",
       "       [ 4.33748347],\n",
       "       [-6.4432385 ],\n",
       "       [-2.45924194],\n",
       "       [ 0.24113581],\n",
       "       [-5.67282192],\n",
       "       [ 1.91252863],\n",
       "       [ 1.53978182],\n",
       "       [ 3.25065382],\n",
       "       [ 1.47852676],\n",
       "       [ 4.50410135],\n",
       "       [ 1.32798671],\n",
       "       [-2.76480426],\n",
       "       [ 2.02621247],\n",
       "       [-1.48747137],\n",
       "       [-1.47945371],\n",
       "       [-4.07032407],\n",
       "       [ 0.50525584],\n",
       "       [-5.39628703],\n",
       "       [-0.58938135],\n",
       "       [-0.90083059],\n",
       "       [ 5.53577299],\n",
       "       [-4.93727718],\n",
       "       [-2.16879183],\n",
       "       [-0.39435579],\n",
       "       [-6.19628703],\n",
       "       [ 0.24531226],\n",
       "       [-1.23403447],\n",
       "       [ 3.79476158],\n",
       "       [ 1.23312877],\n",
       "       [-6.68427116],\n",
       "       [-1.49092421],\n",
       "       [-0.9896021 ],\n",
       "       [-6.55736384],\n",
       "       [ 0.25050746],\n",
       "       [ 1.84896459],\n",
       "       [ 6.9500872 ],\n",
       "       [-1.83366735],\n",
       "       [ 1.6813811 ],\n",
       "       [ 1.04206954],\n",
       "       [-0.49149082],\n",
       "       [-0.57796398],\n",
       "       [ 5.59322934],\n",
       "       [-1.15789858],\n",
       "       [-1.65504424],\n",
       "       [-2.97282192],\n",
       "       [-1.48311667],\n",
       "       [-1.58136369],\n",
       "       [ 3.97144283],\n",
       "       [ 3.96041384],\n",
       "       [-0.8695367 ],\n",
       "       [ 2.84473501],\n",
       "       [-0.0829278 ],\n",
       "       [-0.05809808],\n",
       "       [ 0.16266968],\n",
       "       [-2.43406635],\n",
       "       [ 2.20697694],\n",
       "       [ 2.35582777],\n",
       "       [ 1.48979776],\n",
       "       [-0.24835931]])"
      ]
     },
     "execution_count": 100,
     "metadata": {},
     "output_type": "execute_result"
    }
   ],
   "source": [
    "error = y_test-y_predict\n",
    "error"
   ]
  },
  {
   "cell_type": "code",
   "execution_count": 101,
   "id": "d1ff4217",
   "metadata": {},
   "outputs": [
    {
     "name": "stdout",
     "output_type": "stream",
     "text": [
      "Mean Squared Error: 11.27697996960433\n",
      "Mean Absolute Error: 2.6350104879076484\n",
      "R2 Score: 0.5752650839321792\n"
     ]
    }
   ],
   "source": [
    "mse = mean_squared_error(y_test,y_predict)\n",
    "print(\"Mean Squared Error:\",mse)\n",
    "mae = mean_absolute_error(y_test,y_predict)\n",
    "print(\"Mean Absolute Error:\",mae)\n",
    "r2 = r2_score(y_test,y_predict)\n",
    "print(\"R2 Score:\",r2)"
   ]
  },
  {
   "cell_type": "code",
   "execution_count": 102,
   "id": "5a7729c8",
   "metadata": {},
   "outputs": [
    {
     "data": {
      "image/png": "[encoded data removed]",
      "text/plain": [
       "<Figure size 432x288 with 1 Axes>"
      ]
     },
     "metadata": {
      "needs_background": "light"
     },
     "output_type": "display_data"
    }
   ],
   "source": [
    "# Plot the original data points\n",
    "plt.scatter(x, y, color='blue', label='Original data')\n",
    "\n",
    "# Plot the regression line\n",
    "plt.plot(x_test, y_predict, color='red', linewidth=3, label='Regression line')\n",
    "\n",
    "# Add labels and a legend\n",
    "plt.xlabel('TV')\n",
    "plt.ylabel('Sales')\n",
    "plt.title('Linear Regression')\n",
    "plt.legend()\n",
    "\n",
    "# Show the plot\n",
    "plt.show()"
   ]
  },
  {
   "cell_type": "markdown",
   "id": "0619fcdb",
   "metadata": {},
   "source": [
    "# Que. 3"
   ]
  },
  {
   "cell_type": "code",
   "execution_count": null,
   "id": "3b614237",
   "metadata": {},
   "outputs": [],
   "source": [
    "You own an ice cream business and you would like to create a model that could predict the daily \n",
    "revenue in dollars based on the outside air temperature (degC). Build Linear Regression Model and \n",
    "evaluate it with measuring different errors.\n",
    "\n",
    "Dataset : IceCreamData"
   ]
  },
  {
   "cell_type": "code",
   "execution_count": 143,
   "id": "a4fa1a39",
   "metadata": {},
   "outputs": [
    {
     "data": {
      "text/html": [
       "<div>\n",
       "<style scoped>\n",
       "    .dataframe tbody tr th:only-of-type {\n",
       "        vertical-align: middle;\n",
       "    }\n",
       "\n",
       "    .dataframe tbody tr th {\n",
       "        vertical-align: top;\n",
       "    }\n",
       "\n",
       "    .dataframe thead th {\n",
       "        text-align: right;\n",
       "    }\n",
       "</style>\n",
       "<table border=\"1\" class=\"dataframe\">\n",
       "  <thead>\n",
       "    <tr style=\"text-align: right;\">\n",
       "      <th></th>\n",
       "      <th>Temperature</th>\n",
       "      <th>Revenue</th>\n",
       "    </tr>\n",
       "  </thead>\n",
       "  <tbody>\n",
       "    <tr>\n",
       "      <th>0</th>\n",
       "      <td>24.566884</td>\n",
       "      <td>534.799028</td>\n",
       "    </tr>\n",
       "    <tr>\n",
       "      <th>1</th>\n",
       "      <td>26.005191</td>\n",
       "      <td>625.190122</td>\n",
       "    </tr>\n",
       "    <tr>\n",
       "      <th>2</th>\n",
       "      <td>27.790554</td>\n",
       "      <td>660.632289</td>\n",
       "    </tr>\n",
       "    <tr>\n",
       "      <th>3</th>\n",
       "      <td>20.595335</td>\n",
       "      <td>487.706960</td>\n",
       "    </tr>\n",
       "    <tr>\n",
       "      <th>4</th>\n",
       "      <td>11.503498</td>\n",
       "      <td>316.240194</td>\n",
       "    </tr>\n",
       "  </tbody>\n",
       "</table>\n",
       "</div>"
      ],
      "text/plain": [
       "   Temperature     Revenue\n",
       "0    24.566884  534.799028\n",
       "1    26.005191  625.190122\n",
       "2    27.790554  660.632289\n",
       "3    20.595335  487.706960\n",
       "4    11.503498  316.240194"
      ]
     },
     "execution_count": 143,
     "metadata": {},
     "output_type": "execute_result"
    }
   ],
   "source": [
    "df = pd.read_csv('IceCreamData.csv')\n",
    "df.head()"
   ]
  },
  {
   "cell_type": "code",
   "execution_count": 144,
   "id": "e532ed72",
   "metadata": {},
   "outputs": [
    {
     "name": "stdout",
     "output_type": "stream",
     "text": [
      "<class 'pandas.core.frame.DataFrame'>\n",
      "RangeIndex: 500 entries, 0 to 499\n",
      "Data columns (total 2 columns):\n",
      " #   Column       Non-Null Count  Dtype  \n",
      "---  ------       --------------  -----  \n",
      " 0   Temperature  500 non-null    float64\n",
      " 1   Revenue      500 non-null    float64\n",
      "dtypes: float64(2)\n",
      "memory usage: 7.9 KB\n"
     ]
    }
   ],
   "source": [
    "df.info()"
   ]
  },
  {
   "cell_type": "code",
   "execution_count": 145,
   "id": "dc6e5fb9",
   "metadata": {},
   "outputs": [],
   "source": [
    "x = df[\"Temperature\"]\n",
    "y = df[\"Revenue\"]"
   ]
  },
  {
   "cell_type": "code",
   "execution_count": 146,
   "id": "e568593e",
   "metadata": {},
   "outputs": [],
   "source": [
    "from sklearn.model_selection import train_test_split\n",
    "x_train,x_test,y_train,y_test = train_test_split(x,y,train_size=0.8,random_state=45)"
   ]
  },
  {
   "cell_type": "code",
   "execution_count": 147,
   "id": "90bfed3f",
   "metadata": {},
   "outputs": [],
   "source": [
    "x_train = x_train.to_numpy().reshape(-1,1)\n",
    "x_test = x_test.to_numpy().reshape(-1,1)\n",
    "y_train = y_train.to_numpy().reshape(-1,1)\n",
    "y_test = y_test.to_numpy().reshape(-1,1)"
   ]
  },
  {
   "cell_type": "code",
   "execution_count": 148,
   "id": "2468a80f",
   "metadata": {},
   "outputs": [],
   "source": [
    "model = LinearRegression()"
   ]
  },
  {
   "cell_type": "code",
   "execution_count": 149,
   "id": "043170bf",
   "metadata": {},
   "outputs": [
    {
     "data": {
      "text/html": [
       "<style>#sk-container-id-7 {color: black;background-color: white;}#sk-container-id-7 pre{padding: 0;}#sk-container-id-7 div.sk-toggleable {background-color: white;}#sk-container-id-7 label.sk-toggleable__label {cursor: pointer;display: block;width: 100%;margin-bottom: 0;padding: 0.3em;box-sizing: border-box;text-align: center;}#sk-container-id-7 label.sk-toggleable__label-arrow:before {content: \"▸\";float: left;margin-right: 0.25em;color: #696969;}#sk-container-id-7 label.sk-toggleable__label-arrow:hover:before {color: black;}#sk-container-id-7 div.sk-estimator:hover label.sk-toggleable__label-arrow:before {color: black;}#sk-container-id-7 div.sk-toggleable__content {max-height: 0;max-width: 0;overflow: hidden;text-align: left;background-color: #f0f8ff;}#sk-container-id-7 div.sk-toggleable__content pre {margin: 0.2em;color: black;border-radius: 0.25em;background-color: #f0f8ff;}#sk-container-id-7 input.sk-toggleable__control:checked~div.sk-toggleable__content {max-height: 200px;max-width: 100%;overflow: auto;}#sk-container-id-7 input.sk-toggleable__control:checked~label.sk-toggleable__label-arrow:before {content: \"▾\";}#sk-container-id-7 div.sk-estimator input.sk-toggleable__control:checked~label.sk-toggleable__label {background-color: #d4ebff;}#sk-container-id-7 div.sk-label input.sk-toggleable__control:checked~label.sk-toggleable__label {background-color: #d4ebff;}#sk-container-id-7 input.sk-hidden--visually {border: 0;clip: rect(1px 1px 1px 1px);clip: rect(1px, 1px, 1px, 1px);height: 1px;margin: -1px;overflow: hidden;padding: 0;position: absolute;width: 1px;}#sk-container-id-7 div.sk-estimator {font-family: monospace;background-color: #f0f8ff;border: 1px dotted black;border-radius: 0.25em;box-sizing: border-box;margin-bottom: 0.5em;}#sk-container-id-7 div.sk-estimator:hover {background-color: #d4ebff;}#sk-container-id-7 div.sk-parallel-item::after {content: \"\";width: 100%;border-bottom: 1px solid gray;flex-grow: 1;}#sk-container-id-7 div.sk-label:hover label.sk-toggleable__label {background-color: #d4ebff;}#sk-container-id-7 div.sk-serial::before {content: \"\";position: absolute;border-left: 1px solid gray;box-sizing: border-box;top: 0;bottom: 0;left: 50%;z-index: 0;}#sk-container-id-7 div.sk-serial {display: flex;flex-direction: column;align-items: center;background-color: white;padding-right: 0.2em;padding-left: 0.2em;position: relative;}#sk-container-id-7 div.sk-item {position: relative;z-index: 1;}#sk-container-id-7 div.sk-parallel {display: flex;align-items: stretch;justify-content: center;background-color: white;position: relative;}#sk-container-id-7 div.sk-item::before, #sk-container-id-7 div.sk-parallel-item::before {content: \"\";position: absolute;border-left: 1px solid gray;box-sizing: border-box;top: 0;bottom: 0;left: 50%;z-index: -1;}#sk-container-id-7 div.sk-parallel-item {display: flex;flex-direction: column;z-index: 1;position: relative;background-color: white;}#sk-container-id-7 div.sk-parallel-item:first-child::after {align-self: flex-end;width: 50%;}#sk-container-id-7 div.sk-parallel-item:last-child::after {align-self: flex-start;width: 50%;}#sk-container-id-7 div.sk-parallel-item:only-child::after {width: 0;}#sk-container-id-7 div.sk-dashed-wrapped {border: 1px dashed gray;margin: 0 0.4em 0.5em 0.4em;box-sizing: border-box;padding-bottom: 0.4em;background-color: white;}#sk-container-id-7 div.sk-label label {font-family: monospace;font-weight: bold;display: inline-block;line-height: 1.2em;}#sk-container-id-7 div.sk-label-container {text-align: center;}#sk-container-id-7 div.sk-container {/* jupyter's `normalize.less` sets `[hidden] { display: none; }` but bootstrap.min.css set `[hidden] { display: none !important; }` so we also need the `!important` here to be able to override the default hidden behavior on the sphinx rendered scikit-learn.org. See: https://github.com/scikit-learn/scikit-learn/issues/21755 */display: inline-block !important;position: relative;}#sk-container-id-7 div.sk-text-repr-fallback {display: none;}</style><div id=\"sk-container-id-7\" class=\"sk-top-container\"><div class=\"sk-text-repr-fallback\"><pre>LinearRegression()</pre><b>In a Jupyter environment, please rerun this cell to show the HTML representation or trust the notebook. <br />On GitHub, the HTML representation is unable to render, please try loading this page with nbviewer.org.</b></div><div class=\"sk-container\" hidden><div class=\"sk-item\"><div class=\"sk-estimator sk-toggleable\"><input class=\"sk-toggleable__control sk-hidden--visually\" id=\"sk-estimator-id-7\" type=\"checkbox\" checked><label for=\"sk-estimator-id-7\" class=\"sk-toggleable__label sk-toggleable__label-arrow\">LinearRegression</label><div class=\"sk-toggleable__content\"><pre>LinearRegression()</pre></div></div></div></div></div>"
      ],
      "text/plain": [
       "LinearRegression()"
      ]
     },
     "execution_count": 149,
     "metadata": {},
     "output_type": "execute_result"
    }
   ],
   "source": [
    "model.fit(x_train,y_train)"
   ]
  },
  {
   "cell_type": "code",
   "execution_count": 150,
   "id": "c24f221c",
   "metadata": {},
   "outputs": [],
   "source": [
    "y_predict = model.predict(x_test)"
   ]
  },
  {
   "cell_type": "code",
   "execution_count": 151,
   "id": "6c05e3c5",
   "metadata": {},
   "outputs": [
    {
     "name": "stdout",
     "output_type": "stream",
     "text": [
      "Mean Squared Error: 770.3682766207198\n",
      "Mean Absolute Error: 21.7965806151693\n",
      "R2 Score: 0.9792969922524392\n"
     ]
    }
   ],
   "source": [
    "mse = mean_squared_error(y_test,y_predict)\n",
    "print(\"Mean Squared Error:\",mse)\n",
    "mae = mean_absolute_error(y_test,y_predict)\n",
    "print(\"Mean Absolute Error:\",mae)\n",
    "r2 = r2_score(y_test,y_predict)\n",
    "print(\"R2 Score:\",r2)"
   ]
  },
  {
   "cell_type": "code",
   "execution_count": 152,
   "id": "f54d019a",
   "metadata": {},
   "outputs": [
    {
     "data": {
      "image/png": "[encoded data removed]",
      "text/plain": [
       "<Figure size 432x288 with 1 Axes>"
      ]
     },
     "metadata": {
      "needs_background": "light"
     },
     "output_type": "display_data"
    }
   ],
   "source": [
    "# Plot the original data points\n",
    "plt.scatter(x, y, color='blue', label='Original data')\n",
    "\n",
    "# Plot the regression line\n",
    "plt.plot(x_test, y_predict, color='red', linewidth=3, label='Regression line')\n",
    "\n",
    "# Add labels and a legend\n",
    "plt.xlabel('Tempreture')\n",
    "plt.ylabel(\"Revenue\")\n",
    "plt.title('Linear Regression')\n",
    "plt.legend()\n",
    "\n",
    "# Show the plot\n",
    "plt.show()"
   ]
  },
  {
   "cell_type": "markdown",
   "id": "217f69e0",
   "metadata": {},
   "source": [
    "# Que. 4"
   ]
  },
  {
   "cell_type": "code",
   "execution_count": null,
   "id": "a7d7e2f7",
   "metadata": {},
   "outputs": [],
   "source": [
    "In the following dataset you have given SAT score and GPA of students. You have to predict GPA of \n",
    "students by using SAT score.Build a Linear Regression Model and Calculate different errors to evaluate\n",
    "the model.\n",
    "\n",
    "Dataset : SAT-GPA"
   ]
  },
  {
   "cell_type": "code",
   "execution_count": 153,
   "id": "89792506",
   "metadata": {},
   "outputs": [
    {
     "data": {
      "text/html": [
       "<div>\n",
       "<style scoped>\n",
       "    .dataframe tbody tr th:only-of-type {\n",
       "        vertical-align: middle;\n",
       "    }\n",
       "\n",
       "    .dataframe tbody tr th {\n",
       "        vertical-align: top;\n",
       "    }\n",
       "\n",
       "    .dataframe thead th {\n",
       "        text-align: right;\n",
       "    }\n",
       "</style>\n",
       "<table border=\"1\" class=\"dataframe\">\n",
       "  <thead>\n",
       "    <tr style=\"text-align: right;\">\n",
       "      <th></th>\n",
       "      <th>SAT</th>\n",
       "      <th>GPA</th>\n",
       "    </tr>\n",
       "  </thead>\n",
       "  <tbody>\n",
       "    <tr>\n",
       "      <th>0</th>\n",
       "      <td>1714</td>\n",
       "      <td>2.40</td>\n",
       "    </tr>\n",
       "    <tr>\n",
       "      <th>1</th>\n",
       "      <td>1664</td>\n",
       "      <td>2.52</td>\n",
       "    </tr>\n",
       "    <tr>\n",
       "      <th>2</th>\n",
       "      <td>1760</td>\n",
       "      <td>2.54</td>\n",
       "    </tr>\n",
       "    <tr>\n",
       "      <th>3</th>\n",
       "      <td>1685</td>\n",
       "      <td>2.74</td>\n",
       "    </tr>\n",
       "    <tr>\n",
       "      <th>4</th>\n",
       "      <td>1693</td>\n",
       "      <td>2.83</td>\n",
       "    </tr>\n",
       "    <tr>\n",
       "      <th>...</th>\n",
       "      <td>...</td>\n",
       "      <td>...</td>\n",
       "    </tr>\n",
       "    <tr>\n",
       "      <th>79</th>\n",
       "      <td>1936</td>\n",
       "      <td>3.71</td>\n",
       "    </tr>\n",
       "    <tr>\n",
       "      <th>80</th>\n",
       "      <td>1810</td>\n",
       "      <td>3.71</td>\n",
       "    </tr>\n",
       "    <tr>\n",
       "      <th>81</th>\n",
       "      <td>1987</td>\n",
       "      <td>3.73</td>\n",
       "    </tr>\n",
       "    <tr>\n",
       "      <th>82</th>\n",
       "      <td>1962</td>\n",
       "      <td>3.76</td>\n",
       "    </tr>\n",
       "    <tr>\n",
       "      <th>83</th>\n",
       "      <td>2050</td>\n",
       "      <td>3.81</td>\n",
       "    </tr>\n",
       "  </tbody>\n",
       "</table>\n",
       "<p>84 rows × 2 columns</p>\n",
       "</div>"
      ],
      "text/plain": [
       "     SAT   GPA\n",
       "0   1714  2.40\n",
       "1   1664  2.52\n",
       "2   1760  2.54\n",
       "3   1685  2.74\n",
       "4   1693  2.83\n",
       "..   ...   ...\n",
       "79  1936  3.71\n",
       "80  1810  3.71\n",
       "81  1987  3.73\n",
       "82  1962  3.76\n",
       "83  2050  3.81\n",
       "\n",
       "[84 rows x 2 columns]"
      ]
     },
     "execution_count": 153,
     "metadata": {},
     "output_type": "execute_result"
    }
   ],
   "source": [
    "df = pd.read_csv(\"SAT-GPA .csv\")\n",
    "df"
   ]
  },
  {
   "cell_type": "code",
   "execution_count": 154,
   "id": "51db5921",
   "metadata": {},
   "outputs": [
    {
     "name": "stdout",
     "output_type": "stream",
     "text": [
      "<class 'pandas.core.frame.DataFrame'>\n",
      "RangeIndex: 84 entries, 0 to 83\n",
      "Data columns (total 2 columns):\n",
      " #   Column  Non-Null Count  Dtype  \n",
      "---  ------  --------------  -----  \n",
      " 0   SAT     84 non-null     int64  \n",
      " 1   GPA     84 non-null     float64\n",
      "dtypes: float64(1), int64(1)\n",
      "memory usage: 1.4 KB\n"
     ]
    }
   ],
   "source": [
    "df.info()"
   ]
  },
  {
   "cell_type": "code",
   "execution_count": 155,
   "id": "17394353",
   "metadata": {},
   "outputs": [],
   "source": [
    "x = df[\"SAT\"]\n",
    "y = df[\"GPA\"]"
   ]
  },
  {
   "cell_type": "code",
   "execution_count": 156,
   "id": "7b7a9d16",
   "metadata": {},
   "outputs": [],
   "source": [
    "from sklearn.model_selection import train_test_split\n",
    "x_train,x_test,y_train,y_test = train_test_split(x,y,train_size=0.80,random_state=45)"
   ]
  },
  {
   "cell_type": "code",
   "execution_count": 159,
   "id": "d7b1852a",
   "metadata": {},
   "outputs": [],
   "source": [
    "x_train = x_train.to_numpy().reshape(-1,1)\n",
    "x_test = x_test.to_numpy().reshape(-1,1)\n",
    "y_train = y_train.to_numpy().reshape(-1,1)\n",
    "y_test = y_test.to_numpy().reshape(-1,1)"
   ]
  },
  {
   "cell_type": "code",
   "execution_count": 160,
   "id": "0c27285a",
   "metadata": {},
   "outputs": [],
   "source": [
    "model = LinearRegression()"
   ]
  },
  {
   "cell_type": "code",
   "execution_count": 161,
   "id": "a9050ea4",
   "metadata": {},
   "outputs": [
    {
     "data": {
      "text/html": [
       "<style>#sk-container-id-8 {color: black;background-color: white;}#sk-container-id-8 pre{padding: 0;}#sk-container-id-8 div.sk-toggleable {background-color: white;}#sk-container-id-8 label.sk-toggleable__label {cursor: pointer;display: block;width: 100%;margin-bottom: 0;padding: 0.3em;box-sizing: border-box;text-align: center;}#sk-container-id-8 label.sk-toggleable__label-arrow:before {content: \"▸\";float: left;margin-right: 0.25em;color: #696969;}#sk-container-id-8 label.sk-toggleable__label-arrow:hover:before {color: black;}#sk-container-id-8 div.sk-estimator:hover label.sk-toggleable__label-arrow:before {color: black;}#sk-container-id-8 div.sk-toggleable__content {max-height: 0;max-width: 0;overflow: hidden;text-align: left;background-color: #f0f8ff;}#sk-container-id-8 div.sk-toggleable__content pre {margin: 0.2em;color: black;border-radius: 0.25em;background-color: #f0f8ff;}#sk-container-id-8 input.sk-toggleable__control:checked~div.sk-toggleable__content {max-height: 200px;max-width: 100%;overflow: auto;}#sk-container-id-8 input.sk-toggleable__control:checked~label.sk-toggleable__label-arrow:before {content: \"▾\";}#sk-container-id-8 div.sk-estimator input.sk-toggleable__control:checked~label.sk-toggleable__label {background-color: #d4ebff;}#sk-container-id-8 div.sk-label input.sk-toggleable__control:checked~label.sk-toggleable__label {background-color: #d4ebff;}#sk-container-id-8 input.sk-hidden--visually {border: 0;clip: rect(1px 1px 1px 1px);clip: rect(1px, 1px, 1px, 1px);height: 1px;margin: -1px;overflow: hidden;padding: 0;position: absolute;width: 1px;}#sk-container-id-8 div.sk-estimator {font-family: monospace;background-color: #f0f8ff;border: 1px dotted black;border-radius: 0.25em;box-sizing: border-box;margin-bottom: 0.5em;}#sk-container-id-8 div.sk-estimator:hover {background-color: #d4ebff;}#sk-container-id-8 div.sk-parallel-item::after {content: \"\";width: 100%;border-bottom: 1px solid gray;flex-grow: 1;}#sk-container-id-8 div.sk-label:hover label.sk-toggleable__label {background-color: #d4ebff;}#sk-container-id-8 div.sk-serial::before {content: \"\";position: absolute;border-left: 1px solid gray;box-sizing: border-box;top: 0;bottom: 0;left: 50%;z-index: 0;}#sk-container-id-8 div.sk-serial {display: flex;flex-direction: column;align-items: center;background-color: white;padding-right: 0.2em;padding-left: 0.2em;position: relative;}#sk-container-id-8 div.sk-item {position: relative;z-index: 1;}#sk-container-id-8 div.sk-parallel {display: flex;align-items: stretch;justify-content: center;background-color: white;position: relative;}#sk-container-id-8 div.sk-item::before, #sk-container-id-8 div.sk-parallel-item::before {content: \"\";position: absolute;border-left: 1px solid gray;box-sizing: border-box;top: 0;bottom: 0;left: 50%;z-index: -1;}#sk-container-id-8 div.sk-parallel-item {display: flex;flex-direction: column;z-index: 1;position: relative;background-color: white;}#sk-container-id-8 div.sk-parallel-item:first-child::after {align-self: flex-end;width: 50%;}#sk-container-id-8 div.sk-parallel-item:last-child::after {align-self: flex-start;width: 50%;}#sk-container-id-8 div.sk-parallel-item:only-child::after {width: 0;}#sk-container-id-8 div.sk-dashed-wrapped {border: 1px dashed gray;margin: 0 0.4em 0.5em 0.4em;box-sizing: border-box;padding-bottom: 0.4em;background-color: white;}#sk-container-id-8 div.sk-label label {font-family: monospace;font-weight: bold;display: inline-block;line-height: 1.2em;}#sk-container-id-8 div.sk-label-container {text-align: center;}#sk-container-id-8 div.sk-container {/* jupyter's `normalize.less` sets `[hidden] { display: none; }` but bootstrap.min.css set `[hidden] { display: none !important; }` so we also need the `!important` here to be able to override the default hidden behavior on the sphinx rendered scikit-learn.org. See: https://github.com/scikit-learn/scikit-learn/issues/21755 */display: inline-block !important;position: relative;}#sk-container-id-8 div.sk-text-repr-fallback {display: none;}</style><div id=\"sk-container-id-8\" class=\"sk-top-container\"><div class=\"sk-text-repr-fallback\"><pre>LinearRegression()</pre><b>In a Jupyter environment, please rerun this cell to show the HTML representation or trust the notebook. <br />On GitHub, the HTML representation is unable to render, please try loading this page with nbviewer.org.</b></div><div class=\"sk-container\" hidden><div class=\"sk-item\"><div class=\"sk-estimator sk-toggleable\"><input class=\"sk-toggleable__control sk-hidden--visually\" id=\"sk-estimator-id-8\" type=\"checkbox\" checked><label for=\"sk-estimator-id-8\" class=\"sk-toggleable__label sk-toggleable__label-arrow\">LinearRegression</label><div class=\"sk-toggleable__content\"><pre>LinearRegression()</pre></div></div></div></div></div>"
      ],
      "text/plain": [
       "LinearRegression()"
      ]
     },
     "execution_count": 161,
     "metadata": {},
     "output_type": "execute_result"
    }
   ],
   "source": [
    "model.fit(x_train,y_train)"
   ]
  },
  {
   "cell_type": "code",
   "execution_count": 162,
   "id": "a7e94229",
   "metadata": {},
   "outputs": [],
   "source": [
    "y_predict = model.predict(x_test)"
   ]
  },
  {
   "cell_type": "code",
   "execution_count": 141,
   "id": "0b09acd5",
   "metadata": {},
   "outputs": [
    {
     "data": {
      "text/plain": [
       "(array([[170.29260778],\n",
       "        [689.8081112 ],\n",
       "        [570.68599572],\n",
       "        [725.19631104],\n",
       "        [408.66016492],\n",
       "        [293.35384913],\n",
       "        [ 51.34260711],\n",
       "        [662.02064281],\n",
       "        [939.92985347],\n",
       "        [484.81952545],\n",
       "        [548.75340428],\n",
       "        [558.73881971],\n",
       "        [351.5419891 ],\n",
       "        [479.16052303],\n",
       "        [558.64101584],\n",
       "        [655.68972323],\n",
       "        [508.35141332],\n",
       "        [712.82256261],\n",
       "        [182.52959587],\n",
       "        [258.76738421],\n",
       "        [384.85528582],\n",
       "        [572.68570066],\n",
       "        [409.58325838],\n",
       "        [465.68232392],\n",
       "        [531.21760293],\n",
       "        [282.82343191],\n",
       "        [434.44957196],\n",
       "        [291.93753251],\n",
       "        [799.69540669],\n",
       "        [361.06235523],\n",
       "        [413.89864958],\n",
       "        [484.00494377],\n",
       "        [453.7218361 ],\n",
       "        [580.97515146],\n",
       "        [430.97650891],\n",
       "        [561.94455713],\n",
       "        [506.84862062],\n",
       "        [453.87824195],\n",
       "        [626.49161903],\n",
       "        [456.13621633],\n",
       "        [410.69344062],\n",
       "        [304.38010564],\n",
       "        [558.99687717],\n",
       "        [730.89722053],\n",
       "        [686.2562776 ],\n",
       "        [317.65801784],\n",
       "        [478.71246948],\n",
       "        [741.08130861],\n",
       "        [211.46682741],\n",
       "        [679.19400487],\n",
       "        [620.74452328],\n",
       "        [400.11818309],\n",
       "        [681.65001039],\n",
       "        [859.25053802],\n",
       "        [461.72950713],\n",
       "        [912.25274601],\n",
       "        [621.04136488],\n",
       "        [440.95217248],\n",
       "        [622.55169352],\n",
       "        [739.57065407],\n",
       "        [452.1371075 ],\n",
       "        [485.91961708],\n",
       "        [417.35244185],\n",
       "        [441.87983268],\n",
       "        [669.33694626],\n",
       "        [596.2971888 ],\n",
       "        [530.24158059],\n",
       "        [693.27810505],\n",
       "        [892.25225165],\n",
       "        [416.03500334],\n",
       "        [ 45.6250188 ],\n",
       "        [671.06247374],\n",
       "        [454.8859251 ],\n",
       "        [159.26919183],\n",
       "        [658.72956436],\n",
       "        [943.30988987],\n",
       "        [303.90634317],\n",
       "        [321.85365277],\n",
       "        [476.63829286],\n",
       "        [176.10734564],\n",
       "        [891.67939181],\n",
       "        [566.98723298],\n",
       "        [656.89358774],\n",
       "        [239.9137454 ],\n",
       "        [654.50785009],\n",
       "        [839.09990103],\n",
       "        [451.98776053],\n",
       "        [708.6484343 ],\n",
       "        [438.46651245],\n",
       "        [519.23001869],\n",
       "        [718.23119426],\n",
       "        [677.45351192],\n",
       "        [635.08003421],\n",
       "        [527.96703827],\n",
       "        [331.78125353],\n",
       "        [676.50263922],\n",
       "        [363.93753812],\n",
       "        [447.6032742 ],\n",
       "        [631.78620625],\n",
       "        [469.14020866]]),\n",
       " array([[186.4764868 ],\n",
       "        [691.8554843 ],\n",
       "        [538.31289   ],\n",
       "        [740.9356848 ],\n",
       "        [425.2655958 ],\n",
       "        [321.8482734 ],\n",
       "        [ 32.54661902],\n",
       "        [633.5040087 ],\n",
       "        [969.2916296 ],\n",
       "        [498.7570498 ],\n",
       "        [534.3645388 ],\n",
       "        [578.3604354 ],\n",
       "        [322.592741  ],\n",
       "        [437.2519927 ],\n",
       "        [537.113833  ],\n",
       "        [651.486741  ],\n",
       "        [537.6648006 ],\n",
       "        [746.9463889 ],\n",
       "        [190.7109408 ],\n",
       "        [283.8343266 ],\n",
       "        [379.5642675 ],\n",
       "        [603.0913818 ],\n",
       "        [448.3259814 ],\n",
       "        [506.2223794 ],\n",
       "        [543.9850584 ],\n",
       "        [280.5184674 ],\n",
       "        [453.7856066 ],\n",
       "        [316.2401944 ],\n",
       "        [809.7777259 ],\n",
       "        [322.9839774 ],\n",
       "        [428.8543561 ],\n",
       "        [451.4507843 ],\n",
       "        [450.4732071 ],\n",
       "        [550.7014036 ],\n",
       "        [441.0029443 ],\n",
       "        [588.5275513 ],\n",
       "        [528.1162401 ],\n",
       "        [406.516091  ],\n",
       "        [627.6508336 ],\n",
       "        [474.832244  ],\n",
       "        [501.7329901 ],\n",
       "        [278.4182651 ],\n",
       "        [603.2329422 ],\n",
       "        [711.1740653 ],\n",
       "        [696.6401775 ],\n",
       "        [295.3396989 ],\n",
       "        [475.5382094 ],\n",
       "        [706.7246037 ],\n",
       "        [198.1215634 ],\n",
       "        [649.5611747 ],\n",
       "        [599.1163601 ],\n",
       "        [414.423028  ],\n",
       "        [659.8732869 ],\n",
       "        [857.5266413 ],\n",
       "        [448.4713348 ],\n",
       "        [918.3912316 ],\n",
       "        [615.9266502 ],\n",
       "        [437.8287103 ],\n",
       "        [618.1720908 ],\n",
       "        [739.3872716 ],\n",
       "        [482.5719881 ],\n",
       "        [425.0120182 ],\n",
       "        [405.2503868 ],\n",
       "        [420.9664529 ],\n",
       "        [652.0054081 ],\n",
       "        [572.5370483 ],\n",
       "        [546.6938576 ],\n",
       "        [648.4536093 ],\n",
       "        [905.4776043 ],\n",
       "        [405.9151588 ],\n",
       "        [ 10.        ],\n",
       "        [654.7474611 ],\n",
       "        [445.7723999 ],\n",
       "        [242.5098553 ],\n",
       "        [666.1368355 ],\n",
       "        [965.4930396 ],\n",
       "        [300.9322734 ],\n",
       "        [339.1095829 ],\n",
       "        [477.2950539 ],\n",
       "        [158.8498064 ],\n",
       "        [898.805423  ],\n",
       "        [572.6720474 ],\n",
       "        [656.6365226 ],\n",
       "        [222.8723171 ],\n",
       "        [643.7883311 ],\n",
       "        [870.7659159 ],\n",
       "        [473.6043349 ],\n",
       "        [702.6236136 ],\n",
       "        [410.860905  ],\n",
       "        [571.7642733 ],\n",
       "        [731.5982226 ],\n",
       "        [629.8937918 ],\n",
       "        [661.4675188 ],\n",
       "        [521.2673794 ],\n",
       "        [268.9291794 ],\n",
       "        [682.7528689 ],\n",
       "        [296.9065323 ],\n",
       "        [430.3439033 ],\n",
       "        [623.2487008 ],\n",
       "        [507.35681   ]]))"
      ]
     },
     "execution_count": 141,
     "metadata": {},
     "output_type": "execute_result"
    }
   ],
   "source": [
    "y_predict,y_test"
   ]
  },
  {
   "cell_type": "code",
   "execution_count": 163,
   "id": "2ac19933",
   "metadata": {},
   "outputs": [
    {
     "name": "stdout",
     "output_type": "stream",
     "text": [
      "Mean Squared Error: 0.06631786988721396\n",
      "Mean Absolute Error: 0.1769115586707033\n",
      "R2 Score: 0.3328367900539264\n"
     ]
    }
   ],
   "source": [
    "mse = mean_squared_error(y_test,y_predict)\n",
    "print(\"Mean Squared Error:\",mse)\n",
    "mae = mean_absolute_error(y_test,y_predict)\n",
    "print(\"Mean Absolute Error:\",mae)\n",
    "r2 = r2_score(y_test,y_predict)\n",
    "print(\"R2 Score:\",r2)"
   ]
  },
  {
   "cell_type": "code",
   "execution_count": 164,
   "id": "f2e61f74",
   "metadata": {
    "scrolled": true
   },
   "outputs": [
    {
     "data": {
      "image/png": "[encoded data removed]",
      "text/plain": [
       "<Figure size 432x288 with 1 Axes>"
      ]
     },
     "metadata": {
      "needs_background": "light"
     },
     "output_type": "display_data"
    }
   ],
   "source": [
    "# Plot the original data points\n",
    "plt.scatter(x, y, color='blue', label='Original data')\n",
    "\n",
    "# Plot the regression line\n",
    "plt.plot(x_test, y_predict, color='red', linewidth=3, label='Regression line')\n",
    "\n",
    "# Add labels and a legend\n",
    "plt.xlabel('Tempreture')\n",
    "plt.ylabel(\"Revenue\")\n",
    "plt.title('Linear Regression')\n",
    "plt.legend()\n",
    "\n",
    "# Show the plot\n",
    "plt.show()"
   ]
  },
  {
   "cell_type": "markdown",
   "id": "7ee14319",
   "metadata": {},
   "source": [
    "# Que. 5"
   ]
  },
  {
   "cell_type": "code",
   "execution_count": null,
   "id": "b28a3f23",
   "metadata": {},
   "outputs": [],
   "source": [
    "Consider only the below columns and prepare a prediction model for predicting Price.\n",
    "\n",
    "Corolla<-Corolla[c(\"Price\",\"Age_08_04\",\"KM\",\"HP\",\"cc\",\"Doors\",\"Gears\",\"Quarterly_Tax\",\"Weight\")]\n",
    "Model -- model of the car\n",
    "Price  -- Offer Price in EUROs\t\n",
    "Age_08_04 -- Age in months as in August 2004\t\n",
    "Mfg_Month -- Manufacturing month (1-12)\t\n",
    "Mfg_Year\t-- Manufacturing Year\n",
    "KM -- Accumulated Kilometers on odometer\n",
    "Fuel_Type\t -- Fuel Type (Petrol, Diesel, CNG)\n",
    "HP -- Horse Power\n",
    "Met_Color\t -- Metallic Color?  (Yes=1, No=0)\n",
    "Color -- Color (Blue, Red, Grey, Silver, Black, etc.)\n",
    "Automatic\t-- Automatic ( (Yes=1, No=0)\n",
    "cc -- Cylinder Volume in cubic centimeters\n",
    "Doors -- Number of doors\n",
    "Cylinders\t-- Number of cylinders\n",
    "Gears -- Number of gear positions\n",
    "Quarterly_Tax -- Quarterly road tax in EUROs\n",
    "Weight -- Weight in Kilograms\n",
    "Mfr_Guarantee -- Within Manufacturer's Guarantee period  (Yes=1, No=0)\n",
    "BOVAG_Guarantee -- BOVAG (Dutch dealer network) Guarantee  (Yes=1, No=0)\n",
    "Guarantee_Period -- \tGuarantee period in months\n",
    "ABS -- Anti-Lock Brake System (Yes=1, No=0)\n",
    "Airbag_1 -- Driver_Airbag  (Yes=1, No=0)\n",
    "Airbag_2 -- Passenger Airbag  (Yes=1, No=0)\n",
    "Airco -- Airconditioning  (Yes=1, No=0)\n",
    "Automatic_airco -- Automatic Airconditioning  (Yes=1, No=0)\n",
    "Boardcomputer -- Boardcomputer  (Yes=1, No=0)\n",
    "CD_Player -- CD Player  (Yes=1, No=0)\n",
    "Central_Lock -- Central Lock  (Yes=1, No=0)\n",
    "Powered_Windows -- Powered Windows  (Yes=1, No=0)\n",
    "Power_Steering -- Power Steering  (Yes=1, No=0)\n",
    "Radio -- Radio  (Yes=1, No=0)\n",
    "Mistlamps\t-- Mistlamps  (Yes=1, No=0)\n",
    "Sport_Model -- Sport Model  (Yes=1, No=0)\n",
    "Backseat_Divider -- Backseat Divider  (Yes=1, No=0)\n",
    "Metallic_Rim --Metallic Rim  (Yes=1, No=0)\n",
    "Radio_cassette -- Radio Cassette  (Yes=1, No=0)\n",
    "Tow_Bar -- Tow Bar  (Yes=1, No=0)\n",
    "\n"
   ]
  },
  {
   "cell_type": "code",
   "execution_count": 166,
   "id": "307947a2",
   "metadata": {},
   "outputs": [
    {
     "data": {
      "text/html": [
       "<div>\n",
       "<style scoped>\n",
       "    .dataframe tbody tr th:only-of-type {\n",
       "        vertical-align: middle;\n",
       "    }\n",
       "\n",
       "    .dataframe tbody tr th {\n",
       "        vertical-align: top;\n",
       "    }\n",
       "\n",
       "    .dataframe thead th {\n",
       "        text-align: right;\n",
       "    }\n",
       "</style>\n",
       "<table border=\"1\" class=\"dataframe\">\n",
       "  <thead>\n",
       "    <tr style=\"text-align: right;\">\n",
       "      <th></th>\n",
       "      <th>Id</th>\n",
       "      <th>Model</th>\n",
       "      <th>Price</th>\n",
       "      <th>Age_08_04</th>\n",
       "      <th>Mfg_Month</th>\n",
       "      <th>Mfg_Year</th>\n",
       "      <th>KM</th>\n",
       "      <th>Fuel_Type</th>\n",
       "      <th>HP</th>\n",
       "      <th>Met_Color</th>\n",
       "      <th>...</th>\n",
       "      <th>Central_Lock</th>\n",
       "      <th>Powered_Windows</th>\n",
       "      <th>Power_Steering</th>\n",
       "      <th>Radio</th>\n",
       "      <th>Mistlamps</th>\n",
       "      <th>Sport_Model</th>\n",
       "      <th>Backseat_Divider</th>\n",
       "      <th>Metallic_Rim</th>\n",
       "      <th>Radio_cassette</th>\n",
       "      <th>Tow_Bar</th>\n",
       "    </tr>\n",
       "  </thead>\n",
       "  <tbody>\n",
       "    <tr>\n",
       "      <th>0</th>\n",
       "      <td>1</td>\n",
       "      <td>TOYOTA Corolla 2.0 D4D HATCHB TERRA 2/3-Doors</td>\n",
       "      <td>13500</td>\n",
       "      <td>23</td>\n",
       "      <td>10</td>\n",
       "      <td>2002</td>\n",
       "      <td>46986</td>\n",
       "      <td>Diesel</td>\n",
       "      <td>90</td>\n",
       "      <td>1</td>\n",
       "      <td>...</td>\n",
       "      <td>1</td>\n",
       "      <td>1</td>\n",
       "      <td>1</td>\n",
       "      <td>0</td>\n",
       "      <td>0</td>\n",
       "      <td>0</td>\n",
       "      <td>1</td>\n",
       "      <td>0</td>\n",
       "      <td>0</td>\n",
       "      <td>0</td>\n",
       "    </tr>\n",
       "    <tr>\n",
       "      <th>1</th>\n",
       "      <td>2</td>\n",
       "      <td>TOYOTA Corolla 2.0 D4D HATCHB TERRA 2/3-Doors</td>\n",
       "      <td>13750</td>\n",
       "      <td>23</td>\n",
       "      <td>10</td>\n",
       "      <td>2002</td>\n",
       "      <td>72937</td>\n",
       "      <td>Diesel</td>\n",
       "      <td>90</td>\n",
       "      <td>1</td>\n",
       "      <td>...</td>\n",
       "      <td>1</td>\n",
       "      <td>0</td>\n",
       "      <td>1</td>\n",
       "      <td>0</td>\n",
       "      <td>0</td>\n",
       "      <td>0</td>\n",
       "      <td>1</td>\n",
       "      <td>0</td>\n",
       "      <td>0</td>\n",
       "      <td>0</td>\n",
       "    </tr>\n",
       "    <tr>\n",
       "      <th>2</th>\n",
       "      <td>3</td>\n",
       "      <td>TOYOTA Corolla 2.0 D4D HATCHB TERRA 2/3-Doors</td>\n",
       "      <td>13950</td>\n",
       "      <td>24</td>\n",
       "      <td>9</td>\n",
       "      <td>2002</td>\n",
       "      <td>41711</td>\n",
       "      <td>Diesel</td>\n",
       "      <td>90</td>\n",
       "      <td>1</td>\n",
       "      <td>...</td>\n",
       "      <td>0</td>\n",
       "      <td>0</td>\n",
       "      <td>1</td>\n",
       "      <td>0</td>\n",
       "      <td>0</td>\n",
       "      <td>0</td>\n",
       "      <td>1</td>\n",
       "      <td>0</td>\n",
       "      <td>0</td>\n",
       "      <td>0</td>\n",
       "    </tr>\n",
       "    <tr>\n",
       "      <th>3</th>\n",
       "      <td>4</td>\n",
       "      <td>TOYOTA Corolla 2.0 D4D HATCHB TERRA 2/3-Doors</td>\n",
       "      <td>14950</td>\n",
       "      <td>26</td>\n",
       "      <td>7</td>\n",
       "      <td>2002</td>\n",
       "      <td>48000</td>\n",
       "      <td>Diesel</td>\n",
       "      <td>90</td>\n",
       "      <td>0</td>\n",
       "      <td>...</td>\n",
       "      <td>0</td>\n",
       "      <td>0</td>\n",
       "      <td>1</td>\n",
       "      <td>0</td>\n",
       "      <td>0</td>\n",
       "      <td>0</td>\n",
       "      <td>1</td>\n",
       "      <td>0</td>\n",
       "      <td>0</td>\n",
       "      <td>0</td>\n",
       "    </tr>\n",
       "    <tr>\n",
       "      <th>4</th>\n",
       "      <td>5</td>\n",
       "      <td>TOYOTA Corolla 2.0 D4D HATCHB SOL 2/3-Doors</td>\n",
       "      <td>13750</td>\n",
       "      <td>30</td>\n",
       "      <td>3</td>\n",
       "      <td>2002</td>\n",
       "      <td>38500</td>\n",
       "      <td>Diesel</td>\n",
       "      <td>90</td>\n",
       "      <td>0</td>\n",
       "      <td>...</td>\n",
       "      <td>1</td>\n",
       "      <td>1</td>\n",
       "      <td>1</td>\n",
       "      <td>0</td>\n",
       "      <td>1</td>\n",
       "      <td>0</td>\n",
       "      <td>1</td>\n",
       "      <td>0</td>\n",
       "      <td>0</td>\n",
       "      <td>0</td>\n",
       "    </tr>\n",
       "  </tbody>\n",
       "</table>\n",
       "<p>5 rows × 38 columns</p>\n",
       "</div>"
      ],
      "text/plain": [
       "   Id                                           Model  Price  Age_08_04  \\\n",
       "0   1   TOYOTA Corolla 2.0 D4D HATCHB TERRA 2/3-Doors  13500         23   \n",
       "1   2   TOYOTA Corolla 2.0 D4D HATCHB TERRA 2/3-Doors  13750         23   \n",
       "2   3   TOYOTA Corolla 2.0 D4D HATCHB TERRA 2/3-Doors  13950         24   \n",
       "3   4   TOYOTA Corolla 2.0 D4D HATCHB TERRA 2/3-Doors  14950         26   \n",
       "4   5     TOYOTA Corolla 2.0 D4D HATCHB SOL 2/3-Doors  13750         30   \n",
       "\n",
       "   Mfg_Month  Mfg_Year     KM Fuel_Type  HP  Met_Color  ... Central_Lock  \\\n",
       "0         10      2002  46986    Diesel  90          1  ...            1   \n",
       "1         10      2002  72937    Diesel  90          1  ...            1   \n",
       "2          9      2002  41711    Diesel  90          1  ...            0   \n",
       "3          7      2002  48000    Diesel  90          0  ...            0   \n",
       "4          3      2002  38500    Diesel  90          0  ...            1   \n",
       "\n",
       "   Powered_Windows  Power_Steering  Radio  Mistlamps  Sport_Model  \\\n",
       "0                1               1      0          0            0   \n",
       "1                0               1      0          0            0   \n",
       "2                0               1      0          0            0   \n",
       "3                0               1      0          0            0   \n",
       "4                1               1      0          1            0   \n",
       "\n",
       "   Backseat_Divider  Metallic_Rim  Radio_cassette  Tow_Bar  \n",
       "0                 1             0               0        0  \n",
       "1                 1             0               0        0  \n",
       "2                 1             0               0        0  \n",
       "3                 1             0               0        0  \n",
       "4                 1             0               0        0  \n",
       "\n",
       "[5 rows x 38 columns]"
      ]
     },
     "execution_count": 166,
     "metadata": {},
     "output_type": "execute_result"
    }
   ],
   "source": [
    "df = pd.read_csv('ToyotaCorolla.csv',encoding='ISO-8859-1')\n",
    "df.head()"
   ]
  },
  {
   "cell_type": "code",
   "execution_count": 167,
   "id": "93e62519",
   "metadata": {},
   "outputs": [],
   "source": [
    "df = df[[\"Price\",\"Age_08_04\",\"KM\",\"HP\",\"cc\",\"Doors\",\"Gears\",\"Quarterly_Tax\",\"Weight\"]]"
   ]
  },
  {
   "cell_type": "code",
   "execution_count": 168,
   "id": "7825afbd",
   "metadata": {},
   "outputs": [
    {
     "data": {
      "text/html": [
       "<div>\n",
       "<style scoped>\n",
       "    .dataframe tbody tr th:only-of-type {\n",
       "        vertical-align: middle;\n",
       "    }\n",
       "\n",
       "    .dataframe tbody tr th {\n",
       "        vertical-align: top;\n",
       "    }\n",
       "\n",
       "    .dataframe thead th {\n",
       "        text-align: right;\n",
       "    }\n",
       "</style>\n",
       "<table border=\"1\" class=\"dataframe\">\n",
       "  <thead>\n",
       "    <tr style=\"text-align: right;\">\n",
       "      <th></th>\n",
       "      <th>Price</th>\n",
       "      <th>Age_08_04</th>\n",
       "      <th>KM</th>\n",
       "      <th>HP</th>\n",
       "      <th>cc</th>\n",
       "      <th>Doors</th>\n",
       "      <th>Gears</th>\n",
       "      <th>Quarterly_Tax</th>\n",
       "      <th>Weight</th>\n",
       "    </tr>\n",
       "  </thead>\n",
       "  <tbody>\n",
       "    <tr>\n",
       "      <th>0</th>\n",
       "      <td>13500</td>\n",
       "      <td>23</td>\n",
       "      <td>46986</td>\n",
       "      <td>90</td>\n",
       "      <td>2000</td>\n",
       "      <td>3</td>\n",
       "      <td>5</td>\n",
       "      <td>210</td>\n",
       "      <td>1165</td>\n",
       "    </tr>\n",
       "    <tr>\n",
       "      <th>1</th>\n",
       "      <td>13750</td>\n",
       "      <td>23</td>\n",
       "      <td>72937</td>\n",
       "      <td>90</td>\n",
       "      <td>2000</td>\n",
       "      <td>3</td>\n",
       "      <td>5</td>\n",
       "      <td>210</td>\n",
       "      <td>1165</td>\n",
       "    </tr>\n",
       "    <tr>\n",
       "      <th>2</th>\n",
       "      <td>13950</td>\n",
       "      <td>24</td>\n",
       "      <td>41711</td>\n",
       "      <td>90</td>\n",
       "      <td>2000</td>\n",
       "      <td>3</td>\n",
       "      <td>5</td>\n",
       "      <td>210</td>\n",
       "      <td>1165</td>\n",
       "    </tr>\n",
       "    <tr>\n",
       "      <th>3</th>\n",
       "      <td>14950</td>\n",
       "      <td>26</td>\n",
       "      <td>48000</td>\n",
       "      <td>90</td>\n",
       "      <td>2000</td>\n",
       "      <td>3</td>\n",
       "      <td>5</td>\n",
       "      <td>210</td>\n",
       "      <td>1165</td>\n",
       "    </tr>\n",
       "    <tr>\n",
       "      <th>4</th>\n",
       "      <td>13750</td>\n",
       "      <td>30</td>\n",
       "      <td>38500</td>\n",
       "      <td>90</td>\n",
       "      <td>2000</td>\n",
       "      <td>3</td>\n",
       "      <td>5</td>\n",
       "      <td>210</td>\n",
       "      <td>1170</td>\n",
       "    </tr>\n",
       "  </tbody>\n",
       "</table>\n",
       "</div>"
      ],
      "text/plain": [
       "   Price  Age_08_04     KM  HP    cc  Doors  Gears  Quarterly_Tax  Weight\n",
       "0  13500         23  46986  90  2000      3      5            210    1165\n",
       "1  13750         23  72937  90  2000      3      5            210    1165\n",
       "2  13950         24  41711  90  2000      3      5            210    1165\n",
       "3  14950         26  48000  90  2000      3      5            210    1165\n",
       "4  13750         30  38500  90  2000      3      5            210    1170"
      ]
     },
     "execution_count": 168,
     "metadata": {},
     "output_type": "execute_result"
    }
   ],
   "source": [
    "df.head()"
   ]
  },
  {
   "cell_type": "code",
   "execution_count": 169,
   "id": "451d7fec",
   "metadata": {},
   "outputs": [
    {
     "name": "stdout",
     "output_type": "stream",
     "text": [
      "<class 'pandas.core.frame.DataFrame'>\n",
      "RangeIndex: 1436 entries, 0 to 1435\n",
      "Data columns (total 9 columns):\n",
      " #   Column         Non-Null Count  Dtype\n",
      "---  ------         --------------  -----\n",
      " 0   Price          1436 non-null   int64\n",
      " 1   Age_08_04      1436 non-null   int64\n",
      " 2   KM             1436 non-null   int64\n",
      " 3   HP             1436 non-null   int64\n",
      " 4   cc             1436 non-null   int64\n",
      " 5   Doors          1436 non-null   int64\n",
      " 6   Gears          1436 non-null   int64\n",
      " 7   Quarterly_Tax  1436 non-null   int64\n",
      " 8   Weight         1436 non-null   int64\n",
      "dtypes: int64(9)\n",
      "memory usage: 101.1 KB\n"
     ]
    }
   ],
   "source": [
    "df.info()"
   ]
  },
  {
   "cell_type": "code",
   "execution_count": 180,
   "id": "f5d5336d",
   "metadata": {},
   "outputs": [],
   "source": [
    "x = df.drop('Price',axis=1).values"
   ]
  },
  {
   "cell_type": "code",
   "execution_count": 181,
   "id": "17a9298c",
   "metadata": {},
   "outputs": [],
   "source": [
    "y = df[\"Price\"].values"
   ]
  },
  {
   "cell_type": "code",
   "execution_count": 182,
   "id": "b7ad88c8",
   "metadata": {},
   "outputs": [],
   "source": [
    "x_train,x_test,y_train,y_test = train_test_split(x,y,train_size=0.8,random_state=45)"
   ]
  },
  {
   "cell_type": "code",
   "execution_count": 183,
   "id": "b44c2ecd",
   "metadata": {},
   "outputs": [],
   "source": [
    "model = LinearRegression()"
   ]
  },
  {
   "cell_type": "code",
   "execution_count": 184,
   "id": "8b926805",
   "metadata": {},
   "outputs": [
    {
     "data": {
      "text/html": [
       "<style>#sk-container-id-9 {color: black;background-color: white;}#sk-container-id-9 pre{padding: 0;}#sk-container-id-9 div.sk-toggleable {background-color: white;}#sk-container-id-9 label.sk-toggleable__label {cursor: pointer;display: block;width: 100%;margin-bottom: 0;padding: 0.3em;box-sizing: border-box;text-align: center;}#sk-container-id-9 label.sk-toggleable__label-arrow:before {content: \"▸\";float: left;margin-right: 0.25em;color: #696969;}#sk-container-id-9 label.sk-toggleable__label-arrow:hover:before {color: black;}#sk-container-id-9 div.sk-estimator:hover label.sk-toggleable__label-arrow:before {color: black;}#sk-container-id-9 div.sk-toggleable__content {max-height: 0;max-width: 0;overflow: hidden;text-align: left;background-color: #f0f8ff;}#sk-container-id-9 div.sk-toggleable__content pre {margin: 0.2em;color: black;border-radius: 0.25em;background-color: #f0f8ff;}#sk-container-id-9 input.sk-toggleable__control:checked~div.sk-toggleable__content {max-height: 200px;max-width: 100%;overflow: auto;}#sk-container-id-9 input.sk-toggleable__control:checked~label.sk-toggleable__label-arrow:before {content: \"▾\";}#sk-container-id-9 div.sk-estimator input.sk-toggleable__control:checked~label.sk-toggleable__label {background-color: #d4ebff;}#sk-container-id-9 div.sk-label input.sk-toggleable__control:checked~label.sk-toggleable__label {background-color: #d4ebff;}#sk-container-id-9 input.sk-hidden--visually {border: 0;clip: rect(1px 1px 1px 1px);clip: rect(1px, 1px, 1px, 1px);height: 1px;margin: -1px;overflow: hidden;padding: 0;position: absolute;width: 1px;}#sk-container-id-9 div.sk-estimator {font-family: monospace;background-color: #f0f8ff;border: 1px dotted black;border-radius: 0.25em;box-sizing: border-box;margin-bottom: 0.5em;}#sk-container-id-9 div.sk-estimator:hover {background-color: #d4ebff;}#sk-container-id-9 div.sk-parallel-item::after {content: \"\";width: 100%;border-bottom: 1px solid gray;flex-grow: 1;}#sk-container-id-9 div.sk-label:hover label.sk-toggleable__label {background-color: #d4ebff;}#sk-container-id-9 div.sk-serial::before {content: \"\";position: absolute;border-left: 1px solid gray;box-sizing: border-box;top: 0;bottom: 0;left: 50%;z-index: 0;}#sk-container-id-9 div.sk-serial {display: flex;flex-direction: column;align-items: center;background-color: white;padding-right: 0.2em;padding-left: 0.2em;position: relative;}#sk-container-id-9 div.sk-item {position: relative;z-index: 1;}#sk-container-id-9 div.sk-parallel {display: flex;align-items: stretch;justify-content: center;background-color: white;position: relative;}#sk-container-id-9 div.sk-item::before, #sk-container-id-9 div.sk-parallel-item::before {content: \"\";position: absolute;border-left: 1px solid gray;box-sizing: border-box;top: 0;bottom: 0;left: 50%;z-index: -1;}#sk-container-id-9 div.sk-parallel-item {display: flex;flex-direction: column;z-index: 1;position: relative;background-color: white;}#sk-container-id-9 div.sk-parallel-item:first-child::after {align-self: flex-end;width: 50%;}#sk-container-id-9 div.sk-parallel-item:last-child::after {align-self: flex-start;width: 50%;}#sk-container-id-9 div.sk-parallel-item:only-child::after {width: 0;}#sk-container-id-9 div.sk-dashed-wrapped {border: 1px dashed gray;margin: 0 0.4em 0.5em 0.4em;box-sizing: border-box;padding-bottom: 0.4em;background-color: white;}#sk-container-id-9 div.sk-label label {font-family: monospace;font-weight: bold;display: inline-block;line-height: 1.2em;}#sk-container-id-9 div.sk-label-container {text-align: center;}#sk-container-id-9 div.sk-container {/* jupyter's `normalize.less` sets `[hidden] { display: none; }` but bootstrap.min.css set `[hidden] { display: none !important; }` so we also need the `!important` here to be able to override the default hidden behavior on the sphinx rendered scikit-learn.org. See: https://github.com/scikit-learn/scikit-learn/issues/21755 */display: inline-block !important;position: relative;}#sk-container-id-9 div.sk-text-repr-fallback {display: none;}</style><div id=\"sk-container-id-9\" class=\"sk-top-container\"><div class=\"sk-text-repr-fallback\"><pre>LinearRegression()</pre><b>In a Jupyter environment, please rerun this cell to show the HTML representation or trust the notebook. <br />On GitHub, the HTML representation is unable to render, please try loading this page with nbviewer.org.</b></div><div class=\"sk-container\" hidden><div class=\"sk-item\"><div class=\"sk-estimator sk-toggleable\"><input class=\"sk-toggleable__control sk-hidden--visually\" id=\"sk-estimator-id-9\" type=\"checkbox\" checked><label for=\"sk-estimator-id-9\" class=\"sk-toggleable__label sk-toggleable__label-arrow\">LinearRegression</label><div class=\"sk-toggleable__content\"><pre>LinearRegression()</pre></div></div></div></div></div>"
      ],
      "text/plain": [
       "LinearRegression()"
      ]
     },
     "execution_count": 184,
     "metadata": {},
     "output_type": "execute_result"
    }
   ],
   "source": [
    "model.fit(x_train,y_train)"
   ]
  },
  {
   "cell_type": "code",
   "execution_count": 185,
   "id": "241cf9a3",
   "metadata": {},
   "outputs": [],
   "source": [
    "y_predict = model.predict(x_test)"
   ]
  },
  {
   "cell_type": "code",
   "execution_count": 188,
   "id": "85540846",
   "metadata": {},
   "outputs": [
    {
     "data": {
      "text/plain": [
       "array([-1.74742396e+02,  2.31747194e+03, -1.00054647e+03,  8.97896244e+02,\n",
       "        5.31422932e+02, -2.08195469e+03,  5.33288691e+02, -6.62754296e+01,\n",
       "       -1.19366611e+03,  7.46594540e+02,  8.79144252e+02, -6.39040515e+02,\n",
       "        2.87697922e+03, -1.31079441e+03, -1.16100658e+03, -4.73790490e+02,\n",
       "        3.57837843e+03,  6.51135178e+02, -7.31416087e+02, -2.41989520e+03,\n",
       "       -4.26570014e+02,  5.36675579e+02, -1.39603354e+03,  3.85138185e+03,\n",
       "       -2.03658756e+02, -5.93490975e+02, -1.43484152e+03, -1.23023224e+03,\n",
       "       -6.38987392e+02, -3.41216801e+02, -3.63587913e+02, -6.96886879e+02,\n",
       "       -1.19845827e+03, -4.77599104e+02, -3.90176877e+01, -8.83003669e+02,\n",
       "       -7.84978481e+02,  2.90970232e+02, -8.40396224e+02, -2.10038430e+03,\n",
       "        7.18916932e+02, -9.12683731e+01, -8.28302482e+02,  1.05462388e+03,\n",
       "       -9.47099239e+01, -3.98843688e+02,  7.22924963e+02,  1.38770276e+03,\n",
       "        2.37933034e+03, -4.73126550e+02, -2.06912757e+03,  1.57430681e+03,\n",
       "       -5.74020428e+02,  1.10194891e+03, -3.57371254e+02, -3.61918485e+02,\n",
       "       -1.51648333e+03,  4.37482575e+02,  7.44606666e+02,  1.60110230e+03,\n",
       "        3.58049298e+02,  4.13643773e+02, -2.55413790e+02, -6.48755533e+02,\n",
       "        2.13978175e+02,  4.66213353e+02,  4.39990927e+02,  1.23208691e+03,\n",
       "       -1.99636100e+03,  1.16878931e+03,  3.22396785e+02, -3.41479731e+02,\n",
       "       -1.41246090e+02,  8.99027000e+02, -8.28540240e+02,  1.29401832e+03,\n",
       "       -3.84797402e+02, -5.52660667e+02, -2.00822738e+03, -4.41894693e+02,\n",
       "       -2.35780451e+02,  1.67775668e+02, -1.49878988e+03, -5.87689106e+02,\n",
       "       -3.07550053e+03, -8.01463638e+02,  5.97338766e+01, -2.34343004e+03,\n",
       "       -5.72982252e+02,  7.27767302e+02, -2.41048924e+03,  1.45508538e+03,\n",
       "       -1.21012048e+03, -1.65499836e+03, -3.23566929e+02,  6.34695806e+01,\n",
       "       -1.66818806e+03, -1.49336664e+03,  1.05998777e+03,  1.53343120e+03,\n",
       "        5.71585836e+02, -4.66534593e+02,  3.67531853e+01, -6.79129311e+02,\n",
       "       -1.30569920e+03, -1.11142736e+03,  3.83661656e+02,  6.49150470e+02,\n",
       "       -9.16225201e+02,  1.76070694e+03,  3.75889295e+03, -8.26504442e+02,\n",
       "        2.86033219e+02, -1.01895806e+03, -1.07300186e+02,  4.87871102e+02,\n",
       "        2.49766541e+03,  9.13193030e+02,  2.68703242e+02, -5.56065415e+02,\n",
       "        5.03124103e+03,  5.15597132e+02,  4.51419157e+02, -1.71742864e+03,\n",
       "       -6.06608852e+01,  4.72922235e+02, -2.20721288e+03, -1.68240518e+03,\n",
       "        1.59565260e+03, -1.78897009e+03, -2.79740577e+02, -9.04147647e+02,\n",
       "        1.45784228e+03,  1.14903292e+03, -1.30156842e+03, -6.31423129e+02,\n",
       "        1.73174138e+03, -9.82112247e+02, -4.68166243e+02,  1.01297043e+02,\n",
       "       -9.04929294e+02, -2.26885707e+02,  9.74230146e+02,  2.13981940e+03,\n",
       "       -4.78528394e+02,  1.39456427e+03, -1.03428488e+03,  4.92596024e+02,\n",
       "        6.26093879e+02, -4.10594972e+00,  1.32027609e+03, -1.28531405e+02,\n",
       "        1.09094761e+03,  6.05223147e+02, -1.07351864e+03, -5.87893711e+02,\n",
       "       -5.00004020e+02, -1.43485482e+03, -6.17430518e+02, -4.24275143e+02,\n",
       "       -1.58390270e+03,  5.26087187e+02, -8.19806051e+02, -6.34195786e+02,\n",
       "       -3.48725423e+02, -1.65188638e+02,  6.25137358e+02,  9.18849471e+02,\n",
       "       -6.37332098e+02, -1.38641111e+03, -3.09125173e+03, -7.85109179e+02,\n",
       "       -6.93248524e+02,  2.42669173e+03,  1.26005854e+03, -1.61675026e+03,\n",
       "        1.86508974e+03, -3.06685740e+03, -1.34465962e+03,  1.33504056e+03,\n",
       "        1.10106500e+03, -1.13263820e+03, -7.08493873e+02,  1.13352521e+03,\n",
       "        3.72131584e+02,  1.29175638e+01,  4.20483871e+01, -6.14747492e+02,\n",
       "        2.10788129e+02,  1.83052351e+03, -5.24684803e+02, -8.55071480e+02,\n",
       "       -1.12201323e+03,  1.54306504e+03,  4.72176495e+02, -1.56078970e+03,\n",
       "        5.60887257e+02,  4.84511027e+03,  2.33635576e+03, -2.12981333e+02,\n",
       "       -1.30276431e+03, -7.98627636e+02,  8.81649102e+02,  7.52565497e+00,\n",
       "       -6.67033180e+02, -8.57911867e+02, -2.96457978e+02, -2.04609724e+03,\n",
       "       -3.46316888e+02, -3.86893168e+02,  1.56704502e+03, -1.84162738e+02,\n",
       "        3.28416481e+03,  2.88952319e+03, -1.24660175e+03,  6.31168802e+02,\n",
       "        2.14085628e+02,  1.98020432e+03, -8.76943997e+02, -7.66281902e+02,\n",
       "        9.65248230e+02, -1.72476421e+03,  4.63669274e+02,  1.72959430e+03,\n",
       "        2.00344989e+03, -6.41583951e+02,  1.08373179e+03,  5.03205913e+02,\n",
       "        1.99513468e+02, -9.74600918e+02, -5.23415496e+02,  3.30338920e+02,\n",
       "        3.49336784e+03,  1.40546535e+03,  2.06810991e+02,  2.89357364e+02,\n",
       "        2.71401423e+02,  3.75701621e+02, -2.84346196e+02, -8.76723440e+02,\n",
       "       -1.06198770e+03, -1.41156396e+03,  1.13554803e+03,  9.02630054e+02,\n",
       "        2.08550353e+03,  8.58952212e+02,  5.41872125e+02, -5.94346025e+02,\n",
       "        1.86876331e+02, -1.25639429e+03,  4.37476309e+02, -5.99030498e+01,\n",
       "       -8.15593699e+02,  6.88278536e+02, -3.94487385e+02,  1.26356966e+03,\n",
       "        8.09018252e+02,  5.25331162e+03,  8.37701620e+02, -5.80548769e+02,\n",
       "        6.31529381e+01,  4.91174525e+02, -9.58411767e+01,  8.94015297e+02,\n",
       "       -5.89879190e+02, -4.04747587e+02, -4.47837394e+02, -6.77711566e+02,\n",
       "       -1.78556719e+02, -4.37051554e+03,  6.37853931e+03,  1.07564246e+03,\n",
       "        2.99608370e+02, -1.06024541e+03, -1.60873970e+03,  1.30116909e+03,\n",
       "       -6.92382315e+02, -6.60814234e+03,  7.91543500e+02, -2.97457919e+02,\n",
       "        7.86728131e+02,  7.95199463e+01, -2.40850138e+01, -1.29738796e+03,\n",
       "        6.47921064e+02, -1.89762656e+03,  2.49342766e+03,  5.96380084e+02])"
      ]
     },
     "execution_count": 188,
     "metadata": {},
     "output_type": "execute_result"
    }
   ],
   "source": [
    "error = y_test-y_predict\n",
    "error"
   ]
  },
  {
   "cell_type": "code",
   "execution_count": 189,
   "id": "36541e8e",
   "metadata": {},
   "outputs": [
    {
     "name": "stdout",
     "output_type": "stream",
     "text": [
      "Mean Squared Error: 2047482.1215910465\n",
      "Mean Absolute Error: 1044.6196212560483\n",
      "R2 Score: 0.8716593520333341\n"
     ]
    }
   ],
   "source": [
    "mse = mean_squared_error(y_test,y_predict)\n",
    "print(\"Mean Squared Error:\",mse)\n",
    "mae = mean_absolute_error(y_test,y_predict)\n",
    "print(\"Mean Absolute Error:\",mae)\n",
    "r2 = r2_score(y_test,y_predict)\n",
    "print(\"R2 Score:\",r2)"
   ]
  },
  {
   "cell_type": "code",
   "execution_count": 191,
   "id": "d51496c2",
   "metadata": {},
   "outputs": [
    {
     "data": {
      "text/plain": [
       "1436"
      ]
     },
     "execution_count": 191,
     "metadata": {},
     "output_type": "execute_result"
    }
   ],
   "source": [
    "len(x)"
   ]
  },
  {
   "cell_type": "code",
   "execution_count": 192,
   "id": "e2ba576a",
   "metadata": {},
   "outputs": [
    {
     "data": {
      "text/plain": [
       "1436"
      ]
     },
     "execution_count": 192,
     "metadata": {},
     "output_type": "execute_result"
    }
   ],
   "source": [
    "len(y)"
   ]
  },
  {
   "cell_type": "code",
   "execution_count": 193,
   "id": "ccb5e80d",
   "metadata": {},
   "outputs": [
    {
     "data": {
      "text/plain": [
       "288"
      ]
     },
     "execution_count": 193,
     "metadata": {},
     "output_type": "execute_result"
    }
   ],
   "source": [
    "len(x_test)"
   ]
  },
  {
   "cell_type": "code",
   "execution_count": 194,
   "id": "e0fc5f59",
   "metadata": {},
   "outputs": [
    {
     "data": {
      "text/plain": [
       "288"
      ]
     },
     "execution_count": 194,
     "metadata": {},
     "output_type": "execute_result"
    }
   ],
   "source": [
    "len(y_predict)"
   ]
  },
  {
   "cell_type": "markdown",
   "id": "447285da",
   "metadata": {},
   "source": [
    "# Que. 6"
   ]
  },
  {
   "cell_type": "code",
   "execution_count": null,
   "id": "914f49cd",
   "metadata": {},
   "outputs": [],
   "source": [
    "Refer the “Engine.csv” and observe the dataset and decide type of Regression."
   ]
  },
  {
   "cell_type": "code",
   "execution_count": null,
   "id": "234c8bfc",
   "metadata": {},
   "outputs": [],
   "source": [
    "Datasets provide fuel consumption ratings and estimated carbon dioxide emissions for new light-duty \n",
    "vehicles for retail sale in Canada."
   ]
  },
  {
   "cell_type": "code",
   "execution_count": null,
   "id": "9fd71cc7",
   "metadata": {},
   "outputs": [],
   "source": [
    "Predict the Co2emission for with given fuel consumption ratings CYLINDERS, ENGINESIZE, \n",
    "FUELCONSUMPTION_COMB."
   ]
  },
  {
   "cell_type": "code",
   "execution_count": null,
   "id": "7c541718",
   "metadata": {},
   "outputs": [],
   "source": [
    "Performing the following Tasks:\n",
    "1] load the data from csv file"
   ]
  },
  {
   "cell_type": "code",
   "execution_count": 197,
   "id": "26c5fcaf",
   "metadata": {},
   "outputs": [
    {
     "data": {
      "text/html": [
       "<div>\n",
       "<style scoped>\n",
       "    .dataframe tbody tr th:only-of-type {\n",
       "        vertical-align: middle;\n",
       "    }\n",
       "\n",
       "    .dataframe tbody tr th {\n",
       "        vertical-align: top;\n",
       "    }\n",
       "\n",
       "    .dataframe thead th {\n",
       "        text-align: right;\n",
       "    }\n",
       "</style>\n",
       "<table border=\"1\" class=\"dataframe\">\n",
       "  <thead>\n",
       "    <tr style=\"text-align: right;\">\n",
       "      <th></th>\n",
       "      <th>ENGINESIZE</th>\n",
       "      <th>CYLINDERS</th>\n",
       "      <th>FUELCONSUMPTION_COMB</th>\n",
       "      <th>CO2EMISSIONS</th>\n",
       "    </tr>\n",
       "  </thead>\n",
       "  <tbody>\n",
       "    <tr>\n",
       "      <th>0</th>\n",
       "      <td>2.0</td>\n",
       "      <td>4</td>\n",
       "      <td>8.5</td>\n",
       "      <td>196</td>\n",
       "    </tr>\n",
       "    <tr>\n",
       "      <th>1</th>\n",
       "      <td>2.4</td>\n",
       "      <td>4</td>\n",
       "      <td>9.6</td>\n",
       "      <td>221</td>\n",
       "    </tr>\n",
       "    <tr>\n",
       "      <th>2</th>\n",
       "      <td>1.5</td>\n",
       "      <td>4</td>\n",
       "      <td>5.9</td>\n",
       "      <td>136</td>\n",
       "    </tr>\n",
       "    <tr>\n",
       "      <th>3</th>\n",
       "      <td>3.5</td>\n",
       "      <td>6</td>\n",
       "      <td>11.1</td>\n",
       "      <td>255</td>\n",
       "    </tr>\n",
       "    <tr>\n",
       "      <th>4</th>\n",
       "      <td>3.5</td>\n",
       "      <td>6</td>\n",
       "      <td>10.6</td>\n",
       "      <td>244</td>\n",
       "    </tr>\n",
       "  </tbody>\n",
       "</table>\n",
       "</div>"
      ],
      "text/plain": [
       "   ENGINESIZE  CYLINDERS  FUELCONSUMPTION_COMB  CO2EMISSIONS\n",
       "0         2.0          4                   8.5           196\n",
       "1         2.4          4                   9.6           221\n",
       "2         1.5          4                   5.9           136\n",
       "3         3.5          6                  11.1           255\n",
       "4         3.5          6                  10.6           244"
      ]
     },
     "execution_count": 197,
     "metadata": {},
     "output_type": "execute_result"
    }
   ],
   "source": [
    "df = pd.read_csv('Engine.csv.csv')\n",
    "df.head()"
   ]
  },
  {
   "cell_type": "code",
   "execution_count": null,
   "id": "57dfd45a",
   "metadata": {},
   "outputs": [],
   "source": [
    "2] perform exploratory data analysis (EDA)\n",
    "- Explore the data\n",
    "- Understand the data types\n",
    "- Understand the relationships\n",
    "- Clean the data"
   ]
  },
  {
   "cell_type": "code",
   "execution_count": 198,
   "id": "d07bc52d",
   "metadata": {},
   "outputs": [
    {
     "name": "stdout",
     "output_type": "stream",
     "text": [
      "<class 'pandas.core.frame.DataFrame'>\n",
      "RangeIndex: 1067 entries, 0 to 1066\n",
      "Data columns (total 4 columns):\n",
      " #   Column                Non-Null Count  Dtype  \n",
      "---  ------                --------------  -----  \n",
      " 0   ENGINESIZE            1067 non-null   float64\n",
      " 1   CYLINDERS             1067 non-null   int64  \n",
      " 2   FUELCONSUMPTION_COMB  1067 non-null   float64\n",
      " 3   CO2EMISSIONS          1067 non-null   int64  \n",
      "dtypes: float64(2), int64(2)\n",
      "memory usage: 33.5 KB\n"
     ]
    }
   ],
   "source": [
    "#Obtain an overview of the data:\n",
    "df.info()"
   ]
  },
  {
   "cell_type": "code",
   "execution_count": 199,
   "id": "e856a8f3",
   "metadata": {},
   "outputs": [
    {
     "name": "stdout",
     "output_type": "stream",
     "text": [
      "Rows: 1067\n",
      "Coloumns: 4\n"
     ]
    }
   ],
   "source": [
    "print(\"Rows:\",df.shape[0])\n",
    "print(\"Coloumns:\",df.shape[1])"
   ]
  },
  {
   "cell_type": "code",
   "execution_count": 200,
   "id": "561cee22",
   "metadata": {},
   "outputs": [
    {
     "data": {
      "text/html": [
       "<div>\n",
       "<style scoped>\n",
       "    .dataframe tbody tr th:only-of-type {\n",
       "        vertical-align: middle;\n",
       "    }\n",
       "\n",
       "    .dataframe tbody tr th {\n",
       "        vertical-align: top;\n",
       "    }\n",
       "\n",
       "    .dataframe thead th {\n",
       "        text-align: right;\n",
       "    }\n",
       "</style>\n",
       "<table border=\"1\" class=\"dataframe\">\n",
       "  <thead>\n",
       "    <tr style=\"text-align: right;\">\n",
       "      <th></th>\n",
       "      <th>ENGINESIZE</th>\n",
       "      <th>CYLINDERS</th>\n",
       "      <th>FUELCONSUMPTION_COMB</th>\n",
       "      <th>CO2EMISSIONS</th>\n",
       "    </tr>\n",
       "  </thead>\n",
       "  <tbody>\n",
       "    <tr>\n",
       "      <th>730</th>\n",
       "      <td>6.2</td>\n",
       "      <td>8</td>\n",
       "      <td>15.1</td>\n",
       "      <td>347</td>\n",
       "    </tr>\n",
       "  </tbody>\n",
       "</table>\n",
       "</div>"
      ],
      "text/plain": [
       "     ENGINESIZE  CYLINDERS  FUELCONSUMPTION_COMB  CO2EMISSIONS\n",
       "730         6.2          8                  15.1           347"
      ]
     },
     "execution_count": 200,
     "metadata": {},
     "output_type": "execute_result"
    }
   ],
   "source": [
    "df.sample()"
   ]
  },
  {
   "cell_type": "code",
   "execution_count": 201,
   "id": "e02b1f20",
   "metadata": {},
   "outputs": [
    {
     "data": {
      "text/plain": [
       "ENGINESIZE              0\n",
       "CYLINDERS               0\n",
       "FUELCONSUMPTION_COMB    0\n",
       "CO2EMISSIONS            0\n",
       "dtype: int64"
      ]
     },
     "execution_count": 201,
     "metadata": {},
     "output_type": "execute_result"
    }
   ],
   "source": [
    "df.isna().sum()"
   ]
  },
  {
   "cell_type": "code",
   "execution_count": 202,
   "id": "75de8be3",
   "metadata": {},
   "outputs": [
    {
     "data": {
      "text/html": [
       "<div>\n",
       "<style scoped>\n",
       "    .dataframe tbody tr th:only-of-type {\n",
       "        vertical-align: middle;\n",
       "    }\n",
       "\n",
       "    .dataframe tbody tr th {\n",
       "        vertical-align: top;\n",
       "    }\n",
       "\n",
       "    .dataframe thead th {\n",
       "        text-align: right;\n",
       "    }\n",
       "</style>\n",
       "<table border=\"1\" class=\"dataframe\">\n",
       "  <thead>\n",
       "    <tr style=\"text-align: right;\">\n",
       "      <th></th>\n",
       "      <th>ENGINESIZE</th>\n",
       "      <th>CYLINDERS</th>\n",
       "      <th>FUELCONSUMPTION_COMB</th>\n",
       "      <th>CO2EMISSIONS</th>\n",
       "    </tr>\n",
       "  </thead>\n",
       "  <tbody>\n",
       "    <tr>\n",
       "      <th>ENGINESIZE</th>\n",
       "      <td>1.000000</td>\n",
       "      <td>0.934011</td>\n",
       "      <td>0.819482</td>\n",
       "      <td>0.874154</td>\n",
       "    </tr>\n",
       "    <tr>\n",
       "      <th>CYLINDERS</th>\n",
       "      <td>0.934011</td>\n",
       "      <td>1.000000</td>\n",
       "      <td>0.776788</td>\n",
       "      <td>0.849685</td>\n",
       "    </tr>\n",
       "    <tr>\n",
       "      <th>FUELCONSUMPTION_COMB</th>\n",
       "      <td>0.819482</td>\n",
       "      <td>0.776788</td>\n",
       "      <td>1.000000</td>\n",
       "      <td>0.892129</td>\n",
       "    </tr>\n",
       "    <tr>\n",
       "      <th>CO2EMISSIONS</th>\n",
       "      <td>0.874154</td>\n",
       "      <td>0.849685</td>\n",
       "      <td>0.892129</td>\n",
       "      <td>1.000000</td>\n",
       "    </tr>\n",
       "  </tbody>\n",
       "</table>\n",
       "</div>"
      ],
      "text/plain": [
       "                      ENGINESIZE  CYLINDERS  FUELCONSUMPTION_COMB  \\\n",
       "ENGINESIZE              1.000000   0.934011              0.819482   \n",
       "CYLINDERS               0.934011   1.000000              0.776788   \n",
       "FUELCONSUMPTION_COMB    0.819482   0.776788              1.000000   \n",
       "CO2EMISSIONS            0.874154   0.849685              0.892129   \n",
       "\n",
       "                      CO2EMISSIONS  \n",
       "ENGINESIZE                0.874154  \n",
       "CYLINDERS                 0.849685  \n",
       "FUELCONSUMPTION_COMB      0.892129  \n",
       "CO2EMISSIONS              1.000000  "
      ]
     },
     "execution_count": 202,
     "metadata": {},
     "output_type": "execute_result"
    }
   ],
   "source": [
    "df.corr()"
   ]
  },
  {
   "cell_type": "code",
   "execution_count": 210,
   "id": "c5214af3",
   "metadata": {},
   "outputs": [
    {
     "data": {
      "text/plain": [
       "<AxesSubplot: >"
      ]
     },
     "execution_count": 210,
     "metadata": {},
     "output_type": "execute_result"
    },
    {
     "data": {
      "image/png": "[encoded data removed]",
      "text/plain": [
       "<Figure size 432x288 with 2 Axes>"
      ]
     },
     "metadata": {
      "needs_background": "light"
     },
     "output_type": "display_data"
    }
   ],
   "source": [
    "sns.heatmap(df.corr(),annot=True,cmap='crest')"
   ]
  },
  {
   "cell_type": "code",
   "execution_count": 211,
   "id": "25818572",
   "metadata": {},
   "outputs": [
    {
     "data": {
      "text/plain": [
       "Index(['ENGINESIZE', 'CYLINDERS', 'FUELCONSUMPTION_COMB', 'CO2EMISSIONS'], dtype='object')"
      ]
     },
     "execution_count": 211,
     "metadata": {},
     "output_type": "execute_result"
    }
   ],
   "source": [
    "df.columns"
   ]
  },
  {
   "cell_type": "code",
   "execution_count": 214,
   "id": "dca5a7cd",
   "metadata": {},
   "outputs": [
    {
     "name": "stdout",
     "output_type": "stream",
     "text": [
      "214\n",
      "214\n",
      "853\n",
      "853\n"
     ]
    }
   ],
   "source": [
    "#3] Create and train the model (Linear Regression)\n",
    "from sklearn.model_selection import train_test_split\n",
    "x = df.drop('CO2EMISSIONS',axis=1).values\n",
    "y = df['CO2EMISSIONS'].values\n",
    "x_train,x_test,y_train,y_test=train_test_split(x,y,train_size=0.8,random_state=45)\n",
    "print(len(x_test))\n",
    "print(len(y_test))\n",
    "print(len(x_train))\n",
    "print(len(y_train))"
   ]
  },
  {
   "cell_type": "code",
   "execution_count": 217,
   "id": "3b8bf3f3",
   "metadata": {},
   "outputs": [
    {
     "name": "stdout",
     "output_type": "stream",
     "text": [
      "[326.58759109 295.04001643 298.44910074 322.81555794 358.49347827\n",
      " 186.68761397 254.08162002 228.32662151 246.40034132 369.67708056\n",
      " 206.56077666 349.42365825 220.84913215 314.96178856 319.36184379\n",
      " 215.52004662 277.56765636 264.77441264 329.20551422 206.56077666\n",
      " 242.12814693 206.56077666 358.60402832 240.72229484 298.60428064\n",
      " 308.30610234 198.99004802 256.92064326 277.23600619 287.20355784\n",
      " 201.60797114 203.21761257 270.16941839 267.33039515 198.99004802\n",
      " 401.16808655 190.03077806 318.41550271 211.7346823  346.80573513\n",
      " 278.79703817 182.34949936 299.26758099 186.02431362 344.74056229\n",
      " 203.72175342 321.86921686 282.91405267 255.86375212 199.54279831\n",
      " 271.00520941 387.83005176 186.68761397 278.79703817 237.72411209\n",
      " 326.93257244 240.72229484 250.07515558 186.13486368 204.6680945\n",
      " 192.36566046 310.62367395 435.92095619 224.03711634 216.02418747\n",
      " 181.29260822 308.28879156 250.2962557  186.9706547  208.45345882\n",
      " 241.55808586 380.02489183 221.79547323 248.18247342 227.82248067\n",
      " 315.01039801 188.1380959  250.57929643 180.6159767  248.29302348\n",
      " 359.48842879 369.67708056 194.0372425  302.32770434 189.3055371\n",
      " 248.5141236  186.02431362 350.97135907 384.09329688 217.41272878\n",
      " 256.25734291 310.45118328 248.29302348 329.20551422 224.31150168\n",
      " 346.80573513 307.43966937 204.6680945  288.74727904 209.3997999\n",
      " 322.20086703 193.70559232 311.80842593 287.80093796 235.10618897\n",
      " 253.41831967 224.31150168 222.41881952 391.92577586 204.22589427\n",
      " 211.29248206 323.14720811 227.15052493 198.99004802 182.3981088\n",
      " 205.61443558 190.03077806 190.03077806 286.25721676 325.65458118\n",
      " 282.36130238 216.57693776 205.39333547 253.97106996 192.8698013\n",
      " 186.68761397 257.20368399 391.92577586 268.55977696 222.47608436\n",
      " 157.74463127 340.51299774 190.75601902 192.8698013  330.27573652\n",
      " 358.49347827 254.30272014 197.09736586 313.96683804 306.11306867\n",
      " 206.56077666 193.86475183 301.22618337 241.55808586 398.23980365\n",
      " 215.07784639 198.04370694 327.21561317 161.86164576 265.6588131\n",
      " 383.71303726 196.87626574 204.6680945  238.27686238 267.44094521\n",
      " 194.76248346 187.19175482 185.74127289 187.74450511 250.18570564\n",
      " 382.15200528 190.03077806 190.03077806 272.06210055 209.00620912\n",
      " 251.52563751 260.70600758 204.6680945  254.91741104 254.91741104\n",
      " 259.87021656 212.68102338 198.04370694 256.47844303 209.3997999\n",
      " 238.56388273 264.77441264 205.22084479 175.39346162 235.10618897\n",
      " 335.95378301 170.4406561  209.3997999  308.13361167 292.70513404\n",
      " 270.16941839 216.02418747 313.96683804 309.72594232 212.79157344\n",
      " 310.45118328 301.16026315 322.32872787 249.63295535 326.77739255\n",
      " 290.0252703  212.23882315 244.90124995 183.18529038 201.82907126\n",
      " 223.3651606  305.73280905 229.10047192 190.03077806 351.2543998\n",
      " 369.3860806  350.02501799 307.91251155 223.42242544 249.23936456\n",
      " 286.85459688 257.86698434 250.57929643 250.18570564]\n"
     ]
    }
   ],
   "source": [
    "model = LinearRegression()\n",
    "model = model.fit(x_train,y_train)\n"
   ]
  },
  {
   "cell_type": "code",
   "execution_count": 225,
   "id": "428e62e2",
   "metadata": {},
   "outputs": [
    {
     "name": "stdout",
     "output_type": "stream",
     "text": [
      "[326.58759109 295.04001643 298.44910074 322.81555794 358.49347827\n",
      " 186.68761397 254.08162002 228.32662151 246.40034132 369.67708056\n",
      " 206.56077666 349.42365825 220.84913215 314.96178856 319.36184379\n",
      " 215.52004662 277.56765636 264.77441264 329.20551422 206.56077666\n",
      " 242.12814693 206.56077666 358.60402832 240.72229484 298.60428064\n",
      " 308.30610234 198.99004802 256.92064326 277.23600619 287.20355784\n",
      " 201.60797114 203.21761257 270.16941839 267.33039515 198.99004802\n",
      " 401.16808655 190.03077806 318.41550271 211.7346823  346.80573513\n",
      " 278.79703817 182.34949936 299.26758099 186.02431362 344.74056229\n",
      " 203.72175342 321.86921686 282.91405267 255.86375212 199.54279831\n",
      " 271.00520941 387.83005176 186.68761397 278.79703817 237.72411209\n",
      " 326.93257244 240.72229484 250.07515558 186.13486368 204.6680945\n",
      " 192.36566046 310.62367395 435.92095619 224.03711634 216.02418747\n",
      " 181.29260822 308.28879156 250.2962557  186.9706547  208.45345882\n",
      " 241.55808586 380.02489183 221.79547323 248.18247342 227.82248067\n",
      " 315.01039801 188.1380959  250.57929643 180.6159767  248.29302348\n",
      " 359.48842879 369.67708056 194.0372425  302.32770434 189.3055371\n",
      " 248.5141236  186.02431362 350.97135907 384.09329688 217.41272878\n",
      " 256.25734291 310.45118328 248.29302348 329.20551422 224.31150168\n",
      " 346.80573513 307.43966937 204.6680945  288.74727904 209.3997999\n",
      " 322.20086703 193.70559232 311.80842593 287.80093796 235.10618897\n",
      " 253.41831967 224.31150168 222.41881952 391.92577586 204.22589427\n",
      " 211.29248206 323.14720811 227.15052493 198.99004802 182.3981088\n",
      " 205.61443558 190.03077806 190.03077806 286.25721676 325.65458118\n",
      " 282.36130238 216.57693776 205.39333547 253.97106996 192.8698013\n",
      " 186.68761397 257.20368399 391.92577586 268.55977696 222.47608436\n",
      " 157.74463127 340.51299774 190.75601902 192.8698013  330.27573652\n",
      " 358.49347827 254.30272014 197.09736586 313.96683804 306.11306867\n",
      " 206.56077666 193.86475183 301.22618337 241.55808586 398.23980365\n",
      " 215.07784639 198.04370694 327.21561317 161.86164576 265.6588131\n",
      " 383.71303726 196.87626574 204.6680945  238.27686238 267.44094521\n",
      " 194.76248346 187.19175482 185.74127289 187.74450511 250.18570564\n",
      " 382.15200528 190.03077806 190.03077806 272.06210055 209.00620912\n",
      " 251.52563751 260.70600758 204.6680945  254.91741104 254.91741104\n",
      " 259.87021656 212.68102338 198.04370694 256.47844303 209.3997999\n",
      " 238.56388273 264.77441264 205.22084479 175.39346162 235.10618897\n",
      " 335.95378301 170.4406561  209.3997999  308.13361167 292.70513404\n",
      " 270.16941839 216.02418747 313.96683804 309.72594232 212.79157344\n",
      " 310.45118328 301.16026315 322.32872787 249.63295535 326.77739255\n",
      " 290.0252703  212.23882315 244.90124995 183.18529038 201.82907126\n",
      " 223.3651606  305.73280905 229.10047192 190.03077806 351.2543998\n",
      " 369.3860806  350.02501799 307.91251155 223.42242544 249.23936456\n",
      " 286.85459688 257.86698434 250.57929643 250.18570564]\n"
     ]
    }
   ],
   "source": [
    "y_predict = model.predict(x_test)\n",
    "print(y_predict)"
   ]
  },
  {
   "cell_type": "code",
   "execution_count": 206,
   "id": "d7832388",
   "metadata": {},
   "outputs": [
    {
     "data": {
      "text/plain": [
       "<AxesSubplot: >"
      ]
     },
     "execution_count": 206,
     "metadata": {},
     "output_type": "execute_result"
    },
    {
     "data": {
      "image/png": "[encoded data removed]",
      "text/plain": [
       "<Figure size 432x288 with 2 Axes>"
      ]
     },
     "metadata": {
      "needs_background": "light"
     },
     "output_type": "display_data"
    }
   ],
   "source": [
    "sns.heatmap(df.corr(),annot=True,)"
   ]
  },
  {
   "cell_type": "code",
   "execution_count": 220,
   "id": "b5d7fe43",
   "metadata": {},
   "outputs": [
    {
     "data": {
      "text/plain": [
       "array([ -9.58759109,  -3.04001643, -47.44910074,  29.18444206,\n",
       "       -64.49347827, -20.68761397,  -3.08162002,  38.67337849,\n",
       "       -11.40034132,  62.32291944,   7.43922334,  64.57634175,\n",
       "       -48.84913215,   2.03821144,  16.63815621,   9.47995338,\n",
       "        12.43234364,  27.22558736,  -0.20551422,   7.43922334,\n",
       "        45.87185307,   7.43922334,  62.39597168, -19.72229484,\n",
       "         7.39571936, -31.30610234,  -2.99004802,   1.07935674,\n",
       "        19.76399381, -57.20355784,   5.39202886,  -7.21761257,\n",
       "        19.83058161,  15.66960485,  -2.99004802,  19.83191345,\n",
       "        -6.03077806,  15.58449729,   4.2653177 , -66.80573513,\n",
       "        29.20296183, -14.34949936,  -7.26758099,  -7.02431362,\n",
       "        35.25943771,   3.27824658,  28.13078314,  27.08594733,\n",
       "         2.13624788, -15.54279831,  22.99479059, -43.83005176,\n",
       "       -20.68761397,  29.20296183,   1.27588791,  27.06742756,\n",
       "       -19.72229484,  -4.07515558,  -9.13486368,   4.3319055 ,\n",
       "       -13.36566046,   9.37632605, -22.92095619,  21.96288366,\n",
       "       -51.02418747, -13.29260822,  15.71120844,  -8.2962557 ,\n",
       "        -4.9706547 ,   9.54654118, -16.55808586,  56.97510817,\n",
       "       -46.79547323,  -6.18247342,  27.17751933, -21.01039801,\n",
       "        -9.1380959 ,   7.42070357, -42.6159767 ,  -9.29302348,\n",
       "        42.51157121,  62.32291944,  -5.0372425 ,  -8.32770434,\n",
       "       -12.3055371 , -13.5141236 ,  -7.02431362,  31.02864093,\n",
       "       -62.09329688,  12.58727122,  14.74265709,  -9.45118328,\n",
       "        -9.29302348,  -0.20551422,   0.68849832, -66.80573513,\n",
       "       -31.43966937,   4.3319055 , -19.74727904,  11.6002001 ,\n",
       "        20.79913297,   2.29440768, -39.80842593, -20.80093796,\n",
       "        -7.10618897,  10.58168033,   0.68849832,  -1.41881952,\n",
       "         1.07422414,  13.77410573,  13.70751794,  21.85279189,\n",
       "         4.84947507,  -2.99004802, -37.3981088 ,   6.38556442,\n",
       "        -6.03077806,  -6.03077806, -57.25721676,  33.34541882,\n",
       "       -58.36130238,   8.42306224,  10.60666453,  -0.97106996,\n",
       "        -1.8698013 ,   7.31238603,  16.79631601,   1.07422414,\n",
       "        32.44022304,  12.52391564, -49.74463127,  39.48700226,\n",
       "         0.24398098,  -1.8698013 ,  42.72426348, -64.49347827,\n",
       "        -8.30272014,  -6.09736586,  24.03316196,  -2.11306867,\n",
       "         7.43922334, -23.86475183,  45.77381663, -16.55808586,\n",
       "       -36.23980365,  19.92215361,  -5.04370694,  42.78438683,\n",
       "       -51.86164576,   8.3411869 , -41.71303726,  -0.87626574,\n",
       "         4.3319055 , -10.27686238,  13.55905479,   1.23751654,\n",
       "       -10.19175482,   6.25872711,   6.25549489,  -6.18570564,\n",
       "       -48.15200528,  -6.03077806,  -6.03077806,  21.93789945,\n",
       "        -2.00620912,   8.47436249,   6.29399242,   4.3319055 ,\n",
       "         0.08258896,   0.08258896,   2.12978344,   5.31897662,\n",
       "        -5.04370694,  10.52155697,  11.6002001 ,  35.43611727,\n",
       "        27.22558736,  -7.22084479, -16.39346162,  -7.10618897,\n",
       "        50.04621699, -18.4406561 ,  11.6002001 , -44.13361167,\n",
       "         4.29486596,  19.83058161,  20.97581253,  24.03316196,\n",
       "       -15.72594232,   3.20842656,  -9.45118328,  -4.16026315,\n",
       "       -34.32872787,   5.36704465, -41.77739255, -26.0252703 ,\n",
       "        15.76117685,  41.09875005, -10.18529038,   0.17092874,\n",
       "        -0.3651606 ,  28.26719095,  21.89952808,  -6.03077806,\n",
       "        46.7456002 , -13.3860806 ,  29.97498201, -40.91251155,\n",
       "        13.57757456,  -7.23936456, -22.85459688,   2.13301566,\n",
       "         7.42070357,  -6.18570564])"
      ]
     },
     "execution_count": 220,
     "metadata": {},
     "output_type": "execute_result"
    }
   ],
   "source": [
    "error = y_test-y_predict\n",
    "error"
   ]
  },
  {
   "cell_type": "code",
   "execution_count": 224,
   "id": "578679af",
   "metadata": {},
   "outputs": [
    {
     "name": "stdout",
     "output_type": "stream",
     "text": [
      "Mean Squared Error: 656.3409042833761\n",
      "Root Mean Squared Error: 25.619151123395483\n",
      "Mean Absolute Error: 18.835276154293563\n",
      "R2 Score: 0.8563451608779153\n"
     ]
    }
   ],
   "source": [
    "# 5] check the models performance using different performance metrics like mean absolute error, \n",
    "# mean squared error, root mean squared error, R squared.\n",
    "from sklearn.metrics import mean_absolute_error,mean_squared_error,r2_score\n",
    "mse = mean_squared_error(y_test,y_predict)\n",
    "print(\"Mean Squared Error:\",mse)\n",
    "rmse = np.sqrt(mse)\n",
    "print(\"Root Mean Squared Error:\",rmse)\n",
    "mae = mean_absolute_error(y_test,y_predict)\n",
    "print(\"Mean Absolute Error:\",mae)\n",
    "r2 = r2_score(y_test,y_predict)\n",
    "print(\"R2 Score:\",r2)"
   ]
  },
  {
   "cell_type": "code",
   "execution_count": null,
   "id": "6a34d927",
   "metadata": {},
   "outputs": [],
   "source": [
    "5] observe the correlation of independent variables with dependent variables, change the independent\n",
    "variables whose strength is less with respect to dependent variables and check the model performance \n",
    "again.\n",
    "Hint: This question is based on Multiple Linear Regression."
   ]
  },
  {
   "cell_type": "code",
   "execution_count": 236,
   "id": "cf8ad6d6",
   "metadata": {},
   "outputs": [
    {
     "data": {
      "text/html": [
       "<div>\n",
       "<style scoped>\n",
       "    .dataframe tbody tr th:only-of-type {\n",
       "        vertical-align: middle;\n",
       "    }\n",
       "\n",
       "    .dataframe tbody tr th {\n",
       "        vertical-align: top;\n",
       "    }\n",
       "\n",
       "    .dataframe thead th {\n",
       "        text-align: right;\n",
       "    }\n",
       "</style>\n",
       "<table border=\"1\" class=\"dataframe\">\n",
       "  <thead>\n",
       "    <tr style=\"text-align: right;\">\n",
       "      <th></th>\n",
       "      <th>ENGINESIZE</th>\n",
       "      <th>CYLINDERS</th>\n",
       "      <th>FUELCONSUMPTION_COMB</th>\n",
       "      <th>CO2EMISSIONS</th>\n",
       "    </tr>\n",
       "  </thead>\n",
       "  <tbody>\n",
       "    <tr>\n",
       "      <th>ENGINESIZE</th>\n",
       "      <td>1.000000</td>\n",
       "      <td>0.934011</td>\n",
       "      <td>0.819482</td>\n",
       "      <td>0.874154</td>\n",
       "    </tr>\n",
       "    <tr>\n",
       "      <th>CYLINDERS</th>\n",
       "      <td>0.934011</td>\n",
       "      <td>1.000000</td>\n",
       "      <td>0.776788</td>\n",
       "      <td>0.849685</td>\n",
       "    </tr>\n",
       "    <tr>\n",
       "      <th>FUELCONSUMPTION_COMB</th>\n",
       "      <td>0.819482</td>\n",
       "      <td>0.776788</td>\n",
       "      <td>1.000000</td>\n",
       "      <td>0.892129</td>\n",
       "    </tr>\n",
       "    <tr>\n",
       "      <th>CO2EMISSIONS</th>\n",
       "      <td>0.874154</td>\n",
       "      <td>0.849685</td>\n",
       "      <td>0.892129</td>\n",
       "      <td>1.000000</td>\n",
       "    </tr>\n",
       "  </tbody>\n",
       "</table>\n",
       "</div>"
      ],
      "text/plain": [
       "                      ENGINESIZE  CYLINDERS  FUELCONSUMPTION_COMB  \\\n",
       "ENGINESIZE              1.000000   0.934011              0.819482   \n",
       "CYLINDERS               0.934011   1.000000              0.776788   \n",
       "FUELCONSUMPTION_COMB    0.819482   0.776788              1.000000   \n",
       "CO2EMISSIONS            0.874154   0.849685              0.892129   \n",
       "\n",
       "                      CO2EMISSIONS  \n",
       "ENGINESIZE                0.874154  \n",
       "CYLINDERS                 0.849685  \n",
       "FUELCONSUMPTION_COMB      0.892129  \n",
       "CO2EMISSIONS              1.000000  "
      ]
     },
     "execution_count": 236,
     "metadata": {},
     "output_type": "execute_result"
    }
   ],
   "source": [
    "df.corr()"
   ]
  },
  {
   "cell_type": "code",
   "execution_count": 239,
   "id": "e31292b3",
   "metadata": {},
   "outputs": [],
   "source": [
    "x = df.drop(['CYLINDERS','CO2EMISSIONS'],axis=True).values\n",
    "y = df['CO2EMISSIONS'].values"
   ]
  },
  {
   "cell_type": "code",
   "execution_count": 240,
   "id": "0214676e",
   "metadata": {},
   "outputs": [],
   "source": [
    "x_train,x_test,y_train,y_test = train_test_split(x,y,train_size=0.8,random_state=45)"
   ]
  },
  {
   "cell_type": "code",
   "execution_count": 241,
   "id": "0e2e6689",
   "metadata": {},
   "outputs": [],
   "source": [
    "model = LinearRegression()\n",
    "model = model.fit(x_train,y_train)\n",
    "y_predict = model.predict(x_test)"
   ]
  },
  {
   "cell_type": "code",
   "execution_count": 242,
   "id": "bec86d3b",
   "metadata": {},
   "outputs": [
    {
     "name": "stdout",
     "output_type": "stream",
     "text": [
      "Mean Squared Error: 675.1719697036453\n",
      "Root Mean Squared Error: 25.984071461255745\n",
      "Mean Absolute Error: 19.02642050641949\n",
      "R2 Score: 0.8522235623979304\n"
     ]
    }
   ],
   "source": [
    "mse = mean_squared_error(y_test,y_predict)\n",
    "print(\"Mean Squared Error:\",mse)\n",
    "rmse = np.sqrt(mse)\n",
    "print(\"Root Mean Squared Error:\",rmse)\n",
    "mae = mean_absolute_error(y_test,y_predict)\n",
    "print(\"Mean Absolute Error:\",mae)\n",
    "r2 = r2_score(y_test,y_predict)\n",
    "print(\"R2 Score:\",r2)"
   ]
  },
  {
   "cell_type": "code",
   "execution_count": null,
   "id": "54480ce4",
   "metadata": {},
   "outputs": [],
   "source": [
    "5] predict the Co2emission where the ENGINESIZE is 2.0, CYLINDERS is 4, UELCONSUMPTION_COMB is 8."
   ]
  },
  {
   "cell_type": "code",
   "execution_count": 244,
   "id": "3ece9547",
   "metadata": {},
   "outputs": [
    {
     "ename": "ValueError",
     "evalue": "X has 3 features, but LinearRegression is expecting 2 features as input.",
     "output_type": "error",
     "traceback": [
      "\u001b[1;31m---------------------------------------------------------------------------\u001b[0m",
      "\u001b[1;31mValueError\u001b[0m                                Traceback (most recent call last)",
      "Input \u001b[1;32mIn [244]\u001b[0m, in \u001b[0;36m<cell line: 1>\u001b[1;34m()\u001b[0m\n\u001b[1;32m----> 1\u001b[0m ans \u001b[38;5;241m=\u001b[39m \u001b[43mmodel\u001b[49m\u001b[38;5;241;43m.\u001b[39;49m\u001b[43mpredict\u001b[49m\u001b[43m(\u001b[49m\u001b[43m[\u001b[49m\u001b[43m[\u001b[49m\u001b[38;5;241;43m2.0\u001b[39;49m\u001b[43m,\u001b[49m\u001b[38;5;241;43m4\u001b[39;49m\u001b[43m,\u001b[49m\u001b[38;5;241;43m8\u001b[39;49m\u001b[43m]\u001b[49m\u001b[43m]\u001b[49m\u001b[43m)\u001b[49m\n\u001b[0;32m      3\u001b[0m ans\n",
      "File \u001b[1;32mC:\\python 3.10\\lib\\site-packages\\sklearn\\linear_model\\_base.py:354\u001b[0m, in \u001b[0;36mLinearModel.predict\u001b[1;34m(self, X)\u001b[0m\n\u001b[0;32m    340\u001b[0m \u001b[38;5;28;01mdef\u001b[39;00m \u001b[38;5;21mpredict\u001b[39m(\u001b[38;5;28mself\u001b[39m, X):\n\u001b[0;32m    341\u001b[0m     \u001b[38;5;124;03m\"\"\"\u001b[39;00m\n\u001b[0;32m    342\u001b[0m \u001b[38;5;124;03m    Predict using the linear model.\u001b[39;00m\n\u001b[0;32m    343\u001b[0m \n\u001b[1;32m   (...)\u001b[0m\n\u001b[0;32m    352\u001b[0m \u001b[38;5;124;03m        Returns predicted values.\u001b[39;00m\n\u001b[0;32m    353\u001b[0m \u001b[38;5;124;03m    \"\"\"\u001b[39;00m\n\u001b[1;32m--> 354\u001b[0m     \u001b[38;5;28;01mreturn\u001b[39;00m \u001b[38;5;28;43mself\u001b[39;49m\u001b[38;5;241;43m.\u001b[39;49m\u001b[43m_decision_function\u001b[49m\u001b[43m(\u001b[49m\u001b[43mX\u001b[49m\u001b[43m)\u001b[49m\n",
      "File \u001b[1;32mC:\\python 3.10\\lib\\site-packages\\sklearn\\linear_model\\_base.py:337\u001b[0m, in \u001b[0;36mLinearModel._decision_function\u001b[1;34m(self, X)\u001b[0m\n\u001b[0;32m    334\u001b[0m \u001b[38;5;28;01mdef\u001b[39;00m \u001b[38;5;21m_decision_function\u001b[39m(\u001b[38;5;28mself\u001b[39m, X):\n\u001b[0;32m    335\u001b[0m     check_is_fitted(\u001b[38;5;28mself\u001b[39m)\n\u001b[1;32m--> 337\u001b[0m     X \u001b[38;5;241m=\u001b[39m \u001b[38;5;28;43mself\u001b[39;49m\u001b[38;5;241;43m.\u001b[39;49m\u001b[43m_validate_data\u001b[49m\u001b[43m(\u001b[49m\u001b[43mX\u001b[49m\u001b[43m,\u001b[49m\u001b[43m \u001b[49m\u001b[43maccept_sparse\u001b[49m\u001b[38;5;241;43m=\u001b[39;49m\u001b[43m[\u001b[49m\u001b[38;5;124;43m\"\u001b[39;49m\u001b[38;5;124;43mcsr\u001b[39;49m\u001b[38;5;124;43m\"\u001b[39;49m\u001b[43m,\u001b[49m\u001b[43m \u001b[49m\u001b[38;5;124;43m\"\u001b[39;49m\u001b[38;5;124;43mcsc\u001b[39;49m\u001b[38;5;124;43m\"\u001b[39;49m\u001b[43m,\u001b[49m\u001b[43m \u001b[49m\u001b[38;5;124;43m\"\u001b[39;49m\u001b[38;5;124;43mcoo\u001b[39;49m\u001b[38;5;124;43m\"\u001b[39;49m\u001b[43m]\u001b[49m\u001b[43m,\u001b[49m\u001b[43m \u001b[49m\u001b[43mreset\u001b[49m\u001b[38;5;241;43m=\u001b[39;49m\u001b[38;5;28;43;01mFalse\u001b[39;49;00m\u001b[43m)\u001b[49m\n\u001b[0;32m    338\u001b[0m     \u001b[38;5;28;01mreturn\u001b[39;00m safe_sparse_dot(X, \u001b[38;5;28mself\u001b[39m\u001b[38;5;241m.\u001b[39mcoef_\u001b[38;5;241m.\u001b[39mT, dense_output\u001b[38;5;241m=\u001b[39m\u001b[38;5;28;01mTrue\u001b[39;00m) \u001b[38;5;241m+\u001b[39m \u001b[38;5;28mself\u001b[39m\u001b[38;5;241m.\u001b[39mintercept_\n",
      "File \u001b[1;32mC:\\python 3.10\\lib\\site-packages\\sklearn\\base.py:588\u001b[0m, in \u001b[0;36mBaseEstimator._validate_data\u001b[1;34m(self, X, y, reset, validate_separately, **check_params)\u001b[0m\n\u001b[0;32m    585\u001b[0m     out \u001b[38;5;241m=\u001b[39m X, y\n\u001b[0;32m    587\u001b[0m \u001b[38;5;28;01mif\u001b[39;00m \u001b[38;5;129;01mnot\u001b[39;00m no_val_X \u001b[38;5;129;01mand\u001b[39;00m check_params\u001b[38;5;241m.\u001b[39mget(\u001b[38;5;124m\"\u001b[39m\u001b[38;5;124mensure_2d\u001b[39m\u001b[38;5;124m\"\u001b[39m, \u001b[38;5;28;01mTrue\u001b[39;00m):\n\u001b[1;32m--> 588\u001b[0m     \u001b[38;5;28;43mself\u001b[39;49m\u001b[38;5;241;43m.\u001b[39;49m\u001b[43m_check_n_features\u001b[49m\u001b[43m(\u001b[49m\u001b[43mX\u001b[49m\u001b[43m,\u001b[49m\u001b[43m \u001b[49m\u001b[43mreset\u001b[49m\u001b[38;5;241;43m=\u001b[39;49m\u001b[43mreset\u001b[49m\u001b[43m)\u001b[49m\n\u001b[0;32m    590\u001b[0m \u001b[38;5;28;01mreturn\u001b[39;00m out\n",
      "File \u001b[1;32mC:\\python 3.10\\lib\\site-packages\\sklearn\\base.py:389\u001b[0m, in \u001b[0;36mBaseEstimator._check_n_features\u001b[1;34m(self, X, reset)\u001b[0m\n\u001b[0;32m    386\u001b[0m     \u001b[38;5;28;01mreturn\u001b[39;00m\n\u001b[0;32m    388\u001b[0m \u001b[38;5;28;01mif\u001b[39;00m n_features \u001b[38;5;241m!=\u001b[39m \u001b[38;5;28mself\u001b[39m\u001b[38;5;241m.\u001b[39mn_features_in_:\n\u001b[1;32m--> 389\u001b[0m     \u001b[38;5;28;01mraise\u001b[39;00m \u001b[38;5;167;01mValueError\u001b[39;00m(\n\u001b[0;32m    390\u001b[0m         \u001b[38;5;124mf\u001b[39m\u001b[38;5;124m\"\u001b[39m\u001b[38;5;124mX has \u001b[39m\u001b[38;5;132;01m{\u001b[39;00mn_features\u001b[38;5;132;01m}\u001b[39;00m\u001b[38;5;124m features, but \u001b[39m\u001b[38;5;132;01m{\u001b[39;00m\u001b[38;5;28mself\u001b[39m\u001b[38;5;241m.\u001b[39m\u001b[38;5;18m__class__\u001b[39m\u001b[38;5;241m.\u001b[39m\u001b[38;5;18m__name__\u001b[39m\u001b[38;5;132;01m}\u001b[39;00m\u001b[38;5;124m \u001b[39m\u001b[38;5;124m\"\u001b[39m\n\u001b[0;32m    391\u001b[0m         \u001b[38;5;124mf\u001b[39m\u001b[38;5;124m\"\u001b[39m\u001b[38;5;124mis expecting \u001b[39m\u001b[38;5;132;01m{\u001b[39;00m\u001b[38;5;28mself\u001b[39m\u001b[38;5;241m.\u001b[39mn_features_in_\u001b[38;5;132;01m}\u001b[39;00m\u001b[38;5;124m features as input.\u001b[39m\u001b[38;5;124m\"\u001b[39m\n\u001b[0;32m    392\u001b[0m     )\n",
      "\u001b[1;31mValueError\u001b[0m: X has 3 features, but LinearRegression is expecting 2 features as input."
     ]
    }
   ],
   "source": [
    "ans = model.predict([[2.0,4,8]])\n",
    "\n",
    "ans"
   ]
  },
  {
   "cell_type": "code",
   "execution_count": 243,
   "id": "23c783ee",
   "metadata": {},
   "outputs": [
    {
     "ename": "ValueError",
     "evalue": "X has 3 features, but LinearRegression is expecting 2 features as input.",
     "output_type": "error",
     "traceback": [
      "\u001b[1;31m---------------------------------------------------------------------------\u001b[0m",
      "\u001b[1;31mValueError\u001b[0m                                Traceback (most recent call last)",
      "Input \u001b[1;32mIn [243]\u001b[0m, in \u001b[0;36m<cell line: 1>\u001b[1;34m()\u001b[0m\n\u001b[1;32m----> 1\u001b[0m ans \u001b[38;5;241m=\u001b[39m \u001b[43mmodel\u001b[49m\u001b[38;5;241;43m.\u001b[39;49m\u001b[43mpredict\u001b[49m\u001b[43m(\u001b[49m\u001b[43m[\u001b[49m\u001b[43m[\u001b[49m\u001b[38;5;241;43m4\u001b[39;49m\u001b[43m,\u001b[49m\u001b[38;5;241;43m16\u001b[39;49m\u001b[43m,\u001b[49m\u001b[38;5;241;43m64\u001b[39;49m\u001b[43m]\u001b[49m\u001b[43m]\u001b[49m\u001b[43m)\u001b[49m\n\u001b[0;32m      2\u001b[0m ans\n",
      "File \u001b[1;32mC:\\python 3.10\\lib\\site-packages\\sklearn\\linear_model\\_base.py:354\u001b[0m, in \u001b[0;36mLinearModel.predict\u001b[1;34m(self, X)\u001b[0m\n\u001b[0;32m    340\u001b[0m \u001b[38;5;28;01mdef\u001b[39;00m \u001b[38;5;21mpredict\u001b[39m(\u001b[38;5;28mself\u001b[39m, X):\n\u001b[0;32m    341\u001b[0m     \u001b[38;5;124;03m\"\"\"\u001b[39;00m\n\u001b[0;32m    342\u001b[0m \u001b[38;5;124;03m    Predict using the linear model.\u001b[39;00m\n\u001b[0;32m    343\u001b[0m \n\u001b[1;32m   (...)\u001b[0m\n\u001b[0;32m    352\u001b[0m \u001b[38;5;124;03m        Returns predicted values.\u001b[39;00m\n\u001b[0;32m    353\u001b[0m \u001b[38;5;124;03m    \"\"\"\u001b[39;00m\n\u001b[1;32m--> 354\u001b[0m     \u001b[38;5;28;01mreturn\u001b[39;00m \u001b[38;5;28;43mself\u001b[39;49m\u001b[38;5;241;43m.\u001b[39;49m\u001b[43m_decision_function\u001b[49m\u001b[43m(\u001b[49m\u001b[43mX\u001b[49m\u001b[43m)\u001b[49m\n",
      "File \u001b[1;32mC:\\python 3.10\\lib\\site-packages\\sklearn\\linear_model\\_base.py:337\u001b[0m, in \u001b[0;36mLinearModel._decision_function\u001b[1;34m(self, X)\u001b[0m\n\u001b[0;32m    334\u001b[0m \u001b[38;5;28;01mdef\u001b[39;00m \u001b[38;5;21m_decision_function\u001b[39m(\u001b[38;5;28mself\u001b[39m, X):\n\u001b[0;32m    335\u001b[0m     check_is_fitted(\u001b[38;5;28mself\u001b[39m)\n\u001b[1;32m--> 337\u001b[0m     X \u001b[38;5;241m=\u001b[39m \u001b[38;5;28;43mself\u001b[39;49m\u001b[38;5;241;43m.\u001b[39;49m\u001b[43m_validate_data\u001b[49m\u001b[43m(\u001b[49m\u001b[43mX\u001b[49m\u001b[43m,\u001b[49m\u001b[43m \u001b[49m\u001b[43maccept_sparse\u001b[49m\u001b[38;5;241;43m=\u001b[39;49m\u001b[43m[\u001b[49m\u001b[38;5;124;43m\"\u001b[39;49m\u001b[38;5;124;43mcsr\u001b[39;49m\u001b[38;5;124;43m\"\u001b[39;49m\u001b[43m,\u001b[49m\u001b[43m \u001b[49m\u001b[38;5;124;43m\"\u001b[39;49m\u001b[38;5;124;43mcsc\u001b[39;49m\u001b[38;5;124;43m\"\u001b[39;49m\u001b[43m,\u001b[49m\u001b[43m \u001b[49m\u001b[38;5;124;43m\"\u001b[39;49m\u001b[38;5;124;43mcoo\u001b[39;49m\u001b[38;5;124;43m\"\u001b[39;49m\u001b[43m]\u001b[49m\u001b[43m,\u001b[49m\u001b[43m \u001b[49m\u001b[43mreset\u001b[49m\u001b[38;5;241;43m=\u001b[39;49m\u001b[38;5;28;43;01mFalse\u001b[39;49;00m\u001b[43m)\u001b[49m\n\u001b[0;32m    338\u001b[0m     \u001b[38;5;28;01mreturn\u001b[39;00m safe_sparse_dot(X, \u001b[38;5;28mself\u001b[39m\u001b[38;5;241m.\u001b[39mcoef_\u001b[38;5;241m.\u001b[39mT, dense_output\u001b[38;5;241m=\u001b[39m\u001b[38;5;28;01mTrue\u001b[39;00m) \u001b[38;5;241m+\u001b[39m \u001b[38;5;28mself\u001b[39m\u001b[38;5;241m.\u001b[39mintercept_\n",
      "File \u001b[1;32mC:\\python 3.10\\lib\\site-packages\\sklearn\\base.py:588\u001b[0m, in \u001b[0;36mBaseEstimator._validate_data\u001b[1;34m(self, X, y, reset, validate_separately, **check_params)\u001b[0m\n\u001b[0;32m    585\u001b[0m     out \u001b[38;5;241m=\u001b[39m X, y\n\u001b[0;32m    587\u001b[0m \u001b[38;5;28;01mif\u001b[39;00m \u001b[38;5;129;01mnot\u001b[39;00m no_val_X \u001b[38;5;129;01mand\u001b[39;00m check_params\u001b[38;5;241m.\u001b[39mget(\u001b[38;5;124m\"\u001b[39m\u001b[38;5;124mensure_2d\u001b[39m\u001b[38;5;124m\"\u001b[39m, \u001b[38;5;28;01mTrue\u001b[39;00m):\n\u001b[1;32m--> 588\u001b[0m     \u001b[38;5;28;43mself\u001b[39;49m\u001b[38;5;241;43m.\u001b[39;49m\u001b[43m_check_n_features\u001b[49m\u001b[43m(\u001b[49m\u001b[43mX\u001b[49m\u001b[43m,\u001b[49m\u001b[43m \u001b[49m\u001b[43mreset\u001b[49m\u001b[38;5;241;43m=\u001b[39;49m\u001b[43mreset\u001b[49m\u001b[43m)\u001b[49m\n\u001b[0;32m    590\u001b[0m \u001b[38;5;28;01mreturn\u001b[39;00m out\n",
      "File \u001b[1;32mC:\\python 3.10\\lib\\site-packages\\sklearn\\base.py:389\u001b[0m, in \u001b[0;36mBaseEstimator._check_n_features\u001b[1;34m(self, X, reset)\u001b[0m\n\u001b[0;32m    386\u001b[0m     \u001b[38;5;28;01mreturn\u001b[39;00m\n\u001b[0;32m    388\u001b[0m \u001b[38;5;28;01mif\u001b[39;00m n_features \u001b[38;5;241m!=\u001b[39m \u001b[38;5;28mself\u001b[39m\u001b[38;5;241m.\u001b[39mn_features_in_:\n\u001b[1;32m--> 389\u001b[0m     \u001b[38;5;28;01mraise\u001b[39;00m \u001b[38;5;167;01mValueError\u001b[39;00m(\n\u001b[0;32m    390\u001b[0m         \u001b[38;5;124mf\u001b[39m\u001b[38;5;124m\"\u001b[39m\u001b[38;5;124mX has \u001b[39m\u001b[38;5;132;01m{\u001b[39;00mn_features\u001b[38;5;132;01m}\u001b[39;00m\u001b[38;5;124m features, but \u001b[39m\u001b[38;5;132;01m{\u001b[39;00m\u001b[38;5;28mself\u001b[39m\u001b[38;5;241m.\u001b[39m\u001b[38;5;18m__class__\u001b[39m\u001b[38;5;241m.\u001b[39m\u001b[38;5;18m__name__\u001b[39m\u001b[38;5;132;01m}\u001b[39;00m\u001b[38;5;124m \u001b[39m\u001b[38;5;124m\"\u001b[39m\n\u001b[0;32m    391\u001b[0m         \u001b[38;5;124mf\u001b[39m\u001b[38;5;124m\"\u001b[39m\u001b[38;5;124mis expecting \u001b[39m\u001b[38;5;132;01m{\u001b[39;00m\u001b[38;5;28mself\u001b[39m\u001b[38;5;241m.\u001b[39mn_features_in_\u001b[38;5;132;01m}\u001b[39;00m\u001b[38;5;124m features as input.\u001b[39m\u001b[38;5;124m\"\u001b[39m\n\u001b[0;32m    392\u001b[0m     )\n",
      "\u001b[1;31mValueError\u001b[0m: X has 3 features, but LinearRegression is expecting 2 features as input."
     ]
    }
   ],
   "source": [
    "ans = model.predict([[4,16,64]])\n",
    "ans"
   ]
  },
  {
   "cell_type": "code",
   "execution_count": null,
   "id": "082478b0",
   "metadata": {},
   "outputs": [],
   "source": []
  },
  {
   "cell_type": "code",
   "execution_count": null,
   "id": "2a143231",
   "metadata": {},
   "outputs": [],
   "source": []
  },
  {
   "cell_type": "code",
   "execution_count": null,
   "id": "b7654a59",
   "metadata": {},
   "outputs": [],
   "source": []
  },
  {
   "cell_type": "code",
   "execution_count": null,
   "id": "2af2c932",
   "metadata": {},
   "outputs": [],
   "source": []
  },
  {
   "cell_type": "code",
   "execution_count": null,
   "id": "39613d01",
   "metadata": {},
   "outputs": [],
   "source": []
  },
  {
   "cell_type": "code",
   "execution_count": null,
   "id": "84258367",
   "metadata": {},
   "outputs": [],
   "source": []
  },
  {
   "cell_type": "code",
   "execution_count": null,
   "id": "e4e0c324",
   "metadata": {},
   "outputs": [],
   "source": []
  },
  {
   "cell_type": "code",
   "execution_count": null,
   "id": "6a23eaac",
   "metadata": {},
   "outputs": [],
   "source": []
  },
  {
   "cell_type": "code",
   "execution_count": null,
   "id": "62ad89ea",
   "metadata": {},
   "outputs": [],
   "source": []
  },
  {
   "cell_type": "code",
   "execution_count": null,
   "id": "c6446dec",
   "metadata": {},
   "outputs": [],
   "source": []
  },
  {
   "cell_type": "code",
   "execution_count": null,
   "id": "a545cd45",
   "metadata": {},
   "outputs": [],
   "source": []
  },
  {
   "cell_type": "code",
   "execution_count": null,
   "id": "b240bfb8",
   "metadata": {},
   "outputs": [],
   "source": []
  },
  {
   "cell_type": "code",
   "execution_count": null,
   "id": "7d201721",
   "metadata": {},
   "outputs": [],
   "source": []
  },
  {
   "cell_type": "code",
   "execution_count": null,
   "id": "1c0faef3",
   "metadata": {},
   "outputs": [],
   "source": []
  },
  {
   "cell_type": "code",
   "execution_count": 218,
   "id": "40caae84",
   "metadata": {},
   "outputs": [
    {
     "ename": "SyntaxError",
     "evalue": "unmatched ']' (4192192219.py, line 3)",
     "output_type": "error",
     "traceback": [
      "\u001b[1;36m  Input \u001b[1;32mIn [218]\u001b[1;36m\u001b[0m\n\u001b[1;33m    4] predict the data\u001b[0m\n\u001b[1;37m     ^\u001b[0m\n\u001b[1;31mSyntaxError\u001b[0m\u001b[1;31m:\u001b[0m unmatched ']'\n"
     ]
    }
   ],
   "source": []
  },
  {
   "cell_type": "code",
   "execution_count": null,
   "id": "6088f35e",
   "metadata": {},
   "outputs": [],
   "source": []
  },
  {
   "cell_type": "code",
   "execution_count": null,
   "id": "868ff136",
   "metadata": {},
   "outputs": [],
   "source": []
  },
  {
   "cell_type": "code",
   "execution_count": null,
   "id": "2adeea42",
   "metadata": {},
   "outputs": [],
   "source": []
  },
  {
   "cell_type": "code",
   "execution_count": null,
   "id": "81bb3b7e",
   "metadata": {},
   "outputs": [],
   "source": []
  },
  {
   "cell_type": "code",
   "execution_count": null,
   "id": "7e296dd1",
   "metadata": {},
   "outputs": [],
   "source": []
  },
  {
   "cell_type": "code",
   "execution_count": null,
   "id": "1d360cc9",
   "metadata": {},
   "outputs": [],
   "source": []
  },
  {
   "cell_type": "code",
   "execution_count": null,
   "id": "3b00c0a9",
   "metadata": {},
   "outputs": [],
   "source": []
  }
 ],
 "metadata": {
  "kernelspec": {
   "display_name": "Python 3 (ipykernel)",
   "language": "python",
   "name": "python3"
  },
  "language_info": {
   "codemirror_mode": {
    "name": "ipython",
    "version": 3
   },
   "file_extension": ".py",
   "mimetype": "text/x-python",
   "name": "python",
   "nbconvert_exporter": "python",
   "pygments_lexer": "ipython3",
   "version": "3.10.5"
  }
 },
 "nbformat": 4,
 "nbformat_minor": 5
}
